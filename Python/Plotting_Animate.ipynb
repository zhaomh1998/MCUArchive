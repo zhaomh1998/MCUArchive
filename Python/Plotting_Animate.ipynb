{
 "cells": [
  {
   "cell_type": "code",
   "execution_count": 21,
   "metadata": {},
   "outputs": [],
   "source": [
    "import numpy as np\n",
    "import pandas as pd\n",
    "x = np.arange(100)\n",
    "y = np.sin(x)"
   ]
  },
  {
   "cell_type": "markdown",
   "metadata": {},
   "source": [
    "## Scatter plot animate points\n",
    "https://stackoverflow.com/questions/33275189/how-can-i-make-points-of-a-python-plot-appear-over-time"
   ]
  },
  {
   "cell_type": "code",
   "execution_count": 22,
   "metadata": {},
   "outputs": [
    {
     "data": {
      "application/javascript": [
       "/* Put everything inside the global mpl namespace */\n",
       "window.mpl = {};\n",
       "\n",
       "\n",
       "mpl.get_websocket_type = function() {\n",
       "    if (typeof(WebSocket) !== 'undefined') {\n",
       "        return WebSocket;\n",
       "    } else if (typeof(MozWebSocket) !== 'undefined') {\n",
       "        return MozWebSocket;\n",
       "    } else {\n",
       "        alert('Your browser does not have WebSocket support.' +\n",
       "              'Please try Chrome, Safari or Firefox ≥ 6. ' +\n",
       "              'Firefox 4 and 5 are also supported but you ' +\n",
       "              'have to enable WebSockets in about:config.');\n",
       "    };\n",
       "}\n",
       "\n",
       "mpl.figure = function(figure_id, websocket, ondownload, parent_element) {\n",
       "    this.id = figure_id;\n",
       "\n",
       "    this.ws = websocket;\n",
       "\n",
       "    this.supports_binary = (this.ws.binaryType != undefined);\n",
       "\n",
       "    if (!this.supports_binary) {\n",
       "        var warnings = document.getElementById(\"mpl-warnings\");\n",
       "        if (warnings) {\n",
       "            warnings.style.display = 'block';\n",
       "            warnings.textContent = (\n",
       "                \"This browser does not support binary websocket messages. \" +\n",
       "                    \"Performance may be slow.\");\n",
       "        }\n",
       "    }\n",
       "\n",
       "    this.imageObj = new Image();\n",
       "\n",
       "    this.context = undefined;\n",
       "    this.message = undefined;\n",
       "    this.canvas = undefined;\n",
       "    this.rubberband_canvas = undefined;\n",
       "    this.rubberband_context = undefined;\n",
       "    this.format_dropdown = undefined;\n",
       "\n",
       "    this.image_mode = 'full';\n",
       "\n",
       "    this.root = $('<div/>');\n",
       "    this._root_extra_style(this.root)\n",
       "    this.root.attr('style', 'display: inline-block');\n",
       "\n",
       "    $(parent_element).append(this.root);\n",
       "\n",
       "    this._init_header(this);\n",
       "    this._init_canvas(this);\n",
       "    this._init_toolbar(this);\n",
       "\n",
       "    var fig = this;\n",
       "\n",
       "    this.waiting = false;\n",
       "\n",
       "    this.ws.onopen =  function () {\n",
       "            fig.send_message(\"supports_binary\", {value: fig.supports_binary});\n",
       "            fig.send_message(\"send_image_mode\", {});\n",
       "            if (mpl.ratio != 1) {\n",
       "                fig.send_message(\"set_dpi_ratio\", {'dpi_ratio': mpl.ratio});\n",
       "            }\n",
       "            fig.send_message(\"refresh\", {});\n",
       "        }\n",
       "\n",
       "    this.imageObj.onload = function() {\n",
       "            if (fig.image_mode == 'full') {\n",
       "                // Full images could contain transparency (where diff images\n",
       "                // almost always do), so we need to clear the canvas so that\n",
       "                // there is no ghosting.\n",
       "                fig.context.clearRect(0, 0, fig.canvas.width, fig.canvas.height);\n",
       "            }\n",
       "            fig.context.drawImage(fig.imageObj, 0, 0);\n",
       "        };\n",
       "\n",
       "    this.imageObj.onunload = function() {\n",
       "        fig.ws.close();\n",
       "    }\n",
       "\n",
       "    this.ws.onmessage = this._make_on_message_function(this);\n",
       "\n",
       "    this.ondownload = ondownload;\n",
       "}\n",
       "\n",
       "mpl.figure.prototype._init_header = function() {\n",
       "    var titlebar = $(\n",
       "        '<div class=\"ui-dialog-titlebar ui-widget-header ui-corner-all ' +\n",
       "        'ui-helper-clearfix\"/>');\n",
       "    var titletext = $(\n",
       "        '<div class=\"ui-dialog-title\" style=\"width: 100%; ' +\n",
       "        'text-align: center; padding: 3px;\"/>');\n",
       "    titlebar.append(titletext)\n",
       "    this.root.append(titlebar);\n",
       "    this.header = titletext[0];\n",
       "}\n",
       "\n",
       "\n",
       "\n",
       "mpl.figure.prototype._canvas_extra_style = function(canvas_div) {\n",
       "\n",
       "}\n",
       "\n",
       "\n",
       "mpl.figure.prototype._root_extra_style = function(canvas_div) {\n",
       "\n",
       "}\n",
       "\n",
       "mpl.figure.prototype._init_canvas = function() {\n",
       "    var fig = this;\n",
       "\n",
       "    var canvas_div = $('<div/>');\n",
       "\n",
       "    canvas_div.attr('style', 'position: relative; clear: both; outline: 0');\n",
       "\n",
       "    function canvas_keyboard_event(event) {\n",
       "        return fig.key_event(event, event['data']);\n",
       "    }\n",
       "\n",
       "    canvas_div.keydown('key_press', canvas_keyboard_event);\n",
       "    canvas_div.keyup('key_release', canvas_keyboard_event);\n",
       "    this.canvas_div = canvas_div\n",
       "    this._canvas_extra_style(canvas_div)\n",
       "    this.root.append(canvas_div);\n",
       "\n",
       "    var canvas = $('<canvas/>');\n",
       "    canvas.addClass('mpl-canvas');\n",
       "    canvas.attr('style', \"left: 0; top: 0; z-index: 0; outline: 0\")\n",
       "\n",
       "    this.canvas = canvas[0];\n",
       "    this.context = canvas[0].getContext(\"2d\");\n",
       "\n",
       "    var backingStore = this.context.backingStorePixelRatio ||\n",
       "\tthis.context.webkitBackingStorePixelRatio ||\n",
       "\tthis.context.mozBackingStorePixelRatio ||\n",
       "\tthis.context.msBackingStorePixelRatio ||\n",
       "\tthis.context.oBackingStorePixelRatio ||\n",
       "\tthis.context.backingStorePixelRatio || 1;\n",
       "\n",
       "    mpl.ratio = (window.devicePixelRatio || 1) / backingStore;\n",
       "\n",
       "    var rubberband = $('<canvas/>');\n",
       "    rubberband.attr('style', \"position: absolute; left: 0; top: 0; z-index: 1;\")\n",
       "\n",
       "    var pass_mouse_events = true;\n",
       "\n",
       "    canvas_div.resizable({\n",
       "        start: function(event, ui) {\n",
       "            pass_mouse_events = false;\n",
       "        },\n",
       "        resize: function(event, ui) {\n",
       "            fig.request_resize(ui.size.width, ui.size.height);\n",
       "        },\n",
       "        stop: function(event, ui) {\n",
       "            pass_mouse_events = true;\n",
       "            fig.request_resize(ui.size.width, ui.size.height);\n",
       "        },\n",
       "    });\n",
       "\n",
       "    function mouse_event_fn(event) {\n",
       "        if (pass_mouse_events)\n",
       "            return fig.mouse_event(event, event['data']);\n",
       "    }\n",
       "\n",
       "    rubberband.mousedown('button_press', mouse_event_fn);\n",
       "    rubberband.mouseup('button_release', mouse_event_fn);\n",
       "    // Throttle sequential mouse events to 1 every 20ms.\n",
       "    rubberband.mousemove('motion_notify', mouse_event_fn);\n",
       "\n",
       "    rubberband.mouseenter('figure_enter', mouse_event_fn);\n",
       "    rubberband.mouseleave('figure_leave', mouse_event_fn);\n",
       "\n",
       "    canvas_div.on(\"wheel\", function (event) {\n",
       "        event = event.originalEvent;\n",
       "        event['data'] = 'scroll'\n",
       "        if (event.deltaY < 0) {\n",
       "            event.step = 1;\n",
       "        } else {\n",
       "            event.step = -1;\n",
       "        }\n",
       "        mouse_event_fn(event);\n",
       "    });\n",
       "\n",
       "    canvas_div.append(canvas);\n",
       "    canvas_div.append(rubberband);\n",
       "\n",
       "    this.rubberband = rubberband;\n",
       "    this.rubberband_canvas = rubberband[0];\n",
       "    this.rubberband_context = rubberband[0].getContext(\"2d\");\n",
       "    this.rubberband_context.strokeStyle = \"#000000\";\n",
       "\n",
       "    this._resize_canvas = function(width, height) {\n",
       "        // Keep the size of the canvas, canvas container, and rubber band\n",
       "        // canvas in synch.\n",
       "        canvas_div.css('width', width)\n",
       "        canvas_div.css('height', height)\n",
       "\n",
       "        canvas.attr('width', width * mpl.ratio);\n",
       "        canvas.attr('height', height * mpl.ratio);\n",
       "        canvas.attr('style', 'width: ' + width + 'px; height: ' + height + 'px;');\n",
       "\n",
       "        rubberband.attr('width', width);\n",
       "        rubberband.attr('height', height);\n",
       "    }\n",
       "\n",
       "    // Set the figure to an initial 600x600px, this will subsequently be updated\n",
       "    // upon first draw.\n",
       "    this._resize_canvas(600, 600);\n",
       "\n",
       "    // Disable right mouse context menu.\n",
       "    $(this.rubberband_canvas).bind(\"contextmenu\",function(e){\n",
       "        return false;\n",
       "    });\n",
       "\n",
       "    function set_focus () {\n",
       "        canvas.focus();\n",
       "        canvas_div.focus();\n",
       "    }\n",
       "\n",
       "    window.setTimeout(set_focus, 100);\n",
       "}\n",
       "\n",
       "mpl.figure.prototype._init_toolbar = function() {\n",
       "    var fig = this;\n",
       "\n",
       "    var nav_element = $('<div/>')\n",
       "    nav_element.attr('style', 'width: 100%');\n",
       "    this.root.append(nav_element);\n",
       "\n",
       "    // Define a callback function for later on.\n",
       "    function toolbar_event(event) {\n",
       "        return fig.toolbar_button_onclick(event['data']);\n",
       "    }\n",
       "    function toolbar_mouse_event(event) {\n",
       "        return fig.toolbar_button_onmouseover(event['data']);\n",
       "    }\n",
       "\n",
       "    for(var toolbar_ind in mpl.toolbar_items) {\n",
       "        var name = mpl.toolbar_items[toolbar_ind][0];\n",
       "        var tooltip = mpl.toolbar_items[toolbar_ind][1];\n",
       "        var image = mpl.toolbar_items[toolbar_ind][2];\n",
       "        var method_name = mpl.toolbar_items[toolbar_ind][3];\n",
       "\n",
       "        if (!name) {\n",
       "            // put a spacer in here.\n",
       "            continue;\n",
       "        }\n",
       "        var button = $('<button/>');\n",
       "        button.addClass('ui-button ui-widget ui-state-default ui-corner-all ' +\n",
       "                        'ui-button-icon-only');\n",
       "        button.attr('role', 'button');\n",
       "        button.attr('aria-disabled', 'false');\n",
       "        button.click(method_name, toolbar_event);\n",
       "        button.mouseover(tooltip, toolbar_mouse_event);\n",
       "\n",
       "        var icon_img = $('<span/>');\n",
       "        icon_img.addClass('ui-button-icon-primary ui-icon');\n",
       "        icon_img.addClass(image);\n",
       "        icon_img.addClass('ui-corner-all');\n",
       "\n",
       "        var tooltip_span = $('<span/>');\n",
       "        tooltip_span.addClass('ui-button-text');\n",
       "        tooltip_span.html(tooltip);\n",
       "\n",
       "        button.append(icon_img);\n",
       "        button.append(tooltip_span);\n",
       "\n",
       "        nav_element.append(button);\n",
       "    }\n",
       "\n",
       "    var fmt_picker_span = $('<span/>');\n",
       "\n",
       "    var fmt_picker = $('<select/>');\n",
       "    fmt_picker.addClass('mpl-toolbar-option ui-widget ui-widget-content');\n",
       "    fmt_picker_span.append(fmt_picker);\n",
       "    nav_element.append(fmt_picker_span);\n",
       "    this.format_dropdown = fmt_picker[0];\n",
       "\n",
       "    for (var ind in mpl.extensions) {\n",
       "        var fmt = mpl.extensions[ind];\n",
       "        var option = $(\n",
       "            '<option/>', {selected: fmt === mpl.default_extension}).html(fmt);\n",
       "        fmt_picker.append(option)\n",
       "    }\n",
       "\n",
       "    // Add hover states to the ui-buttons\n",
       "    $( \".ui-button\" ).hover(\n",
       "        function() { $(this).addClass(\"ui-state-hover\");},\n",
       "        function() { $(this).removeClass(\"ui-state-hover\");}\n",
       "    );\n",
       "\n",
       "    var status_bar = $('<span class=\"mpl-message\"/>');\n",
       "    nav_element.append(status_bar);\n",
       "    this.message = status_bar[0];\n",
       "}\n",
       "\n",
       "mpl.figure.prototype.request_resize = function(x_pixels, y_pixels) {\n",
       "    // Request matplotlib to resize the figure. Matplotlib will then trigger a resize in the client,\n",
       "    // which will in turn request a refresh of the image.\n",
       "    this.send_message('resize', {'width': x_pixels, 'height': y_pixels});\n",
       "}\n",
       "\n",
       "mpl.figure.prototype.send_message = function(type, properties) {\n",
       "    properties['type'] = type;\n",
       "    properties['figure_id'] = this.id;\n",
       "    this.ws.send(JSON.stringify(properties));\n",
       "}\n",
       "\n",
       "mpl.figure.prototype.send_draw_message = function() {\n",
       "    if (!this.waiting) {\n",
       "        this.waiting = true;\n",
       "        this.ws.send(JSON.stringify({type: \"draw\", figure_id: this.id}));\n",
       "    }\n",
       "}\n",
       "\n",
       "\n",
       "mpl.figure.prototype.handle_save = function(fig, msg) {\n",
       "    var format_dropdown = fig.format_dropdown;\n",
       "    var format = format_dropdown.options[format_dropdown.selectedIndex].value;\n",
       "    fig.ondownload(fig, format);\n",
       "}\n",
       "\n",
       "\n",
       "mpl.figure.prototype.handle_resize = function(fig, msg) {\n",
       "    var size = msg['size'];\n",
       "    if (size[0] != fig.canvas.width || size[1] != fig.canvas.height) {\n",
       "        fig._resize_canvas(size[0], size[1]);\n",
       "        fig.send_message(\"refresh\", {});\n",
       "    };\n",
       "}\n",
       "\n",
       "mpl.figure.prototype.handle_rubberband = function(fig, msg) {\n",
       "    var x0 = msg['x0'] / mpl.ratio;\n",
       "    var y0 = (fig.canvas.height - msg['y0']) / mpl.ratio;\n",
       "    var x1 = msg['x1'] / mpl.ratio;\n",
       "    var y1 = (fig.canvas.height - msg['y1']) / mpl.ratio;\n",
       "    x0 = Math.floor(x0) + 0.5;\n",
       "    y0 = Math.floor(y0) + 0.5;\n",
       "    x1 = Math.floor(x1) + 0.5;\n",
       "    y1 = Math.floor(y1) + 0.5;\n",
       "    var min_x = Math.min(x0, x1);\n",
       "    var min_y = Math.min(y0, y1);\n",
       "    var width = Math.abs(x1 - x0);\n",
       "    var height = Math.abs(y1 - y0);\n",
       "\n",
       "    fig.rubberband_context.clearRect(\n",
       "        0, 0, fig.canvas.width, fig.canvas.height);\n",
       "\n",
       "    fig.rubberband_context.strokeRect(min_x, min_y, width, height);\n",
       "}\n",
       "\n",
       "mpl.figure.prototype.handle_figure_label = function(fig, msg) {\n",
       "    // Updates the figure title.\n",
       "    fig.header.textContent = msg['label'];\n",
       "}\n",
       "\n",
       "mpl.figure.prototype.handle_cursor = function(fig, msg) {\n",
       "    var cursor = msg['cursor'];\n",
       "    switch(cursor)\n",
       "    {\n",
       "    case 0:\n",
       "        cursor = 'pointer';\n",
       "        break;\n",
       "    case 1:\n",
       "        cursor = 'default';\n",
       "        break;\n",
       "    case 2:\n",
       "        cursor = 'crosshair';\n",
       "        break;\n",
       "    case 3:\n",
       "        cursor = 'move';\n",
       "        break;\n",
       "    }\n",
       "    fig.rubberband_canvas.style.cursor = cursor;\n",
       "}\n",
       "\n",
       "mpl.figure.prototype.handle_message = function(fig, msg) {\n",
       "    fig.message.textContent = msg['message'];\n",
       "}\n",
       "\n",
       "mpl.figure.prototype.handle_draw = function(fig, msg) {\n",
       "    // Request the server to send over a new figure.\n",
       "    fig.send_draw_message();\n",
       "}\n",
       "\n",
       "mpl.figure.prototype.handle_image_mode = function(fig, msg) {\n",
       "    fig.image_mode = msg['mode'];\n",
       "}\n",
       "\n",
       "mpl.figure.prototype.updated_canvas_event = function() {\n",
       "    // Called whenever the canvas gets updated.\n",
       "    this.send_message(\"ack\", {});\n",
       "}\n",
       "\n",
       "// A function to construct a web socket function for onmessage handling.\n",
       "// Called in the figure constructor.\n",
       "mpl.figure.prototype._make_on_message_function = function(fig) {\n",
       "    return function socket_on_message(evt) {\n",
       "        if (evt.data instanceof Blob) {\n",
       "            /* FIXME: We get \"Resource interpreted as Image but\n",
       "             * transferred with MIME type text/plain:\" errors on\n",
       "             * Chrome.  But how to set the MIME type?  It doesn't seem\n",
       "             * to be part of the websocket stream */\n",
       "            evt.data.type = \"image/png\";\n",
       "\n",
       "            /* Free the memory for the previous frames */\n",
       "            if (fig.imageObj.src) {\n",
       "                (window.URL || window.webkitURL).revokeObjectURL(\n",
       "                    fig.imageObj.src);\n",
       "            }\n",
       "\n",
       "            fig.imageObj.src = (window.URL || window.webkitURL).createObjectURL(\n",
       "                evt.data);\n",
       "            fig.updated_canvas_event();\n",
       "            fig.waiting = false;\n",
       "            return;\n",
       "        }\n",
       "        else if (typeof evt.data === 'string' && evt.data.slice(0, 21) == \"data:image/png;base64\") {\n",
       "            fig.imageObj.src = evt.data;\n",
       "            fig.updated_canvas_event();\n",
       "            fig.waiting = false;\n",
       "            return;\n",
       "        }\n",
       "\n",
       "        var msg = JSON.parse(evt.data);\n",
       "        var msg_type = msg['type'];\n",
       "\n",
       "        // Call the  \"handle_{type}\" callback, which takes\n",
       "        // the figure and JSON message as its only arguments.\n",
       "        try {\n",
       "            var callback = fig[\"handle_\" + msg_type];\n",
       "        } catch (e) {\n",
       "            console.log(\"No handler for the '\" + msg_type + \"' message type: \", msg);\n",
       "            return;\n",
       "        }\n",
       "\n",
       "        if (callback) {\n",
       "            try {\n",
       "                // console.log(\"Handling '\" + msg_type + \"' message: \", msg);\n",
       "                callback(fig, msg);\n",
       "            } catch (e) {\n",
       "                console.log(\"Exception inside the 'handler_\" + msg_type + \"' callback:\", e, e.stack, msg);\n",
       "            }\n",
       "        }\n",
       "    };\n",
       "}\n",
       "\n",
       "// from http://stackoverflow.com/questions/1114465/getting-mouse-location-in-canvas\n",
       "mpl.findpos = function(e) {\n",
       "    //this section is from http://www.quirksmode.org/js/events_properties.html\n",
       "    var targ;\n",
       "    if (!e)\n",
       "        e = window.event;\n",
       "    if (e.target)\n",
       "        targ = e.target;\n",
       "    else if (e.srcElement)\n",
       "        targ = e.srcElement;\n",
       "    if (targ.nodeType == 3) // defeat Safari bug\n",
       "        targ = targ.parentNode;\n",
       "\n",
       "    // jQuery normalizes the pageX and pageY\n",
       "    // pageX,Y are the mouse positions relative to the document\n",
       "    // offset() returns the position of the element relative to the document\n",
       "    var x = e.pageX - $(targ).offset().left;\n",
       "    var y = e.pageY - $(targ).offset().top;\n",
       "\n",
       "    return {\"x\": x, \"y\": y};\n",
       "};\n",
       "\n",
       "/*\n",
       " * return a copy of an object with only non-object keys\n",
       " * we need this to avoid circular references\n",
       " * http://stackoverflow.com/a/24161582/3208463\n",
       " */\n",
       "function simpleKeys (original) {\n",
       "  return Object.keys(original).reduce(function (obj, key) {\n",
       "    if (typeof original[key] !== 'object')\n",
       "        obj[key] = original[key]\n",
       "    return obj;\n",
       "  }, {});\n",
       "}\n",
       "\n",
       "mpl.figure.prototype.mouse_event = function(event, name) {\n",
       "    var canvas_pos = mpl.findpos(event)\n",
       "\n",
       "    if (name === 'button_press')\n",
       "    {\n",
       "        this.canvas.focus();\n",
       "        this.canvas_div.focus();\n",
       "    }\n",
       "\n",
       "    var x = canvas_pos.x * mpl.ratio;\n",
       "    var y = canvas_pos.y * mpl.ratio;\n",
       "\n",
       "    this.send_message(name, {x: x, y: y, button: event.button,\n",
       "                             step: event.step,\n",
       "                             guiEvent: simpleKeys(event)});\n",
       "\n",
       "    /* This prevents the web browser from automatically changing to\n",
       "     * the text insertion cursor when the button is pressed.  We want\n",
       "     * to control all of the cursor setting manually through the\n",
       "     * 'cursor' event from matplotlib */\n",
       "    event.preventDefault();\n",
       "    return false;\n",
       "}\n",
       "\n",
       "mpl.figure.prototype._key_event_extra = function(event, name) {\n",
       "    // Handle any extra behaviour associated with a key event\n",
       "}\n",
       "\n",
       "mpl.figure.prototype.key_event = function(event, name) {\n",
       "\n",
       "    // Prevent repeat events\n",
       "    if (name == 'key_press')\n",
       "    {\n",
       "        if (event.which === this._key)\n",
       "            return;\n",
       "        else\n",
       "            this._key = event.which;\n",
       "    }\n",
       "    if (name == 'key_release')\n",
       "        this._key = null;\n",
       "\n",
       "    var value = '';\n",
       "    if (event.ctrlKey && event.which != 17)\n",
       "        value += \"ctrl+\";\n",
       "    if (event.altKey && event.which != 18)\n",
       "        value += \"alt+\";\n",
       "    if (event.shiftKey && event.which != 16)\n",
       "        value += \"shift+\";\n",
       "\n",
       "    value += 'k';\n",
       "    value += event.which.toString();\n",
       "\n",
       "    this._key_event_extra(event, name);\n",
       "\n",
       "    this.send_message(name, {key: value,\n",
       "                             guiEvent: simpleKeys(event)});\n",
       "    return false;\n",
       "}\n",
       "\n",
       "mpl.figure.prototype.toolbar_button_onclick = function(name) {\n",
       "    if (name == 'download') {\n",
       "        this.handle_save(this, null);\n",
       "    } else {\n",
       "        this.send_message(\"toolbar_button\", {name: name});\n",
       "    }\n",
       "};\n",
       "\n",
       "mpl.figure.prototype.toolbar_button_onmouseover = function(tooltip) {\n",
       "    this.message.textContent = tooltip;\n",
       "};\n",
       "mpl.toolbar_items = [[\"Home\", \"Reset original view\", \"fa fa-home icon-home\", \"home\"], [\"Back\", \"Back to  previous view\", \"fa fa-arrow-left icon-arrow-left\", \"back\"], [\"Forward\", \"Forward to next view\", \"fa fa-arrow-right icon-arrow-right\", \"forward\"], [\"\", \"\", \"\", \"\"], [\"Pan\", \"Pan axes with left mouse, zoom with right\", \"fa fa-arrows icon-move\", \"pan\"], [\"Zoom\", \"Zoom to rectangle\", \"fa fa-square-o icon-check-empty\", \"zoom\"], [\"\", \"\", \"\", \"\"], [\"Download\", \"Download plot\", \"fa fa-floppy-o icon-save\", \"download\"]];\n",
       "\n",
       "mpl.extensions = [\"eps\", \"jpeg\", \"pdf\", \"png\", \"ps\", \"raw\", \"svg\", \"tif\"];\n",
       "\n",
       "mpl.default_extension = \"png\";var comm_websocket_adapter = function(comm) {\n",
       "    // Create a \"websocket\"-like object which calls the given IPython comm\n",
       "    // object with the appropriate methods. Currently this is a non binary\n",
       "    // socket, so there is still some room for performance tuning.\n",
       "    var ws = {};\n",
       "\n",
       "    ws.close = function() {\n",
       "        comm.close()\n",
       "    };\n",
       "    ws.send = function(m) {\n",
       "        //console.log('sending', m);\n",
       "        comm.send(m);\n",
       "    };\n",
       "    // Register the callback with on_msg.\n",
       "    comm.on_msg(function(msg) {\n",
       "        //console.log('receiving', msg['content']['data'], msg);\n",
       "        // Pass the mpl event to the overridden (by mpl) onmessage function.\n",
       "        ws.onmessage(msg['content']['data'])\n",
       "    });\n",
       "    return ws;\n",
       "}\n",
       "\n",
       "mpl.mpl_figure_comm = function(comm, msg) {\n",
       "    // This is the function which gets called when the mpl process\n",
       "    // starts-up an IPython Comm through the \"matplotlib\" channel.\n",
       "\n",
       "    var id = msg.content.data.id;\n",
       "    // Get hold of the div created by the display call when the Comm\n",
       "    // socket was opened in Python.\n",
       "    var element = $(\"#\" + id);\n",
       "    var ws_proxy = comm_websocket_adapter(comm)\n",
       "\n",
       "    function ondownload(figure, format) {\n",
       "        window.open(figure.imageObj.src);\n",
       "    }\n",
       "\n",
       "    var fig = new mpl.figure(id, ws_proxy,\n",
       "                           ondownload,\n",
       "                           element.get(0));\n",
       "\n",
       "    // Call onopen now - mpl needs it, as it is assuming we've passed it a real\n",
       "    // web socket which is closed, not our websocket->open comm proxy.\n",
       "    ws_proxy.onopen();\n",
       "\n",
       "    fig.parent_element = element.get(0);\n",
       "    fig.cell_info = mpl.find_output_cell(\"<div id='\" + id + \"'></div>\");\n",
       "    if (!fig.cell_info) {\n",
       "        console.error(\"Failed to find cell for figure\", id, fig);\n",
       "        return;\n",
       "    }\n",
       "\n",
       "    var output_index = fig.cell_info[2]\n",
       "    var cell = fig.cell_info[0];\n",
       "\n",
       "};\n",
       "\n",
       "mpl.figure.prototype.handle_close = function(fig, msg) {\n",
       "    var width = fig.canvas.width/mpl.ratio\n",
       "    fig.root.unbind('remove')\n",
       "\n",
       "    // Update the output cell to use the data from the current canvas.\n",
       "    fig.push_to_output();\n",
       "    var dataURL = fig.canvas.toDataURL();\n",
       "    // Re-enable the keyboard manager in IPython - without this line, in FF,\n",
       "    // the notebook keyboard shortcuts fail.\n",
       "    IPython.keyboard_manager.enable()\n",
       "    $(fig.parent_element).html('<img src=\"' + dataURL + '\" width=\"' + width + '\">');\n",
       "    fig.close_ws(fig, msg);\n",
       "}\n",
       "\n",
       "mpl.figure.prototype.close_ws = function(fig, msg){\n",
       "    fig.send_message('closing', msg);\n",
       "    // fig.ws.close()\n",
       "}\n",
       "\n",
       "mpl.figure.prototype.push_to_output = function(remove_interactive) {\n",
       "    // Turn the data on the canvas into data in the output cell.\n",
       "    var width = this.canvas.width/mpl.ratio\n",
       "    var dataURL = this.canvas.toDataURL();\n",
       "    this.cell_info[1]['text/html'] = '<img src=\"' + dataURL + '\" width=\"' + width + '\">';\n",
       "}\n",
       "\n",
       "mpl.figure.prototype.updated_canvas_event = function() {\n",
       "    // Tell IPython that the notebook contents must change.\n",
       "    IPython.notebook.set_dirty(true);\n",
       "    this.send_message(\"ack\", {});\n",
       "    var fig = this;\n",
       "    // Wait a second, then push the new image to the DOM so\n",
       "    // that it is saved nicely (might be nice to debounce this).\n",
       "    setTimeout(function () { fig.push_to_output() }, 1000);\n",
       "}\n",
       "\n",
       "mpl.figure.prototype._init_toolbar = function() {\n",
       "    var fig = this;\n",
       "\n",
       "    var nav_element = $('<div/>')\n",
       "    nav_element.attr('style', 'width: 100%');\n",
       "    this.root.append(nav_element);\n",
       "\n",
       "    // Define a callback function for later on.\n",
       "    function toolbar_event(event) {\n",
       "        return fig.toolbar_button_onclick(event['data']);\n",
       "    }\n",
       "    function toolbar_mouse_event(event) {\n",
       "        return fig.toolbar_button_onmouseover(event['data']);\n",
       "    }\n",
       "\n",
       "    for(var toolbar_ind in mpl.toolbar_items){\n",
       "        var name = mpl.toolbar_items[toolbar_ind][0];\n",
       "        var tooltip = mpl.toolbar_items[toolbar_ind][1];\n",
       "        var image = mpl.toolbar_items[toolbar_ind][2];\n",
       "        var method_name = mpl.toolbar_items[toolbar_ind][3];\n",
       "\n",
       "        if (!name) { continue; };\n",
       "\n",
       "        var button = $('<button class=\"btn btn-default\" href=\"#\" title=\"' + name + '\"><i class=\"fa ' + image + ' fa-lg\"></i></button>');\n",
       "        button.click(method_name, toolbar_event);\n",
       "        button.mouseover(tooltip, toolbar_mouse_event);\n",
       "        nav_element.append(button);\n",
       "    }\n",
       "\n",
       "    // Add the status bar.\n",
       "    var status_bar = $('<span class=\"mpl-message\" style=\"text-align:right; float: right;\"/>');\n",
       "    nav_element.append(status_bar);\n",
       "    this.message = status_bar[0];\n",
       "\n",
       "    // Add the close button to the window.\n",
       "    var buttongrp = $('<div class=\"btn-group inline pull-right\"></div>');\n",
       "    var button = $('<button class=\"btn btn-mini btn-primary\" href=\"#\" title=\"Stop Interaction\"><i class=\"fa fa-power-off icon-remove icon-large\"></i></button>');\n",
       "    button.click(function (evt) { fig.handle_close(fig, {}); } );\n",
       "    button.mouseover('Stop Interaction', toolbar_mouse_event);\n",
       "    buttongrp.append(button);\n",
       "    var titlebar = this.root.find($('.ui-dialog-titlebar'));\n",
       "    titlebar.prepend(buttongrp);\n",
       "}\n",
       "\n",
       "mpl.figure.prototype._root_extra_style = function(el){\n",
       "    var fig = this\n",
       "    el.on(\"remove\", function(){\n",
       "\tfig.close_ws(fig, {});\n",
       "    });\n",
       "}\n",
       "\n",
       "mpl.figure.prototype._canvas_extra_style = function(el){\n",
       "    // this is important to make the div 'focusable\n",
       "    el.attr('tabindex', 0)\n",
       "    // reach out to IPython and tell the keyboard manager to turn it's self\n",
       "    // off when our div gets focus\n",
       "\n",
       "    // location in version 3\n",
       "    if (IPython.notebook.keyboard_manager) {\n",
       "        IPython.notebook.keyboard_manager.register_events(el);\n",
       "    }\n",
       "    else {\n",
       "        // location in version 2\n",
       "        IPython.keyboard_manager.register_events(el);\n",
       "    }\n",
       "\n",
       "}\n",
       "\n",
       "mpl.figure.prototype._key_event_extra = function(event, name) {\n",
       "    var manager = IPython.notebook.keyboard_manager;\n",
       "    if (!manager)\n",
       "        manager = IPython.keyboard_manager;\n",
       "\n",
       "    // Check for shift+enter\n",
       "    if (event.shiftKey && event.which == 13) {\n",
       "        this.canvas_div.blur();\n",
       "        event.shiftKey = false;\n",
       "        // Send a \"J\" for go to next cell\n",
       "        event.which = 74;\n",
       "        event.keyCode = 74;\n",
       "        manager.command_mode();\n",
       "        manager.handle_keydown(event);\n",
       "    }\n",
       "}\n",
       "\n",
       "mpl.figure.prototype.handle_save = function(fig, msg) {\n",
       "    fig.ondownload(fig, null);\n",
       "}\n",
       "\n",
       "\n",
       "mpl.find_output_cell = function(html_output) {\n",
       "    // Return the cell and output element which can be found *uniquely* in the notebook.\n",
       "    // Note - this is a bit hacky, but it is done because the \"notebook_saving.Notebook\"\n",
       "    // IPython event is triggered only after the cells have been serialised, which for\n",
       "    // our purposes (turning an active figure into a static one), is too late.\n",
       "    var cells = IPython.notebook.get_cells();\n",
       "    var ncells = cells.length;\n",
       "    for (var i=0; i<ncells; i++) {\n",
       "        var cell = cells[i];\n",
       "        if (cell.cell_type === 'code'){\n",
       "            for (var j=0; j<cell.output_area.outputs.length; j++) {\n",
       "                var data = cell.output_area.outputs[j];\n",
       "                if (data.data) {\n",
       "                    // IPython >= 3 moved mimebundle to data attribute of output\n",
       "                    data = data.data;\n",
       "                }\n",
       "                if (data['text/html'] == html_output) {\n",
       "                    return [cell, data, j];\n",
       "                }\n",
       "            }\n",
       "        }\n",
       "    }\n",
       "}\n",
       "\n",
       "// Register the function which deals with the matplotlib target/channel.\n",
       "// The kernel may be null if the page has been refreshed.\n",
       "if (IPython.notebook.kernel != null) {\n",
       "    IPython.notebook.kernel.comm_manager.register_target('matplotlib', mpl.mpl_figure_comm);\n",
       "}\n"
      ],
      "text/plain": [
       "<IPython.core.display.Javascript object>"
      ]
     },
     "metadata": {},
     "output_type": "display_data"
    },
    {
     "data": {
      "text/html": [
       "<img src=\"data:image/png;base64,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\" width=\"640\">"
      ],
      "text/plain": [
       "<IPython.core.display.HTML object>"
      ]
     },
     "metadata": {},
     "output_type": "display_data"
    }
   ],
   "source": [
    "%matplotlib notebook\n",
    "import matplotlib.pyplot as plt\n",
    "from matplotlib.animation import FuncAnimation\n",
    "\n",
    "fig = plt.figure()\n",
    "plt.xlim(0, 100)\n",
    "plt.ylim(0, 1)\n",
    "graph, = plt.plot([], [], 'o')\n",
    "\n",
    "def animate(i):\n",
    "    # Only show one pt at a time\n",
    "    # graph.set_data(x[i+1], y[i+1])\n",
    "    # Show All historical pts\n",
    "    graph.set_data(x[:i+1], y[:i+1])\n",
    "    return graph\n",
    "\n",
    "ani = FuncAnimation(fig, animate, frames=100, interval=50)\n",
    "plt.show()"
   ]
  },
  {
   "cell_type": "code",
   "execution_count": 30,
   "metadata": {},
   "outputs": [
    {
     "data": {
      "application/vnd.plotly.v1+json": {
       "config": {
        "plotlyServerURL": "https://plot.ly"
       },
       "data": [
        {
         "hoverlabel": {
          "namelength": 0
         },
         "hovertemplate": "<b>%{hovertext}</b><br><br>index=0<br>x=%{x}<br>y=%{y}<br>size=%{marker.color}",
         "hovertext": [
          0
         ],
         "legendgroup": "",
         "marker": {
          "color": [
           0
          ],
          "coloraxis": "coloraxis",
          "size": [
           0
          ],
          "sizemode": "area",
          "sizeref": 0.03272727272727273,
          "symbol": "circle"
         },
         "mode": "markers",
         "name": "",
         "showlegend": false,
         "type": "scatter",
         "x": [
          0
         ],
         "xaxis": "x",
         "y": [
          0
         ],
         "yaxis": "y"
        }
       ],
       "frames": [
        {
         "data": [
          {
           "hoverlabel": {
            "namelength": 0
           },
           "hovertemplate": "<b>%{hovertext}</b><br><br>index=0<br>x=%{x}<br>y=%{y}<br>size=%{marker.color}",
           "hovertext": [
            0
           ],
           "legendgroup": "",
           "marker": {
            "color": [
             0
            ],
            "coloraxis": "coloraxis",
            "size": [
             0
            ],
            "sizemode": "area",
            "sizeref": 0.03272727272727273,
            "symbol": "circle"
           },
           "mode": "markers",
           "name": "",
           "showlegend": false,
           "type": "scatter",
           "x": [
            0
           ],
           "xaxis": "x",
           "y": [
            0
           ],
           "yaxis": "y"
          }
         ],
         "name": "0"
        },
        {
         "data": [
          {
           "hoverlabel": {
            "namelength": 0
           },
           "hovertemplate": "<b>%{hovertext}</b><br><br>index=1<br>x=%{x}<br>y=%{y}<br>size=%{marker.color}",
           "hovertext": [
            1
           ],
           "legendgroup": "",
           "marker": {
            "color": [
             1
            ],
            "coloraxis": "coloraxis",
            "size": [
             1
            ],
            "sizemode": "area",
            "sizeref": 0.03272727272727273,
            "symbol": "circle"
           },
           "mode": "markers",
           "name": "",
           "showlegend": false,
           "type": "scatter",
           "x": [
            1
           ],
           "xaxis": "x",
           "y": [
            0.8414709848078965
           ],
           "yaxis": "y"
          }
         ],
         "name": "1"
        },
        {
         "data": [
          {
           "hoverlabel": {
            "namelength": 0
           },
           "hovertemplate": "<b>%{hovertext}</b><br><br>index=2<br>x=%{x}<br>y=%{y}<br>size=%{marker.color}",
           "hovertext": [
            2
           ],
           "legendgroup": "",
           "marker": {
            "color": [
             2
            ],
            "coloraxis": "coloraxis",
            "size": [
             2
            ],
            "sizemode": "area",
            "sizeref": 0.03272727272727273,
            "symbol": "circle"
           },
           "mode": "markers",
           "name": "",
           "showlegend": false,
           "type": "scatter",
           "x": [
            2
           ],
           "xaxis": "x",
           "y": [
            0.9092974268256817
           ],
           "yaxis": "y"
          }
         ],
         "name": "2"
        },
        {
         "data": [
          {
           "hoverlabel": {
            "namelength": 0
           },
           "hovertemplate": "<b>%{hovertext}</b><br><br>index=3<br>x=%{x}<br>y=%{y}<br>size=%{marker.color}",
           "hovertext": [
            3
           ],
           "legendgroup": "",
           "marker": {
            "color": [
             3
            ],
            "coloraxis": "coloraxis",
            "size": [
             3
            ],
            "sizemode": "area",
            "sizeref": 0.03272727272727273,
            "symbol": "circle"
           },
           "mode": "markers",
           "name": "",
           "showlegend": false,
           "type": "scatter",
           "x": [
            3
           ],
           "xaxis": "x",
           "y": [
            0.1411200080598672
           ],
           "yaxis": "y"
          }
         ],
         "name": "3"
        },
        {
         "data": [
          {
           "hoverlabel": {
            "namelength": 0
           },
           "hovertemplate": "<b>%{hovertext}</b><br><br>index=4<br>x=%{x}<br>y=%{y}<br>size=%{marker.color}",
           "hovertext": [
            4
           ],
           "legendgroup": "",
           "marker": {
            "color": [
             4
            ],
            "coloraxis": "coloraxis",
            "size": [
             4
            ],
            "sizemode": "area",
            "sizeref": 0.03272727272727273,
            "symbol": "circle"
           },
           "mode": "markers",
           "name": "",
           "showlegend": false,
           "type": "scatter",
           "x": [
            4
           ],
           "xaxis": "x",
           "y": [
            -0.7568024953079282
           ],
           "yaxis": "y"
          }
         ],
         "name": "4"
        },
        {
         "data": [
          {
           "hoverlabel": {
            "namelength": 0
           },
           "hovertemplate": "<b>%{hovertext}</b><br><br>index=5<br>x=%{x}<br>y=%{y}<br>size=%{marker.color}",
           "hovertext": [
            5
           ],
           "legendgroup": "",
           "marker": {
            "color": [
             5
            ],
            "coloraxis": "coloraxis",
            "size": [
             5
            ],
            "sizemode": "area",
            "sizeref": 0.03272727272727273,
            "symbol": "circle"
           },
           "mode": "markers",
           "name": "",
           "showlegend": false,
           "type": "scatter",
           "x": [
            5
           ],
           "xaxis": "x",
           "y": [
            -0.9589242746631385
           ],
           "yaxis": "y"
          }
         ],
         "name": "5"
        },
        {
         "data": [
          {
           "hoverlabel": {
            "namelength": 0
           },
           "hovertemplate": "<b>%{hovertext}</b><br><br>index=6<br>x=%{x}<br>y=%{y}<br>size=%{marker.color}",
           "hovertext": [
            6
           ],
           "legendgroup": "",
           "marker": {
            "color": [
             6
            ],
            "coloraxis": "coloraxis",
            "size": [
             6
            ],
            "sizemode": "area",
            "sizeref": 0.03272727272727273,
            "symbol": "circle"
           },
           "mode": "markers",
           "name": "",
           "showlegend": false,
           "type": "scatter",
           "x": [
            6
           ],
           "xaxis": "x",
           "y": [
            -0.27941549819892586
           ],
           "yaxis": "y"
          }
         ],
         "name": "6"
        },
        {
         "data": [
          {
           "hoverlabel": {
            "namelength": 0
           },
           "hovertemplate": "<b>%{hovertext}</b><br><br>index=7<br>x=%{x}<br>y=%{y}<br>size=%{marker.color}",
           "hovertext": [
            7
           ],
           "legendgroup": "",
           "marker": {
            "color": [
             7
            ],
            "coloraxis": "coloraxis",
            "size": [
             7
            ],
            "sizemode": "area",
            "sizeref": 0.03272727272727273,
            "symbol": "circle"
           },
           "mode": "markers",
           "name": "",
           "showlegend": false,
           "type": "scatter",
           "x": [
            7
           ],
           "xaxis": "x",
           "y": [
            0.6569865987187891
           ],
           "yaxis": "y"
          }
         ],
         "name": "7"
        },
        {
         "data": [
          {
           "hoverlabel": {
            "namelength": 0
           },
           "hovertemplate": "<b>%{hovertext}</b><br><br>index=8<br>x=%{x}<br>y=%{y}<br>size=%{marker.color}",
           "hovertext": [
            8
           ],
           "legendgroup": "",
           "marker": {
            "color": [
             8
            ],
            "coloraxis": "coloraxis",
            "size": [
             8
            ],
            "sizemode": "area",
            "sizeref": 0.03272727272727273,
            "symbol": "circle"
           },
           "mode": "markers",
           "name": "",
           "showlegend": false,
           "type": "scatter",
           "x": [
            8
           ],
           "xaxis": "x",
           "y": [
            0.9893582466233818
           ],
           "yaxis": "y"
          }
         ],
         "name": "8"
        },
        {
         "data": [
          {
           "hoverlabel": {
            "namelength": 0
           },
           "hovertemplate": "<b>%{hovertext}</b><br><br>index=9<br>x=%{x}<br>y=%{y}<br>size=%{marker.color}",
           "hovertext": [
            9
           ],
           "legendgroup": "",
           "marker": {
            "color": [
             9
            ],
            "coloraxis": "coloraxis",
            "size": [
             9
            ],
            "sizemode": "area",
            "sizeref": 0.03272727272727273,
            "symbol": "circle"
           },
           "mode": "markers",
           "name": "",
           "showlegend": false,
           "type": "scatter",
           "x": [
            9
           ],
           "xaxis": "x",
           "y": [
            0.4121184852417566
           ],
           "yaxis": "y"
          }
         ],
         "name": "9"
        },
        {
         "data": [
          {
           "hoverlabel": {
            "namelength": 0
           },
           "hovertemplate": "<b>%{hovertext}</b><br><br>index=10<br>x=%{x}<br>y=%{y}<br>size=%{marker.color}",
           "hovertext": [
            10
           ],
           "legendgroup": "",
           "marker": {
            "color": [
             10
            ],
            "coloraxis": "coloraxis",
            "size": [
             10
            ],
            "sizemode": "area",
            "sizeref": 0.03272727272727273,
            "symbol": "circle"
           },
           "mode": "markers",
           "name": "",
           "showlegend": false,
           "type": "scatter",
           "x": [
            10
           ],
           "xaxis": "x",
           "y": [
            -0.5440211108893699
           ],
           "yaxis": "y"
          }
         ],
         "name": "10"
        },
        {
         "data": [
          {
           "hoverlabel": {
            "namelength": 0
           },
           "hovertemplate": "<b>%{hovertext}</b><br><br>index=11<br>x=%{x}<br>y=%{y}<br>size=%{marker.color}",
           "hovertext": [
            11
           ],
           "legendgroup": "",
           "marker": {
            "color": [
             11
            ],
            "coloraxis": "coloraxis",
            "size": [
             11
            ],
            "sizemode": "area",
            "sizeref": 0.03272727272727273,
            "symbol": "circle"
           },
           "mode": "markers",
           "name": "",
           "showlegend": false,
           "type": "scatter",
           "x": [
            11
           ],
           "xaxis": "x",
           "y": [
            -0.9999902065507035
           ],
           "yaxis": "y"
          }
         ],
         "name": "11"
        },
        {
         "data": [
          {
           "hoverlabel": {
            "namelength": 0
           },
           "hovertemplate": "<b>%{hovertext}</b><br><br>index=12<br>x=%{x}<br>y=%{y}<br>size=%{marker.color}",
           "hovertext": [
            12
           ],
           "legendgroup": "",
           "marker": {
            "color": [
             12
            ],
            "coloraxis": "coloraxis",
            "size": [
             12
            ],
            "sizemode": "area",
            "sizeref": 0.03272727272727273,
            "symbol": "circle"
           },
           "mode": "markers",
           "name": "",
           "showlegend": false,
           "type": "scatter",
           "x": [
            12
           ],
           "xaxis": "x",
           "y": [
            -0.5365729180004349
           ],
           "yaxis": "y"
          }
         ],
         "name": "12"
        },
        {
         "data": [
          {
           "hoverlabel": {
            "namelength": 0
           },
           "hovertemplate": "<b>%{hovertext}</b><br><br>index=13<br>x=%{x}<br>y=%{y}<br>size=%{marker.color}",
           "hovertext": [
            13
           ],
           "legendgroup": "",
           "marker": {
            "color": [
             13
            ],
            "coloraxis": "coloraxis",
            "size": [
             13
            ],
            "sizemode": "area",
            "sizeref": 0.03272727272727273,
            "symbol": "circle"
           },
           "mode": "markers",
           "name": "",
           "showlegend": false,
           "type": "scatter",
           "x": [
            13
           ],
           "xaxis": "x",
           "y": [
            0.4201670368266409
           ],
           "yaxis": "y"
          }
         ],
         "name": "13"
        },
        {
         "data": [
          {
           "hoverlabel": {
            "namelength": 0
           },
           "hovertemplate": "<b>%{hovertext}</b><br><br>index=14<br>x=%{x}<br>y=%{y}<br>size=%{marker.color}",
           "hovertext": [
            14
           ],
           "legendgroup": "",
           "marker": {
            "color": [
             14
            ],
            "coloraxis": "coloraxis",
            "size": [
             14
            ],
            "sizemode": "area",
            "sizeref": 0.03272727272727273,
            "symbol": "circle"
           },
           "mode": "markers",
           "name": "",
           "showlegend": false,
           "type": "scatter",
           "x": [
            14
           ],
           "xaxis": "x",
           "y": [
            0.9906073556948704
           ],
           "yaxis": "y"
          }
         ],
         "name": "14"
        },
        {
         "data": [
          {
           "hoverlabel": {
            "namelength": 0
           },
           "hovertemplate": "<b>%{hovertext}</b><br><br>index=15<br>x=%{x}<br>y=%{y}<br>size=%{marker.color}",
           "hovertext": [
            15
           ],
           "legendgroup": "",
           "marker": {
            "color": [
             15
            ],
            "coloraxis": "coloraxis",
            "size": [
             15
            ],
            "sizemode": "area",
            "sizeref": 0.03272727272727273,
            "symbol": "circle"
           },
           "mode": "markers",
           "name": "",
           "showlegend": false,
           "type": "scatter",
           "x": [
            15
           ],
           "xaxis": "x",
           "y": [
            0.6502878401571169
           ],
           "yaxis": "y"
          }
         ],
         "name": "15"
        },
        {
         "data": [
          {
           "hoverlabel": {
            "namelength": 0
           },
           "hovertemplate": "<b>%{hovertext}</b><br><br>index=16<br>x=%{x}<br>y=%{y}<br>size=%{marker.color}",
           "hovertext": [
            16
           ],
           "legendgroup": "",
           "marker": {
            "color": [
             16
            ],
            "coloraxis": "coloraxis",
            "size": [
             16
            ],
            "sizemode": "area",
            "sizeref": 0.03272727272727273,
            "symbol": "circle"
           },
           "mode": "markers",
           "name": "",
           "showlegend": false,
           "type": "scatter",
           "x": [
            16
           ],
           "xaxis": "x",
           "y": [
            -0.2879033166650653
           ],
           "yaxis": "y"
          }
         ],
         "name": "16"
        },
        {
         "data": [
          {
           "hoverlabel": {
            "namelength": 0
           },
           "hovertemplate": "<b>%{hovertext}</b><br><br>index=17<br>x=%{x}<br>y=%{y}<br>size=%{marker.color}",
           "hovertext": [
            17
           ],
           "legendgroup": "",
           "marker": {
            "color": [
             17
            ],
            "coloraxis": "coloraxis",
            "size": [
             17
            ],
            "sizemode": "area",
            "sizeref": 0.03272727272727273,
            "symbol": "circle"
           },
           "mode": "markers",
           "name": "",
           "showlegend": false,
           "type": "scatter",
           "x": [
            17
           ],
           "xaxis": "x",
           "y": [
            -0.9613974918795568
           ],
           "yaxis": "y"
          }
         ],
         "name": "17"
        },
        {
         "data": [
          {
           "hoverlabel": {
            "namelength": 0
           },
           "hovertemplate": "<b>%{hovertext}</b><br><br>index=18<br>x=%{x}<br>y=%{y}<br>size=%{marker.color}",
           "hovertext": [
            18
           ],
           "legendgroup": "",
           "marker": {
            "color": [
             18
            ],
            "coloraxis": "coloraxis",
            "size": [
             18
            ],
            "sizemode": "area",
            "sizeref": 0.03272727272727273,
            "symbol": "circle"
           },
           "mode": "markers",
           "name": "",
           "showlegend": false,
           "type": "scatter",
           "x": [
            18
           ],
           "xaxis": "x",
           "y": [
            -0.750987246771676
           ],
           "yaxis": "y"
          }
         ],
         "name": "18"
        },
        {
         "data": [
          {
           "hoverlabel": {
            "namelength": 0
           },
           "hovertemplate": "<b>%{hovertext}</b><br><br>index=19<br>x=%{x}<br>y=%{y}<br>size=%{marker.color}",
           "hovertext": [
            19
           ],
           "legendgroup": "",
           "marker": {
            "color": [
             19
            ],
            "coloraxis": "coloraxis",
            "size": [
             19
            ],
            "sizemode": "area",
            "sizeref": 0.03272727272727273,
            "symbol": "circle"
           },
           "mode": "markers",
           "name": "",
           "showlegend": false,
           "type": "scatter",
           "x": [
            19
           ],
           "xaxis": "x",
           "y": [
            0.14987720966295234
           ],
           "yaxis": "y"
          }
         ],
         "name": "19"
        },
        {
         "data": [
          {
           "hoverlabel": {
            "namelength": 0
           },
           "hovertemplate": "<b>%{hovertext}</b><br><br>index=20<br>x=%{x}<br>y=%{y}<br>size=%{marker.color}",
           "hovertext": [
            20
           ],
           "legendgroup": "",
           "marker": {
            "color": [
             20
            ],
            "coloraxis": "coloraxis",
            "size": [
             20
            ],
            "sizemode": "area",
            "sizeref": 0.03272727272727273,
            "symbol": "circle"
           },
           "mode": "markers",
           "name": "",
           "showlegend": false,
           "type": "scatter",
           "x": [
            20
           ],
           "xaxis": "x",
           "y": [
            0.9129452507276277
           ],
           "yaxis": "y"
          }
         ],
         "name": "20"
        },
        {
         "data": [
          {
           "hoverlabel": {
            "namelength": 0
           },
           "hovertemplate": "<b>%{hovertext}</b><br><br>index=21<br>x=%{x}<br>y=%{y}<br>size=%{marker.color}",
           "hovertext": [
            21
           ],
           "legendgroup": "",
           "marker": {
            "color": [
             21
            ],
            "coloraxis": "coloraxis",
            "size": [
             21
            ],
            "sizemode": "area",
            "sizeref": 0.03272727272727273,
            "symbol": "circle"
           },
           "mode": "markers",
           "name": "",
           "showlegend": false,
           "type": "scatter",
           "x": [
            21
           ],
           "xaxis": "x",
           "y": [
            0.836655638536056
           ],
           "yaxis": "y"
          }
         ],
         "name": "21"
        },
        {
         "data": [
          {
           "hoverlabel": {
            "namelength": 0
           },
           "hovertemplate": "<b>%{hovertext}</b><br><br>index=22<br>x=%{x}<br>y=%{y}<br>size=%{marker.color}",
           "hovertext": [
            22
           ],
           "legendgroup": "",
           "marker": {
            "color": [
             22
            ],
            "coloraxis": "coloraxis",
            "size": [
             22
            ],
            "sizemode": "area",
            "sizeref": 0.03272727272727273,
            "symbol": "circle"
           },
           "mode": "markers",
           "name": "",
           "showlegend": false,
           "type": "scatter",
           "x": [
            22
           ],
           "xaxis": "x",
           "y": [
            -0.008851309290403876
           ],
           "yaxis": "y"
          }
         ],
         "name": "22"
        },
        {
         "data": [
          {
           "hoverlabel": {
            "namelength": 0
           },
           "hovertemplate": "<b>%{hovertext}</b><br><br>index=23<br>x=%{x}<br>y=%{y}<br>size=%{marker.color}",
           "hovertext": [
            23
           ],
           "legendgroup": "",
           "marker": {
            "color": [
             23
            ],
            "coloraxis": "coloraxis",
            "size": [
             23
            ],
            "sizemode": "area",
            "sizeref": 0.03272727272727273,
            "symbol": "circle"
           },
           "mode": "markers",
           "name": "",
           "showlegend": false,
           "type": "scatter",
           "x": [
            23
           ],
           "xaxis": "x",
           "y": [
            -0.8462204041751706
           ],
           "yaxis": "y"
          }
         ],
         "name": "23"
        },
        {
         "data": [
          {
           "hoverlabel": {
            "namelength": 0
           },
           "hovertemplate": "<b>%{hovertext}</b><br><br>index=24<br>x=%{x}<br>y=%{y}<br>size=%{marker.color}",
           "hovertext": [
            24
           ],
           "legendgroup": "",
           "marker": {
            "color": [
             24
            ],
            "coloraxis": "coloraxis",
            "size": [
             24
            ],
            "sizemode": "area",
            "sizeref": 0.03272727272727273,
            "symbol": "circle"
           },
           "mode": "markers",
           "name": "",
           "showlegend": false,
           "type": "scatter",
           "x": [
            24
           ],
           "xaxis": "x",
           "y": [
            -0.9055783620066239
           ],
           "yaxis": "y"
          }
         ],
         "name": "24"
        },
        {
         "data": [
          {
           "hoverlabel": {
            "namelength": 0
           },
           "hovertemplate": "<b>%{hovertext}</b><br><br>index=25<br>x=%{x}<br>y=%{y}<br>size=%{marker.color}",
           "hovertext": [
            25
           ],
           "legendgroup": "",
           "marker": {
            "color": [
             25
            ],
            "coloraxis": "coloraxis",
            "size": [
             25
            ],
            "sizemode": "area",
            "sizeref": 0.03272727272727273,
            "symbol": "circle"
           },
           "mode": "markers",
           "name": "",
           "showlegend": false,
           "type": "scatter",
           "x": [
            25
           ],
           "xaxis": "x",
           "y": [
            -0.13235175009777303
           ],
           "yaxis": "y"
          }
         ],
         "name": "25"
        },
        {
         "data": [
          {
           "hoverlabel": {
            "namelength": 0
           },
           "hovertemplate": "<b>%{hovertext}</b><br><br>index=26<br>x=%{x}<br>y=%{y}<br>size=%{marker.color}",
           "hovertext": [
            26
           ],
           "legendgroup": "",
           "marker": {
            "color": [
             26
            ],
            "coloraxis": "coloraxis",
            "size": [
             26
            ],
            "sizemode": "area",
            "sizeref": 0.03272727272727273,
            "symbol": "circle"
           },
           "mode": "markers",
           "name": "",
           "showlegend": false,
           "type": "scatter",
           "x": [
            26
           ],
           "xaxis": "x",
           "y": [
            0.7625584504796028
           ],
           "yaxis": "y"
          }
         ],
         "name": "26"
        },
        {
         "data": [
          {
           "hoverlabel": {
            "namelength": 0
           },
           "hovertemplate": "<b>%{hovertext}</b><br><br>index=27<br>x=%{x}<br>y=%{y}<br>size=%{marker.color}",
           "hovertext": [
            27
           ],
           "legendgroup": "",
           "marker": {
            "color": [
             27
            ],
            "coloraxis": "coloraxis",
            "size": [
             27
            ],
            "sizemode": "area",
            "sizeref": 0.03272727272727273,
            "symbol": "circle"
           },
           "mode": "markers",
           "name": "",
           "showlegend": false,
           "type": "scatter",
           "x": [
            27
           ],
           "xaxis": "x",
           "y": [
            0.956375928404503
           ],
           "yaxis": "y"
          }
         ],
         "name": "27"
        },
        {
         "data": [
          {
           "hoverlabel": {
            "namelength": 0
           },
           "hovertemplate": "<b>%{hovertext}</b><br><br>index=28<br>x=%{x}<br>y=%{y}<br>size=%{marker.color}",
           "hovertext": [
            28
           ],
           "legendgroup": "",
           "marker": {
            "color": [
             28
            ],
            "coloraxis": "coloraxis",
            "size": [
             28
            ],
            "sizemode": "area",
            "sizeref": 0.03272727272727273,
            "symbol": "circle"
           },
           "mode": "markers",
           "name": "",
           "showlegend": false,
           "type": "scatter",
           "x": [
            28
           ],
           "xaxis": "x",
           "y": [
            0.27090578830786904
           ],
           "yaxis": "y"
          }
         ],
         "name": "28"
        },
        {
         "data": [
          {
           "hoverlabel": {
            "namelength": 0
           },
           "hovertemplate": "<b>%{hovertext}</b><br><br>index=29<br>x=%{x}<br>y=%{y}<br>size=%{marker.color}",
           "hovertext": [
            29
           ],
           "legendgroup": "",
           "marker": {
            "color": [
             29
            ],
            "coloraxis": "coloraxis",
            "size": [
             29
            ],
            "sizemode": "area",
            "sizeref": 0.03272727272727273,
            "symbol": "circle"
           },
           "mode": "markers",
           "name": "",
           "showlegend": false,
           "type": "scatter",
           "x": [
            29
           ],
           "xaxis": "x",
           "y": [
            -0.6636338842129675
           ],
           "yaxis": "y"
          }
         ],
         "name": "29"
        },
        {
         "data": [
          {
           "hoverlabel": {
            "namelength": 0
           },
           "hovertemplate": "<b>%{hovertext}</b><br><br>index=30<br>x=%{x}<br>y=%{y}<br>size=%{marker.color}",
           "hovertext": [
            30
           ],
           "legendgroup": "",
           "marker": {
            "color": [
             30
            ],
            "coloraxis": "coloraxis",
            "size": [
             30
            ],
            "sizemode": "area",
            "sizeref": 0.03272727272727273,
            "symbol": "circle"
           },
           "mode": "markers",
           "name": "",
           "showlegend": false,
           "type": "scatter",
           "x": [
            30
           ],
           "xaxis": "x",
           "y": [
            -0.9880316240928618
           ],
           "yaxis": "y"
          }
         ],
         "name": "30"
        },
        {
         "data": [
          {
           "hoverlabel": {
            "namelength": 0
           },
           "hovertemplate": "<b>%{hovertext}</b><br><br>index=31<br>x=%{x}<br>y=%{y}<br>size=%{marker.color}",
           "hovertext": [
            31
           ],
           "legendgroup": "",
           "marker": {
            "color": [
             31
            ],
            "coloraxis": "coloraxis",
            "size": [
             31
            ],
            "sizemode": "area",
            "sizeref": 0.03272727272727273,
            "symbol": "circle"
           },
           "mode": "markers",
           "name": "",
           "showlegend": false,
           "type": "scatter",
           "x": [
            31
           ],
           "xaxis": "x",
           "y": [
            -0.404037645323065
           ],
           "yaxis": "y"
          }
         ],
         "name": "31"
        },
        {
         "data": [
          {
           "hoverlabel": {
            "namelength": 0
           },
           "hovertemplate": "<b>%{hovertext}</b><br><br>index=32<br>x=%{x}<br>y=%{y}<br>size=%{marker.color}",
           "hovertext": [
            32
           ],
           "legendgroup": "",
           "marker": {
            "color": [
             32
            ],
            "coloraxis": "coloraxis",
            "size": [
             32
            ],
            "sizemode": "area",
            "sizeref": 0.03272727272727273,
            "symbol": "circle"
           },
           "mode": "markers",
           "name": "",
           "showlegend": false,
           "type": "scatter",
           "x": [
            32
           ],
           "xaxis": "x",
           "y": [
            0.5514266812416906
           ],
           "yaxis": "y"
          }
         ],
         "name": "32"
        },
        {
         "data": [
          {
           "hoverlabel": {
            "namelength": 0
           },
           "hovertemplate": "<b>%{hovertext}</b><br><br>index=33<br>x=%{x}<br>y=%{y}<br>size=%{marker.color}",
           "hovertext": [
            33
           ],
           "legendgroup": "",
           "marker": {
            "color": [
             33
            ],
            "coloraxis": "coloraxis",
            "size": [
             33
            ],
            "sizemode": "area",
            "sizeref": 0.03272727272727273,
            "symbol": "circle"
           },
           "mode": "markers",
           "name": "",
           "showlegend": false,
           "type": "scatter",
           "x": [
            33
           ],
           "xaxis": "x",
           "y": [
            0.9999118601072672
           ],
           "yaxis": "y"
          }
         ],
         "name": "33"
        },
        {
         "data": [
          {
           "hoverlabel": {
            "namelength": 0
           },
           "hovertemplate": "<b>%{hovertext}</b><br><br>index=34<br>x=%{x}<br>y=%{y}<br>size=%{marker.color}",
           "hovertext": [
            34
           ],
           "legendgroup": "",
           "marker": {
            "color": [
             34
            ],
            "coloraxis": "coloraxis",
            "size": [
             34
            ],
            "sizemode": "area",
            "sizeref": 0.03272727272727273,
            "symbol": "circle"
           },
           "mode": "markers",
           "name": "",
           "showlegend": false,
           "type": "scatter",
           "x": [
            34
           ],
           "xaxis": "x",
           "y": [
            0.5290826861200238
           ],
           "yaxis": "y"
          }
         ],
         "name": "34"
        },
        {
         "data": [
          {
           "hoverlabel": {
            "namelength": 0
           },
           "hovertemplate": "<b>%{hovertext}</b><br><br>index=35<br>x=%{x}<br>y=%{y}<br>size=%{marker.color}",
           "hovertext": [
            35
           ],
           "legendgroup": "",
           "marker": {
            "color": [
             35
            ],
            "coloraxis": "coloraxis",
            "size": [
             35
            ],
            "sizemode": "area",
            "sizeref": 0.03272727272727273,
            "symbol": "circle"
           },
           "mode": "markers",
           "name": "",
           "showlegend": false,
           "type": "scatter",
           "x": [
            35
           ],
           "xaxis": "x",
           "y": [
            -0.428182669496151
           ],
           "yaxis": "y"
          }
         ],
         "name": "35"
        },
        {
         "data": [
          {
           "hoverlabel": {
            "namelength": 0
           },
           "hovertemplate": "<b>%{hovertext}</b><br><br>index=36<br>x=%{x}<br>y=%{y}<br>size=%{marker.color}",
           "hovertext": [
            36
           ],
           "legendgroup": "",
           "marker": {
            "color": [
             36
            ],
            "coloraxis": "coloraxis",
            "size": [
             36
            ],
            "sizemode": "area",
            "sizeref": 0.03272727272727273,
            "symbol": "circle"
           },
           "mode": "markers",
           "name": "",
           "showlegend": false,
           "type": "scatter",
           "x": [
            36
           ],
           "xaxis": "x",
           "y": [
            -0.9917788534431158
           ],
           "yaxis": "y"
          }
         ],
         "name": "36"
        },
        {
         "data": [
          {
           "hoverlabel": {
            "namelength": 0
           },
           "hovertemplate": "<b>%{hovertext}</b><br><br>index=37<br>x=%{x}<br>y=%{y}<br>size=%{marker.color}",
           "hovertext": [
            37
           ],
           "legendgroup": "",
           "marker": {
            "color": [
             37
            ],
            "coloraxis": "coloraxis",
            "size": [
             37
            ],
            "sizemode": "area",
            "sizeref": 0.03272727272727273,
            "symbol": "circle"
           },
           "mode": "markers",
           "name": "",
           "showlegend": false,
           "type": "scatter",
           "x": [
            37
           ],
           "xaxis": "x",
           "y": [
            -0.6435381333569994
           ],
           "yaxis": "y"
          }
         ],
         "name": "37"
        },
        {
         "data": [
          {
           "hoverlabel": {
            "namelength": 0
           },
           "hovertemplate": "<b>%{hovertext}</b><br><br>index=38<br>x=%{x}<br>y=%{y}<br>size=%{marker.color}",
           "hovertext": [
            38
           ],
           "legendgroup": "",
           "marker": {
            "color": [
             38
            ],
            "coloraxis": "coloraxis",
            "size": [
             38
            ],
            "sizemode": "area",
            "sizeref": 0.03272727272727273,
            "symbol": "circle"
           },
           "mode": "markers",
           "name": "",
           "showlegend": false,
           "type": "scatter",
           "x": [
            38
           ],
           "xaxis": "x",
           "y": [
            0.2963685787093853
           ],
           "yaxis": "y"
          }
         ],
         "name": "38"
        },
        {
         "data": [
          {
           "hoverlabel": {
            "namelength": 0
           },
           "hovertemplate": "<b>%{hovertext}</b><br><br>index=39<br>x=%{x}<br>y=%{y}<br>size=%{marker.color}",
           "hovertext": [
            39
           ],
           "legendgroup": "",
           "marker": {
            "color": [
             39
            ],
            "coloraxis": "coloraxis",
            "size": [
             39
            ],
            "sizemode": "area",
            "sizeref": 0.03272727272727273,
            "symbol": "circle"
           },
           "mode": "markers",
           "name": "",
           "showlegend": false,
           "type": "scatter",
           "x": [
            39
           ],
           "xaxis": "x",
           "y": [
            0.9637953862840878
           ],
           "yaxis": "y"
          }
         ],
         "name": "39"
        },
        {
         "data": [
          {
           "hoverlabel": {
            "namelength": 0
           },
           "hovertemplate": "<b>%{hovertext}</b><br><br>index=40<br>x=%{x}<br>y=%{y}<br>size=%{marker.color}",
           "hovertext": [
            40
           ],
           "legendgroup": "",
           "marker": {
            "color": [
             40
            ],
            "coloraxis": "coloraxis",
            "size": [
             40
            ],
            "sizemode": "area",
            "sizeref": 0.03272727272727273,
            "symbol": "circle"
           },
           "mode": "markers",
           "name": "",
           "showlegend": false,
           "type": "scatter",
           "x": [
            40
           ],
           "xaxis": "x",
           "y": [
            0.7451131604793488
           ],
           "yaxis": "y"
          }
         ],
         "name": "40"
        },
        {
         "data": [
          {
           "hoverlabel": {
            "namelength": 0
           },
           "hovertemplate": "<b>%{hovertext}</b><br><br>index=41<br>x=%{x}<br>y=%{y}<br>size=%{marker.color}",
           "hovertext": [
            41
           ],
           "legendgroup": "",
           "marker": {
            "color": [
             41
            ],
            "coloraxis": "coloraxis",
            "size": [
             41
            ],
            "sizemode": "area",
            "sizeref": 0.03272727272727273,
            "symbol": "circle"
           },
           "mode": "markers",
           "name": "",
           "showlegend": false,
           "type": "scatter",
           "x": [
            41
           ],
           "xaxis": "x",
           "y": [
            -0.158622668804709
           ],
           "yaxis": "y"
          }
         ],
         "name": "41"
        },
        {
         "data": [
          {
           "hoverlabel": {
            "namelength": 0
           },
           "hovertemplate": "<b>%{hovertext}</b><br><br>index=42<br>x=%{x}<br>y=%{y}<br>size=%{marker.color}",
           "hovertext": [
            42
           ],
           "legendgroup": "",
           "marker": {
            "color": [
             42
            ],
            "coloraxis": "coloraxis",
            "size": [
             42
            ],
            "sizemode": "area",
            "sizeref": 0.03272727272727273,
            "symbol": "circle"
           },
           "mode": "markers",
           "name": "",
           "showlegend": false,
           "type": "scatter",
           "x": [
            42
           ],
           "xaxis": "x",
           "y": [
            -0.9165215479156338
           ],
           "yaxis": "y"
          }
         ],
         "name": "42"
        },
        {
         "data": [
          {
           "hoverlabel": {
            "namelength": 0
           },
           "hovertemplate": "<b>%{hovertext}</b><br><br>index=43<br>x=%{x}<br>y=%{y}<br>size=%{marker.color}",
           "hovertext": [
            43
           ],
           "legendgroup": "",
           "marker": {
            "color": [
             43
            ],
            "coloraxis": "coloraxis",
            "size": [
             43
            ],
            "sizemode": "area",
            "sizeref": 0.03272727272727273,
            "symbol": "circle"
           },
           "mode": "markers",
           "name": "",
           "showlegend": false,
           "type": "scatter",
           "x": [
            43
           ],
           "xaxis": "x",
           "y": [
            -0.8317747426285983
           ],
           "yaxis": "y"
          }
         ],
         "name": "43"
        },
        {
         "data": [
          {
           "hoverlabel": {
            "namelength": 0
           },
           "hovertemplate": "<b>%{hovertext}</b><br><br>index=44<br>x=%{x}<br>y=%{y}<br>size=%{marker.color}",
           "hovertext": [
            44
           ],
           "legendgroup": "",
           "marker": {
            "color": [
             44
            ],
            "coloraxis": "coloraxis",
            "size": [
             44
            ],
            "sizemode": "area",
            "sizeref": 0.03272727272727273,
            "symbol": "circle"
           },
           "mode": "markers",
           "name": "",
           "showlegend": false,
           "type": "scatter",
           "x": [
            44
           ],
           "xaxis": "x",
           "y": [
            0.017701925105413577
           ],
           "yaxis": "y"
          }
         ],
         "name": "44"
        },
        {
         "data": [
          {
           "hoverlabel": {
            "namelength": 0
           },
           "hovertemplate": "<b>%{hovertext}</b><br><br>index=45<br>x=%{x}<br>y=%{y}<br>size=%{marker.color}",
           "hovertext": [
            45
           ],
           "legendgroup": "",
           "marker": {
            "color": [
             45
            ],
            "coloraxis": "coloraxis",
            "size": [
             45
            ],
            "sizemode": "area",
            "sizeref": 0.03272727272727273,
            "symbol": "circle"
           },
           "mode": "markers",
           "name": "",
           "showlegend": false,
           "type": "scatter",
           "x": [
            45
           ],
           "xaxis": "x",
           "y": [
            0.8509035245341184
           ],
           "yaxis": "y"
          }
         ],
         "name": "45"
        },
        {
         "data": [
          {
           "hoverlabel": {
            "namelength": 0
           },
           "hovertemplate": "<b>%{hovertext}</b><br><br>index=46<br>x=%{x}<br>y=%{y}<br>size=%{marker.color}",
           "hovertext": [
            46
           ],
           "legendgroup": "",
           "marker": {
            "color": [
             46
            ],
            "coloraxis": "coloraxis",
            "size": [
             46
            ],
            "sizemode": "area",
            "sizeref": 0.03272727272727273,
            "symbol": "circle"
           },
           "mode": "markers",
           "name": "",
           "showlegend": false,
           "type": "scatter",
           "x": [
            46
           ],
           "xaxis": "x",
           "y": [
            0.9017883476488092
           ],
           "yaxis": "y"
          }
         ],
         "name": "46"
        },
        {
         "data": [
          {
           "hoverlabel": {
            "namelength": 0
           },
           "hovertemplate": "<b>%{hovertext}</b><br><br>index=47<br>x=%{x}<br>y=%{y}<br>size=%{marker.color}",
           "hovertext": [
            47
           ],
           "legendgroup": "",
           "marker": {
            "color": [
             47
            ],
            "coloraxis": "coloraxis",
            "size": [
             47
            ],
            "sizemode": "area",
            "sizeref": 0.03272727272727273,
            "symbol": "circle"
           },
           "mode": "markers",
           "name": "",
           "showlegend": false,
           "type": "scatter",
           "x": [
            47
           ],
           "xaxis": "x",
           "y": [
            0.123573122745224
           ],
           "yaxis": "y"
          }
         ],
         "name": "47"
        },
        {
         "data": [
          {
           "hoverlabel": {
            "namelength": 0
           },
           "hovertemplate": "<b>%{hovertext}</b><br><br>index=48<br>x=%{x}<br>y=%{y}<br>size=%{marker.color}",
           "hovertext": [
            48
           ],
           "legendgroup": "",
           "marker": {
            "color": [
             48
            ],
            "coloraxis": "coloraxis",
            "size": [
             48
            ],
            "sizemode": "area",
            "sizeref": 0.03272727272727273,
            "symbol": "circle"
           },
           "mode": "markers",
           "name": "",
           "showlegend": false,
           "type": "scatter",
           "x": [
            48
           ],
           "xaxis": "x",
           "y": [
            -0.7682546613236668
           ],
           "yaxis": "y"
          }
         ],
         "name": "48"
        },
        {
         "data": [
          {
           "hoverlabel": {
            "namelength": 0
           },
           "hovertemplate": "<b>%{hovertext}</b><br><br>index=49<br>x=%{x}<br>y=%{y}<br>size=%{marker.color}",
           "hovertext": [
            49
           ],
           "legendgroup": "",
           "marker": {
            "color": [
             49
            ],
            "coloraxis": "coloraxis",
            "size": [
             49
            ],
            "sizemode": "area",
            "sizeref": 0.03272727272727273,
            "symbol": "circle"
           },
           "mode": "markers",
           "name": "",
           "showlegend": false,
           "type": "scatter",
           "x": [
            49
           ],
           "xaxis": "x",
           "y": [
            -0.9537526527594719
           ],
           "yaxis": "y"
          }
         ],
         "name": "49"
        },
        {
         "data": [
          {
           "hoverlabel": {
            "namelength": 0
           },
           "hovertemplate": "<b>%{hovertext}</b><br><br>index=50<br>x=%{x}<br>y=%{y}<br>size=%{marker.color}",
           "hovertext": [
            50
           ],
           "legendgroup": "",
           "marker": {
            "color": [
             50
            ],
            "coloraxis": "coloraxis",
            "size": [
             50
            ],
            "sizemode": "area",
            "sizeref": 0.03272727272727273,
            "symbol": "circle"
           },
           "mode": "markers",
           "name": "",
           "showlegend": false,
           "type": "scatter",
           "x": [
            50
           ],
           "xaxis": "x",
           "y": [
            -0.26237485370392877
           ],
           "yaxis": "y"
          }
         ],
         "name": "50"
        },
        {
         "data": [
          {
           "hoverlabel": {
            "namelength": 0
           },
           "hovertemplate": "<b>%{hovertext}</b><br><br>index=51<br>x=%{x}<br>y=%{y}<br>size=%{marker.color}",
           "hovertext": [
            51
           ],
           "legendgroup": "",
           "marker": {
            "color": [
             51
            ],
            "coloraxis": "coloraxis",
            "size": [
             51
            ],
            "sizemode": "area",
            "sizeref": 0.03272727272727273,
            "symbol": "circle"
           },
           "mode": "markers",
           "name": "",
           "showlegend": false,
           "type": "scatter",
           "x": [
            51
           ],
           "xaxis": "x",
           "y": [
            0.6702291758433747
           ],
           "yaxis": "y"
          }
         ],
         "name": "51"
        },
        {
         "data": [
          {
           "hoverlabel": {
            "namelength": 0
           },
           "hovertemplate": "<b>%{hovertext}</b><br><br>index=52<br>x=%{x}<br>y=%{y}<br>size=%{marker.color}",
           "hovertext": [
            52
           ],
           "legendgroup": "",
           "marker": {
            "color": [
             52
            ],
            "coloraxis": "coloraxis",
            "size": [
             52
            ],
            "sizemode": "area",
            "sizeref": 0.03272727272727273,
            "symbol": "circle"
           },
           "mode": "markers",
           "name": "",
           "showlegend": false,
           "type": "scatter",
           "x": [
            52
           ],
           "xaxis": "x",
           "y": [
            0.9866275920404853
           ],
           "yaxis": "y"
          }
         ],
         "name": "52"
        },
        {
         "data": [
          {
           "hoverlabel": {
            "namelength": 0
           },
           "hovertemplate": "<b>%{hovertext}</b><br><br>index=53<br>x=%{x}<br>y=%{y}<br>size=%{marker.color}",
           "hovertext": [
            53
           ],
           "legendgroup": "",
           "marker": {
            "color": [
             53
            ],
            "coloraxis": "coloraxis",
            "size": [
             53
            ],
            "sizemode": "area",
            "sizeref": 0.03272727272727273,
            "symbol": "circle"
           },
           "mode": "markers",
           "name": "",
           "showlegend": false,
           "type": "scatter",
           "x": [
            53
           ],
           "xaxis": "x",
           "y": [
            0.3959251501818342
           ],
           "yaxis": "y"
          }
         ],
         "name": "53"
        },
        {
         "data": [
          {
           "hoverlabel": {
            "namelength": 0
           },
           "hovertemplate": "<b>%{hovertext}</b><br><br>index=54<br>x=%{x}<br>y=%{y}<br>size=%{marker.color}",
           "hovertext": [
            54
           ],
           "legendgroup": "",
           "marker": {
            "color": [
             54
            ],
            "coloraxis": "coloraxis",
            "size": [
             54
            ],
            "sizemode": "area",
            "sizeref": 0.03272727272727273,
            "symbol": "circle"
           },
           "mode": "markers",
           "name": "",
           "showlegend": false,
           "type": "scatter",
           "x": [
            54
           ],
           "xaxis": "x",
           "y": [
            -0.5587890488516162
           ],
           "yaxis": "y"
          }
         ],
         "name": "54"
        },
        {
         "data": [
          {
           "hoverlabel": {
            "namelength": 0
           },
           "hovertemplate": "<b>%{hovertext}</b><br><br>index=55<br>x=%{x}<br>y=%{y}<br>size=%{marker.color}",
           "hovertext": [
            55
           ],
           "legendgroup": "",
           "marker": {
            "color": [
             55
            ],
            "coloraxis": "coloraxis",
            "size": [
             55
            ],
            "sizemode": "area",
            "sizeref": 0.03272727272727273,
            "symbol": "circle"
           },
           "mode": "markers",
           "name": "",
           "showlegend": false,
           "type": "scatter",
           "x": [
            55
           ],
           "xaxis": "x",
           "y": [
            -0.9997551733586199
           ],
           "yaxis": "y"
          }
         ],
         "name": "55"
        },
        {
         "data": [
          {
           "hoverlabel": {
            "namelength": 0
           },
           "hovertemplate": "<b>%{hovertext}</b><br><br>index=56<br>x=%{x}<br>y=%{y}<br>size=%{marker.color}",
           "hovertext": [
            56
           ],
           "legendgroup": "",
           "marker": {
            "color": [
             56
            ],
            "coloraxis": "coloraxis",
            "size": [
             56
            ],
            "sizemode": "area",
            "sizeref": 0.03272727272727273,
            "symbol": "circle"
           },
           "mode": "markers",
           "name": "",
           "showlegend": false,
           "type": "scatter",
           "x": [
            56
           ],
           "xaxis": "x",
           "y": [
            -0.5215510020869119
           ],
           "yaxis": "y"
          }
         ],
         "name": "56"
        },
        {
         "data": [
          {
           "hoverlabel": {
            "namelength": 0
           },
           "hovertemplate": "<b>%{hovertext}</b><br><br>index=57<br>x=%{x}<br>y=%{y}<br>size=%{marker.color}",
           "hovertext": [
            57
           ],
           "legendgroup": "",
           "marker": {
            "color": [
             57
            ],
            "coloraxis": "coloraxis",
            "size": [
             57
            ],
            "sizemode": "area",
            "sizeref": 0.03272727272727273,
            "symbol": "circle"
           },
           "mode": "markers",
           "name": "",
           "showlegend": false,
           "type": "scatter",
           "x": [
            57
           ],
           "xaxis": "x",
           "y": [
            0.43616475524782494
           ],
           "yaxis": "y"
          }
         ],
         "name": "57"
        },
        {
         "data": [
          {
           "hoverlabel": {
            "namelength": 0
           },
           "hovertemplate": "<b>%{hovertext}</b><br><br>index=58<br>x=%{x}<br>y=%{y}<br>size=%{marker.color}",
           "hovertext": [
            58
           ],
           "legendgroup": "",
           "marker": {
            "color": [
             58
            ],
            "coloraxis": "coloraxis",
            "size": [
             58
            ],
            "sizemode": "area",
            "sizeref": 0.03272727272727273,
            "symbol": "circle"
           },
           "mode": "markers",
           "name": "",
           "showlegend": false,
           "type": "scatter",
           "x": [
            58
           ],
           "xaxis": "x",
           "y": [
            0.9928726480845371
           ],
           "yaxis": "y"
          }
         ],
         "name": "58"
        },
        {
         "data": [
          {
           "hoverlabel": {
            "namelength": 0
           },
           "hovertemplate": "<b>%{hovertext}</b><br><br>index=59<br>x=%{x}<br>y=%{y}<br>size=%{marker.color}",
           "hovertext": [
            59
           ],
           "legendgroup": "",
           "marker": {
            "color": [
             59
            ],
            "coloraxis": "coloraxis",
            "size": [
             59
            ],
            "sizemode": "area",
            "sizeref": 0.03272727272727273,
            "symbol": "circle"
           },
           "mode": "markers",
           "name": "",
           "showlegend": false,
           "type": "scatter",
           "x": [
            59
           ],
           "xaxis": "x",
           "y": [
            0.6367380071391379
           ],
           "yaxis": "y"
          }
         ],
         "name": "59"
        },
        {
         "data": [
          {
           "hoverlabel": {
            "namelength": 0
           },
           "hovertemplate": "<b>%{hovertext}</b><br><br>index=60<br>x=%{x}<br>y=%{y}<br>size=%{marker.color}",
           "hovertext": [
            60
           ],
           "legendgroup": "",
           "marker": {
            "color": [
             60
            ],
            "coloraxis": "coloraxis",
            "size": [
             60
            ],
            "sizemode": "area",
            "sizeref": 0.03272727272727273,
            "symbol": "circle"
           },
           "mode": "markers",
           "name": "",
           "showlegend": false,
           "type": "scatter",
           "x": [
            60
           ],
           "xaxis": "x",
           "y": [
            -0.3048106211022167
           ],
           "yaxis": "y"
          }
         ],
         "name": "60"
        },
        {
         "data": [
          {
           "hoverlabel": {
            "namelength": 0
           },
           "hovertemplate": "<b>%{hovertext}</b><br><br>index=61<br>x=%{x}<br>y=%{y}<br>size=%{marker.color}",
           "hovertext": [
            61
           ],
           "legendgroup": "",
           "marker": {
            "color": [
             61
            ],
            "coloraxis": "coloraxis",
            "size": [
             61
            ],
            "sizemode": "area",
            "sizeref": 0.03272727272727273,
            "symbol": "circle"
           },
           "mode": "markers",
           "name": "",
           "showlegend": false,
           "type": "scatter",
           "x": [
            61
           ],
           "xaxis": "x",
           "y": [
            -0.9661177700083929
           ],
           "yaxis": "y"
          }
         ],
         "name": "61"
        },
        {
         "data": [
          {
           "hoverlabel": {
            "namelength": 0
           },
           "hovertemplate": "<b>%{hovertext}</b><br><br>index=62<br>x=%{x}<br>y=%{y}<br>size=%{marker.color}",
           "hovertext": [
            62
           ],
           "legendgroup": "",
           "marker": {
            "color": [
             62
            ],
            "coloraxis": "coloraxis",
            "size": [
             62
            ],
            "sizemode": "area",
            "sizeref": 0.03272727272727273,
            "symbol": "circle"
           },
           "mode": "markers",
           "name": "",
           "showlegend": false,
           "type": "scatter",
           "x": [
            62
           ],
           "xaxis": "x",
           "y": [
            -0.7391806966492229
           ],
           "yaxis": "y"
          }
         ],
         "name": "62"
        },
        {
         "data": [
          {
           "hoverlabel": {
            "namelength": 0
           },
           "hovertemplate": "<b>%{hovertext}</b><br><br>index=63<br>x=%{x}<br>y=%{y}<br>size=%{marker.color}",
           "hovertext": [
            63
           ],
           "legendgroup": "",
           "marker": {
            "color": [
             63
            ],
            "coloraxis": "coloraxis",
            "size": [
             63
            ],
            "sizemode": "area",
            "sizeref": 0.03272727272727273,
            "symbol": "circle"
           },
           "mode": "markers",
           "name": "",
           "showlegend": false,
           "type": "scatter",
           "x": [
            63
           ],
           "xaxis": "x",
           "y": [
            0.16735570030280694
           ],
           "yaxis": "y"
          }
         ],
         "name": "63"
        },
        {
         "data": [
          {
           "hoverlabel": {
            "namelength": 0
           },
           "hovertemplate": "<b>%{hovertext}</b><br><br>index=64<br>x=%{x}<br>y=%{y}<br>size=%{marker.color}",
           "hovertext": [
            64
           ],
           "legendgroup": "",
           "marker": {
            "color": [
             64
            ],
            "coloraxis": "coloraxis",
            "size": [
             64
            ],
            "sizemode": "area",
            "sizeref": 0.03272727272727273,
            "symbol": "circle"
           },
           "mode": "markers",
           "name": "",
           "showlegend": false,
           "type": "scatter",
           "x": [
            64
           ],
           "xaxis": "x",
           "y": [
            0.9200260381967907
           ],
           "yaxis": "y"
          }
         ],
         "name": "64"
        },
        {
         "data": [
          {
           "hoverlabel": {
            "namelength": 0
           },
           "hovertemplate": "<b>%{hovertext}</b><br><br>index=65<br>x=%{x}<br>y=%{y}<br>size=%{marker.color}",
           "hovertext": [
            65
           ],
           "legendgroup": "",
           "marker": {
            "color": [
             65
            ],
            "coloraxis": "coloraxis",
            "size": [
             65
            ],
            "sizemode": "area",
            "sizeref": 0.03272727272727273,
            "symbol": "circle"
           },
           "mode": "markers",
           "name": "",
           "showlegend": false,
           "type": "scatter",
           "x": [
            65
           ],
           "xaxis": "x",
           "y": [
            0.8268286794901035
           ],
           "yaxis": "y"
          }
         ],
         "name": "65"
        },
        {
         "data": [
          {
           "hoverlabel": {
            "namelength": 0
           },
           "hovertemplate": "<b>%{hovertext}</b><br><br>index=66<br>x=%{x}<br>y=%{y}<br>size=%{marker.color}",
           "hovertext": [
            66
           ],
           "legendgroup": "",
           "marker": {
            "color": [
             66
            ],
            "coloraxis": "coloraxis",
            "size": [
             66
            ],
            "sizemode": "area",
            "sizeref": 0.03272727272727273,
            "symbol": "circle"
           },
           "mode": "markers",
           "name": "",
           "showlegend": false,
           "type": "scatter",
           "x": [
            66
           ],
           "xaxis": "x",
           "y": [
            -0.026551154023966794
           ],
           "yaxis": "y"
          }
         ],
         "name": "66"
        },
        {
         "data": [
          {
           "hoverlabel": {
            "namelength": 0
           },
           "hovertemplate": "<b>%{hovertext}</b><br><br>index=67<br>x=%{x}<br>y=%{y}<br>size=%{marker.color}",
           "hovertext": [
            67
           ],
           "legendgroup": "",
           "marker": {
            "color": [
             67
            ],
            "coloraxis": "coloraxis",
            "size": [
             67
            ],
            "sizemode": "area",
            "sizeref": 0.03272727272727273,
            "symbol": "circle"
           },
           "mode": "markers",
           "name": "",
           "showlegend": false,
           "type": "scatter",
           "x": [
            67
           ],
           "xaxis": "x",
           "y": [
            -0.8555199789753223
           ],
           "yaxis": "y"
          }
         ],
         "name": "67"
        },
        {
         "data": [
          {
           "hoverlabel": {
            "namelength": 0
           },
           "hovertemplate": "<b>%{hovertext}</b><br><br>index=68<br>x=%{x}<br>y=%{y}<br>size=%{marker.color}",
           "hovertext": [
            68
           ],
           "legendgroup": "",
           "marker": {
            "color": [
             68
            ],
            "coloraxis": "coloraxis",
            "size": [
             68
            ],
            "sizemode": "area",
            "sizeref": 0.03272727272727273,
            "symbol": "circle"
           },
           "mode": "markers",
           "name": "",
           "showlegend": false,
           "type": "scatter",
           "x": [
            68
           ],
           "xaxis": "x",
           "y": [
            -0.8979276806892913
           ],
           "yaxis": "y"
          }
         ],
         "name": "68"
        },
        {
         "data": [
          {
           "hoverlabel": {
            "namelength": 0
           },
           "hovertemplate": "<b>%{hovertext}</b><br><br>index=69<br>x=%{x}<br>y=%{y}<br>size=%{marker.color}",
           "hovertext": [
            69
           ],
           "legendgroup": "",
           "marker": {
            "color": [
             69
            ],
            "coloraxis": "coloraxis",
            "size": [
             69
            ],
            "sizemode": "area",
            "sizeref": 0.03272727272727273,
            "symbol": "circle"
           },
           "mode": "markers",
           "name": "",
           "showlegend": false,
           "type": "scatter",
           "x": [
            69
           ],
           "xaxis": "x",
           "y": [
            -0.11478481378318722
           ],
           "yaxis": "y"
          }
         ],
         "name": "69"
        },
        {
         "data": [
          {
           "hoverlabel": {
            "namelength": 0
           },
           "hovertemplate": "<b>%{hovertext}</b><br><br>index=70<br>x=%{x}<br>y=%{y}<br>size=%{marker.color}",
           "hovertext": [
            70
           ],
           "legendgroup": "",
           "marker": {
            "color": [
             70
            ],
            "coloraxis": "coloraxis",
            "size": [
             70
            ],
            "sizemode": "area",
            "sizeref": 0.03272727272727273,
            "symbol": "circle"
           },
           "mode": "markers",
           "name": "",
           "showlegend": false,
           "type": "scatter",
           "x": [
            70
           ],
           "xaxis": "x",
           "y": [
            0.7738906815578891
           ],
           "yaxis": "y"
          }
         ],
         "name": "70"
        },
        {
         "data": [
          {
           "hoverlabel": {
            "namelength": 0
           },
           "hovertemplate": "<b>%{hovertext}</b><br><br>index=71<br>x=%{x}<br>y=%{y}<br>size=%{marker.color}",
           "hovertext": [
            71
           ],
           "legendgroup": "",
           "marker": {
            "color": [
             71
            ],
            "coloraxis": "coloraxis",
            "size": [
             71
            ],
            "sizemode": "area",
            "sizeref": 0.03272727272727273,
            "symbol": "circle"
           },
           "mode": "markers",
           "name": "",
           "showlegend": false,
           "type": "scatter",
           "x": [
            71
           ],
           "xaxis": "x",
           "y": [
            0.9510546532543747
           ],
           "yaxis": "y"
          }
         ],
         "name": "71"
        },
        {
         "data": [
          {
           "hoverlabel": {
            "namelength": 0
           },
           "hovertemplate": "<b>%{hovertext}</b><br><br>index=72<br>x=%{x}<br>y=%{y}<br>size=%{marker.color}",
           "hovertext": [
            72
           ],
           "legendgroup": "",
           "marker": {
            "color": [
             72
            ],
            "coloraxis": "coloraxis",
            "size": [
             72
            ],
            "sizemode": "area",
            "sizeref": 0.03272727272727273,
            "symbol": "circle"
           },
           "mode": "markers",
           "name": "",
           "showlegend": false,
           "type": "scatter",
           "x": [
            72
           ],
           "xaxis": "x",
           "y": [
            0.25382336276203626
           ],
           "yaxis": "y"
          }
         ],
         "name": "72"
        },
        {
         "data": [
          {
           "hoverlabel": {
            "namelength": 0
           },
           "hovertemplate": "<b>%{hovertext}</b><br><br>index=73<br>x=%{x}<br>y=%{y}<br>size=%{marker.color}",
           "hovertext": [
            73
           ],
           "legendgroup": "",
           "marker": {
            "color": [
             73
            ],
            "coloraxis": "coloraxis",
            "size": [
             73
            ],
            "sizemode": "area",
            "sizeref": 0.03272727272727273,
            "symbol": "circle"
           },
           "mode": "markers",
           "name": "",
           "showlegend": false,
           "type": "scatter",
           "x": [
            73
           ],
           "xaxis": "x",
           "y": [
            -0.6767719568873076
           ],
           "yaxis": "y"
          }
         ],
         "name": "73"
        },
        {
         "data": [
          {
           "hoverlabel": {
            "namelength": 0
           },
           "hovertemplate": "<b>%{hovertext}</b><br><br>index=74<br>x=%{x}<br>y=%{y}<br>size=%{marker.color}",
           "hovertext": [
            74
           ],
           "legendgroup": "",
           "marker": {
            "color": [
             74
            ],
            "coloraxis": "coloraxis",
            "size": [
             74
            ],
            "sizemode": "area",
            "sizeref": 0.03272727272727273,
            "symbol": "circle"
           },
           "mode": "markers",
           "name": "",
           "showlegend": false,
           "type": "scatter",
           "x": [
            74
           ],
           "xaxis": "x",
           "y": [
            -0.9851462604682474
           ],
           "yaxis": "y"
          }
         ],
         "name": "74"
        },
        {
         "data": [
          {
           "hoverlabel": {
            "namelength": 0
           },
           "hovertemplate": "<b>%{hovertext}</b><br><br>index=75<br>x=%{x}<br>y=%{y}<br>size=%{marker.color}",
           "hovertext": [
            75
           ],
           "legendgroup": "",
           "marker": {
            "color": [
             75
            ],
            "coloraxis": "coloraxis",
            "size": [
             75
            ],
            "sizemode": "area",
            "sizeref": 0.03272727272727273,
            "symbol": "circle"
           },
           "mode": "markers",
           "name": "",
           "showlegend": false,
           "type": "scatter",
           "x": [
            75
           ],
           "xaxis": "x",
           "y": [
            -0.38778163540943045
           ],
           "yaxis": "y"
          }
         ],
         "name": "75"
        },
        {
         "data": [
          {
           "hoverlabel": {
            "namelength": 0
           },
           "hovertemplate": "<b>%{hovertext}</b><br><br>index=76<br>x=%{x}<br>y=%{y}<br>size=%{marker.color}",
           "hovertext": [
            76
           ],
           "legendgroup": "",
           "marker": {
            "color": [
             76
            ],
            "coloraxis": "coloraxis",
            "size": [
             76
            ],
            "sizemode": "area",
            "sizeref": 0.03272727272727273,
            "symbol": "circle"
           },
           "mode": "markers",
           "name": "",
           "showlegend": false,
           "type": "scatter",
           "x": [
            76
           ],
           "xaxis": "x",
           "y": [
            0.5661076368981803
           ],
           "yaxis": "y"
          }
         ],
         "name": "76"
        },
        {
         "data": [
          {
           "hoverlabel": {
            "namelength": 0
           },
           "hovertemplate": "<b>%{hovertext}</b><br><br>index=77<br>x=%{x}<br>y=%{y}<br>size=%{marker.color}",
           "hovertext": [
            77
           ],
           "legendgroup": "",
           "marker": {
            "color": [
             77
            ],
            "coloraxis": "coloraxis",
            "size": [
             77
            ],
            "sizemode": "area",
            "sizeref": 0.03272727272727273,
            "symbol": "circle"
           },
           "mode": "markers",
           "name": "",
           "showlegend": false,
           "type": "scatter",
           "x": [
            77
           ],
           "xaxis": "x",
           "y": [
            0.9995201585807313
           ],
           "yaxis": "y"
          }
         ],
         "name": "77"
        },
        {
         "data": [
          {
           "hoverlabel": {
            "namelength": 0
           },
           "hovertemplate": "<b>%{hovertext}</b><br><br>index=78<br>x=%{x}<br>y=%{y}<br>size=%{marker.color}",
           "hovertext": [
            78
           ],
           "legendgroup": "",
           "marker": {
            "color": [
             78
            ],
            "coloraxis": "coloraxis",
            "size": [
             78
            ],
            "sizemode": "area",
            "sizeref": 0.03272727272727273,
            "symbol": "circle"
           },
           "mode": "markers",
           "name": "",
           "showlegend": false,
           "type": "scatter",
           "x": [
            78
           ],
           "xaxis": "x",
           "y": [
            0.5139784559875352
           ],
           "yaxis": "y"
          }
         ],
         "name": "78"
        },
        {
         "data": [
          {
           "hoverlabel": {
            "namelength": 0
           },
           "hovertemplate": "<b>%{hovertext}</b><br><br>index=79<br>x=%{x}<br>y=%{y}<br>size=%{marker.color}",
           "hovertext": [
            79
           ],
           "legendgroup": "",
           "marker": {
            "color": [
             79
            ],
            "coloraxis": "coloraxis",
            "size": [
             79
            ],
            "sizemode": "area",
            "sizeref": 0.03272727272727273,
            "symbol": "circle"
           },
           "mode": "markers",
           "name": "",
           "showlegend": false,
           "type": "scatter",
           "x": [
            79
           ],
           "xaxis": "x",
           "y": [
            -0.4441126687075084
           ],
           "yaxis": "y"
          }
         ],
         "name": "79"
        },
        {
         "data": [
          {
           "hoverlabel": {
            "namelength": 0
           },
           "hovertemplate": "<b>%{hovertext}</b><br><br>index=80<br>x=%{x}<br>y=%{y}<br>size=%{marker.color}",
           "hovertext": [
            80
           ],
           "legendgroup": "",
           "marker": {
            "color": [
             80
            ],
            "coloraxis": "coloraxis",
            "size": [
             80
            ],
            "sizemode": "area",
            "sizeref": 0.03272727272727273,
            "symbol": "circle"
           },
           "mode": "markers",
           "name": "",
           "showlegend": false,
           "type": "scatter",
           "x": [
            80
           ],
           "xaxis": "x",
           "y": [
            -0.9938886539233752
           ],
           "yaxis": "y"
          }
         ],
         "name": "80"
        },
        {
         "data": [
          {
           "hoverlabel": {
            "namelength": 0
           },
           "hovertemplate": "<b>%{hovertext}</b><br><br>index=81<br>x=%{x}<br>y=%{y}<br>size=%{marker.color}",
           "hovertext": [
            81
           ],
           "legendgroup": "",
           "marker": {
            "color": [
             81
            ],
            "coloraxis": "coloraxis",
            "size": [
             81
            ],
            "sizemode": "area",
            "sizeref": 0.03272727272727273,
            "symbol": "circle"
           },
           "mode": "markers",
           "name": "",
           "showlegend": false,
           "type": "scatter",
           "x": [
            81
           ],
           "xaxis": "x",
           "y": [
            -0.629887994274454
           ],
           "yaxis": "y"
          }
         ],
         "name": "81"
        },
        {
         "data": [
          {
           "hoverlabel": {
            "namelength": 0
           },
           "hovertemplate": "<b>%{hovertext}</b><br><br>index=82<br>x=%{x}<br>y=%{y}<br>size=%{marker.color}",
           "hovertext": [
            82
           ],
           "legendgroup": "",
           "marker": {
            "color": [
             82
            ],
            "coloraxis": "coloraxis",
            "size": [
             82
            ],
            "sizemode": "area",
            "sizeref": 0.03272727272727273,
            "symbol": "circle"
           },
           "mode": "markers",
           "name": "",
           "showlegend": false,
           "type": "scatter",
           "x": [
            82
           ],
           "xaxis": "x",
           "y": [
            0.31322878243308516
           ],
           "yaxis": "y"
          }
         ],
         "name": "82"
        },
        {
         "data": [
          {
           "hoverlabel": {
            "namelength": 0
           },
           "hovertemplate": "<b>%{hovertext}</b><br><br>index=83<br>x=%{x}<br>y=%{y}<br>size=%{marker.color}",
           "hovertext": [
            83
           ],
           "legendgroup": "",
           "marker": {
            "color": [
             83
            ],
            "coloraxis": "coloraxis",
            "size": [
             83
            ],
            "sizemode": "area",
            "sizeref": 0.03272727272727273,
            "symbol": "circle"
           },
           "mode": "markers",
           "name": "",
           "showlegend": false,
           "type": "scatter",
           "x": [
            83
           ],
           "xaxis": "x",
           "y": [
            0.9683644611001854
           ],
           "yaxis": "y"
          }
         ],
         "name": "83"
        },
        {
         "data": [
          {
           "hoverlabel": {
            "namelength": 0
           },
           "hovertemplate": "<b>%{hovertext}</b><br><br>index=84<br>x=%{x}<br>y=%{y}<br>size=%{marker.color}",
           "hovertext": [
            84
           ],
           "legendgroup": "",
           "marker": {
            "color": [
             84
            ],
            "coloraxis": "coloraxis",
            "size": [
             84
            ],
            "sizemode": "area",
            "sizeref": 0.03272727272727273,
            "symbol": "circle"
           },
           "mode": "markers",
           "name": "",
           "showlegend": false,
           "type": "scatter",
           "x": [
            84
           ],
           "xaxis": "x",
           "y": [
            0.7331903200732921
           ],
           "yaxis": "y"
          }
         ],
         "name": "84"
        },
        {
         "data": [
          {
           "hoverlabel": {
            "namelength": 0
           },
           "hovertemplate": "<b>%{hovertext}</b><br><br>index=85<br>x=%{x}<br>y=%{y}<br>size=%{marker.color}",
           "hovertext": [
            85
           ],
           "legendgroup": "",
           "marker": {
            "color": [
             85
            ],
            "coloraxis": "coloraxis",
            "size": [
             85
            ],
            "sizemode": "area",
            "sizeref": 0.03272727272727273,
            "symbol": "circle"
           },
           "mode": "markers",
           "name": "",
           "showlegend": false,
           "type": "scatter",
           "x": [
            85
           ],
           "xaxis": "x",
           "y": [
            -0.1760756199485871
           ],
           "yaxis": "y"
          }
         ],
         "name": "85"
        },
        {
         "data": [
          {
           "hoverlabel": {
            "namelength": 0
           },
           "hovertemplate": "<b>%{hovertext}</b><br><br>index=86<br>x=%{x}<br>y=%{y}<br>size=%{marker.color}",
           "hovertext": [
            86
           ],
           "legendgroup": "",
           "marker": {
            "color": [
             86
            ],
            "coloraxis": "coloraxis",
            "size": [
             86
            ],
            "sizemode": "area",
            "sizeref": 0.03272727272727273,
            "symbol": "circle"
           },
           "mode": "markers",
           "name": "",
           "showlegend": false,
           "type": "scatter",
           "x": [
            86
           ],
           "xaxis": "x",
           "y": [
            -0.9234584470040598
           ],
           "yaxis": "y"
          }
         ],
         "name": "86"
        },
        {
         "data": [
          {
           "hoverlabel": {
            "namelength": 0
           },
           "hovertemplate": "<b>%{hovertext}</b><br><br>index=87<br>x=%{x}<br>y=%{y}<br>size=%{marker.color}",
           "hovertext": [
            87
           ],
           "legendgroup": "",
           "marker": {
            "color": [
             87
            ],
            "coloraxis": "coloraxis",
            "size": [
             87
            ],
            "sizemode": "area",
            "sizeref": 0.03272727272727273,
            "symbol": "circle"
           },
           "mode": "markers",
           "name": "",
           "showlegend": false,
           "type": "scatter",
           "x": [
            87
           ],
           "xaxis": "x",
           "y": [
            -0.8218178366308225
           ],
           "yaxis": "y"
          }
         ],
         "name": "87"
        },
        {
         "data": [
          {
           "hoverlabel": {
            "namelength": 0
           },
           "hovertemplate": "<b>%{hovertext}</b><br><br>index=88<br>x=%{x}<br>y=%{y}<br>size=%{marker.color}",
           "hovertext": [
            88
           ],
           "legendgroup": "",
           "marker": {
            "color": [
             88
            ],
            "coloraxis": "coloraxis",
            "size": [
             88
            ],
            "sizemode": "area",
            "sizeref": 0.03272727272727273,
            "symbol": "circle"
           },
           "mode": "markers",
           "name": "",
           "showlegend": false,
           "type": "scatter",
           "x": [
            88
           ],
           "xaxis": "x",
           "y": [
            0.03539830273366069
           ],
           "yaxis": "y"
          }
         ],
         "name": "88"
        },
        {
         "data": [
          {
           "hoverlabel": {
            "namelength": 0
           },
           "hovertemplate": "<b>%{hovertext}</b><br><br>index=89<br>x=%{x}<br>y=%{y}<br>size=%{marker.color}",
           "hovertext": [
            89
           ],
           "legendgroup": "",
           "marker": {
            "color": [
             89
            ],
            "coloraxis": "coloraxis",
            "size": [
             89
            ],
            "sizemode": "area",
            "sizeref": 0.03272727272727273,
            "symbol": "circle"
           },
           "mode": "markers",
           "name": "",
           "showlegend": false,
           "type": "scatter",
           "x": [
            89
           ],
           "xaxis": "x",
           "y": [
            0.8600694058124533
           ],
           "yaxis": "y"
          }
         ],
         "name": "89"
        },
        {
         "data": [
          {
           "hoverlabel": {
            "namelength": 0
           },
           "hovertemplate": "<b>%{hovertext}</b><br><br>index=90<br>x=%{x}<br>y=%{y}<br>size=%{marker.color}",
           "hovertext": [
            90
           ],
           "legendgroup": "",
           "marker": {
            "color": [
             90
            ],
            "coloraxis": "coloraxis",
            "size": [
             90
            ],
            "sizemode": "area",
            "sizeref": 0.03272727272727273,
            "symbol": "circle"
           },
           "mode": "markers",
           "name": "",
           "showlegend": false,
           "type": "scatter",
           "x": [
            90
           ],
           "xaxis": "x",
           "y": [
            0.8939966636005579
           ],
           "yaxis": "y"
          }
         ],
         "name": "90"
        },
        {
         "data": [
          {
           "hoverlabel": {
            "namelength": 0
           },
           "hovertemplate": "<b>%{hovertext}</b><br><br>index=91<br>x=%{x}<br>y=%{y}<br>size=%{marker.color}",
           "hovertext": [
            91
           ],
           "legendgroup": "",
           "marker": {
            "color": [
             91
            ],
            "coloraxis": "coloraxis",
            "size": [
             91
            ],
            "sizemode": "area",
            "sizeref": 0.03272727272727273,
            "symbol": "circle"
           },
           "mode": "markers",
           "name": "",
           "showlegend": false,
           "type": "scatter",
           "x": [
            91
           ],
           "xaxis": "x",
           "y": [
            0.10598751175115685
           ],
           "yaxis": "y"
          }
         ],
         "name": "91"
        },
        {
         "data": [
          {
           "hoverlabel": {
            "namelength": 0
           },
           "hovertemplate": "<b>%{hovertext}</b><br><br>index=92<br>x=%{x}<br>y=%{y}<br>size=%{marker.color}",
           "hovertext": [
            92
           ],
           "legendgroup": "",
           "marker": {
            "color": [
             92
            ],
            "coloraxis": "coloraxis",
            "size": [
             92
            ],
            "sizemode": "area",
            "sizeref": 0.03272727272727273,
            "symbol": "circle"
           },
           "mode": "markers",
           "name": "",
           "showlegend": false,
           "type": "scatter",
           "x": [
            92
           ],
           "xaxis": "x",
           "y": [
            -0.7794660696158047
           ],
           "yaxis": "y"
          }
         ],
         "name": "92"
        },
        {
         "data": [
          {
           "hoverlabel": {
            "namelength": 0
           },
           "hovertemplate": "<b>%{hovertext}</b><br><br>index=93<br>x=%{x}<br>y=%{y}<br>size=%{marker.color}",
           "hovertext": [
            93
           ],
           "legendgroup": "",
           "marker": {
            "color": [
             93
            ],
            "coloraxis": "coloraxis",
            "size": [
             93
            ],
            "sizemode": "area",
            "sizeref": 0.03272727272727273,
            "symbol": "circle"
           },
           "mode": "markers",
           "name": "",
           "showlegend": false,
           "type": "scatter",
           "x": [
            93
           ],
           "xaxis": "x",
           "y": [
            -0.9482821412699473
           ],
           "yaxis": "y"
          }
         ],
         "name": "93"
        },
        {
         "data": [
          {
           "hoverlabel": {
            "namelength": 0
           },
           "hovertemplate": "<b>%{hovertext}</b><br><br>index=94<br>x=%{x}<br>y=%{y}<br>size=%{marker.color}",
           "hovertext": [
            94
           ],
           "legendgroup": "",
           "marker": {
            "color": [
             94
            ],
            "coloraxis": "coloraxis",
            "size": [
             94
            ],
            "sizemode": "area",
            "sizeref": 0.03272727272727273,
            "symbol": "circle"
           },
           "mode": "markers",
           "name": "",
           "showlegend": false,
           "type": "scatter",
           "x": [
            94
           ],
           "xaxis": "x",
           "y": [
            -0.2452519854676543
           ],
           "yaxis": "y"
          }
         ],
         "name": "94"
        },
        {
         "data": [
          {
           "hoverlabel": {
            "namelength": 0
           },
           "hovertemplate": "<b>%{hovertext}</b><br><br>index=95<br>x=%{x}<br>y=%{y}<br>size=%{marker.color}",
           "hovertext": [
            95
           ],
           "legendgroup": "",
           "marker": {
            "color": [
             95
            ],
            "coloraxis": "coloraxis",
            "size": [
             95
            ],
            "sizemode": "area",
            "sizeref": 0.03272727272727273,
            "symbol": "circle"
           },
           "mode": "markers",
           "name": "",
           "showlegend": false,
           "type": "scatter",
           "x": [
            95
           ],
           "xaxis": "x",
           "y": [
            0.683261714736121
           ],
           "yaxis": "y"
          }
         ],
         "name": "95"
        },
        {
         "data": [
          {
           "hoverlabel": {
            "namelength": 0
           },
           "hovertemplate": "<b>%{hovertext}</b><br><br>index=96<br>x=%{x}<br>y=%{y}<br>size=%{marker.color}",
           "hovertext": [
            96
           ],
           "legendgroup": "",
           "marker": {
            "color": [
             96
            ],
            "coloraxis": "coloraxis",
            "size": [
             96
            ],
            "sizemode": "area",
            "sizeref": 0.03272727272727273,
            "symbol": "circle"
           },
           "mode": "markers",
           "name": "",
           "showlegend": false,
           "type": "scatter",
           "x": [
            96
           ],
           "xaxis": "x",
           "y": [
            0.9835877454343449
           ],
           "yaxis": "y"
          }
         ],
         "name": "96"
        },
        {
         "data": [
          {
           "hoverlabel": {
            "namelength": 0
           },
           "hovertemplate": "<b>%{hovertext}</b><br><br>index=97<br>x=%{x}<br>y=%{y}<br>size=%{marker.color}",
           "hovertext": [
            97
           ],
           "legendgroup": "",
           "marker": {
            "color": [
             97
            ],
            "coloraxis": "coloraxis",
            "size": [
             97
            ],
            "sizemode": "area",
            "sizeref": 0.03272727272727273,
            "symbol": "circle"
           },
           "mode": "markers",
           "name": "",
           "showlegend": false,
           "type": "scatter",
           "x": [
            97
           ],
           "xaxis": "x",
           "y": [
            0.37960773902752165
           ],
           "yaxis": "y"
          }
         ],
         "name": "97"
        },
        {
         "data": [
          {
           "hoverlabel": {
            "namelength": 0
           },
           "hovertemplate": "<b>%{hovertext}</b><br><br>index=98<br>x=%{x}<br>y=%{y}<br>size=%{marker.color}",
           "hovertext": [
            98
           ],
           "legendgroup": "",
           "marker": {
            "color": [
             98
            ],
            "coloraxis": "coloraxis",
            "size": [
             98
            ],
            "sizemode": "area",
            "sizeref": 0.03272727272727273,
            "symbol": "circle"
           },
           "mode": "markers",
           "name": "",
           "showlegend": false,
           "type": "scatter",
           "x": [
            98
           ],
           "xaxis": "x",
           "y": [
            -0.5733818719904229
           ],
           "yaxis": "y"
          }
         ],
         "name": "98"
        },
        {
         "data": [
          {
           "hoverlabel": {
            "namelength": 0
           },
           "hovertemplate": "<b>%{hovertext}</b><br><br>index=99<br>x=%{x}<br>y=%{y}<br>size=%{marker.color}",
           "hovertext": [
            99
           ],
           "legendgroup": "",
           "marker": {
            "color": [
             99
            ],
            "coloraxis": "coloraxis",
            "size": [
             99
            ],
            "sizemode": "area",
            "sizeref": 0.03272727272727273,
            "symbol": "circle"
           },
           "mode": "markers",
           "name": "",
           "showlegend": false,
           "type": "scatter",
           "x": [
            99
           ],
           "xaxis": "x",
           "y": [
            -0.9992068341863537
           ],
           "yaxis": "y"
          }
         ],
         "name": "99"
        }
       ],
       "layout": {
        "coloraxis": {
         "colorbar": {
          "title": {
           "text": "size"
          }
         },
         "colorscale": [
          [
           0,
           "#0d0887"
          ],
          [
           0.1111111111111111,
           "#46039f"
          ],
          [
           0.2222222222222222,
           "#7201a8"
          ],
          [
           0.3333333333333333,
           "#9c179e"
          ],
          [
           0.4444444444444444,
           "#bd3786"
          ],
          [
           0.5555555555555556,
           "#d8576b"
          ],
          [
           0.6666666666666666,
           "#ed7953"
          ],
          [
           0.7777777777777778,
           "#fb9f3a"
          ],
          [
           0.8888888888888888,
           "#fdca26"
          ],
          [
           1,
           "#f0f921"
          ]
         ]
        },
        "height": 600,
        "legend": {
         "itemsizing": "constant",
         "tracegroupgap": 0
        },
        "margin": {
         "t": 60
        },
        "sliders": [
         {
          "active": 0,
          "currentvalue": {
           "prefix": "index="
          },
          "len": 0.9,
          "pad": {
           "b": 10,
           "t": 60
          },
          "steps": [
           {
            "args": [
             [
              "0"
             ],
             {
              "frame": {
               "duration": 0,
               "redraw": false
              },
              "fromcurrent": true,
              "mode": "immediate",
              "transition": {
               "duration": 0,
               "easing": "linear"
              }
             }
            ],
            "label": "0",
            "method": "animate"
           },
           {
            "args": [
             [
              "1"
             ],
             {
              "frame": {
               "duration": 0,
               "redraw": false
              },
              "fromcurrent": true,
              "mode": "immediate",
              "transition": {
               "duration": 0,
               "easing": "linear"
              }
             }
            ],
            "label": "1",
            "method": "animate"
           },
           {
            "args": [
             [
              "2"
             ],
             {
              "frame": {
               "duration": 0,
               "redraw": false
              },
              "fromcurrent": true,
              "mode": "immediate",
              "transition": {
               "duration": 0,
               "easing": "linear"
              }
             }
            ],
            "label": "2",
            "method": "animate"
           },
           {
            "args": [
             [
              "3"
             ],
             {
              "frame": {
               "duration": 0,
               "redraw": false
              },
              "fromcurrent": true,
              "mode": "immediate",
              "transition": {
               "duration": 0,
               "easing": "linear"
              }
             }
            ],
            "label": "3",
            "method": "animate"
           },
           {
            "args": [
             [
              "4"
             ],
             {
              "frame": {
               "duration": 0,
               "redraw": false
              },
              "fromcurrent": true,
              "mode": "immediate",
              "transition": {
               "duration": 0,
               "easing": "linear"
              }
             }
            ],
            "label": "4",
            "method": "animate"
           },
           {
            "args": [
             [
              "5"
             ],
             {
              "frame": {
               "duration": 0,
               "redraw": false
              },
              "fromcurrent": true,
              "mode": "immediate",
              "transition": {
               "duration": 0,
               "easing": "linear"
              }
             }
            ],
            "label": "5",
            "method": "animate"
           },
           {
            "args": [
             [
              "6"
             ],
             {
              "frame": {
               "duration": 0,
               "redraw": false
              },
              "fromcurrent": true,
              "mode": "immediate",
              "transition": {
               "duration": 0,
               "easing": "linear"
              }
             }
            ],
            "label": "6",
            "method": "animate"
           },
           {
            "args": [
             [
              "7"
             ],
             {
              "frame": {
               "duration": 0,
               "redraw": false
              },
              "fromcurrent": true,
              "mode": "immediate",
              "transition": {
               "duration": 0,
               "easing": "linear"
              }
             }
            ],
            "label": "7",
            "method": "animate"
           },
           {
            "args": [
             [
              "8"
             ],
             {
              "frame": {
               "duration": 0,
               "redraw": false
              },
              "fromcurrent": true,
              "mode": "immediate",
              "transition": {
               "duration": 0,
               "easing": "linear"
              }
             }
            ],
            "label": "8",
            "method": "animate"
           },
           {
            "args": [
             [
              "9"
             ],
             {
              "frame": {
               "duration": 0,
               "redraw": false
              },
              "fromcurrent": true,
              "mode": "immediate",
              "transition": {
               "duration": 0,
               "easing": "linear"
              }
             }
            ],
            "label": "9",
            "method": "animate"
           },
           {
            "args": [
             [
              "10"
             ],
             {
              "frame": {
               "duration": 0,
               "redraw": false
              },
              "fromcurrent": true,
              "mode": "immediate",
              "transition": {
               "duration": 0,
               "easing": "linear"
              }
             }
            ],
            "label": "10",
            "method": "animate"
           },
           {
            "args": [
             [
              "11"
             ],
             {
              "frame": {
               "duration": 0,
               "redraw": false
              },
              "fromcurrent": true,
              "mode": "immediate",
              "transition": {
               "duration": 0,
               "easing": "linear"
              }
             }
            ],
            "label": "11",
            "method": "animate"
           },
           {
            "args": [
             [
              "12"
             ],
             {
              "frame": {
               "duration": 0,
               "redraw": false
              },
              "fromcurrent": true,
              "mode": "immediate",
              "transition": {
               "duration": 0,
               "easing": "linear"
              }
             }
            ],
            "label": "12",
            "method": "animate"
           },
           {
            "args": [
             [
              "13"
             ],
             {
              "frame": {
               "duration": 0,
               "redraw": false
              },
              "fromcurrent": true,
              "mode": "immediate",
              "transition": {
               "duration": 0,
               "easing": "linear"
              }
             }
            ],
            "label": "13",
            "method": "animate"
           },
           {
            "args": [
             [
              "14"
             ],
             {
              "frame": {
               "duration": 0,
               "redraw": false
              },
              "fromcurrent": true,
              "mode": "immediate",
              "transition": {
               "duration": 0,
               "easing": "linear"
              }
             }
            ],
            "label": "14",
            "method": "animate"
           },
           {
            "args": [
             [
              "15"
             ],
             {
              "frame": {
               "duration": 0,
               "redraw": false
              },
              "fromcurrent": true,
              "mode": "immediate",
              "transition": {
               "duration": 0,
               "easing": "linear"
              }
             }
            ],
            "label": "15",
            "method": "animate"
           },
           {
            "args": [
             [
              "16"
             ],
             {
              "frame": {
               "duration": 0,
               "redraw": false
              },
              "fromcurrent": true,
              "mode": "immediate",
              "transition": {
               "duration": 0,
               "easing": "linear"
              }
             }
            ],
            "label": "16",
            "method": "animate"
           },
           {
            "args": [
             [
              "17"
             ],
             {
              "frame": {
               "duration": 0,
               "redraw": false
              },
              "fromcurrent": true,
              "mode": "immediate",
              "transition": {
               "duration": 0,
               "easing": "linear"
              }
             }
            ],
            "label": "17",
            "method": "animate"
           },
           {
            "args": [
             [
              "18"
             ],
             {
              "frame": {
               "duration": 0,
               "redraw": false
              },
              "fromcurrent": true,
              "mode": "immediate",
              "transition": {
               "duration": 0,
               "easing": "linear"
              }
             }
            ],
            "label": "18",
            "method": "animate"
           },
           {
            "args": [
             [
              "19"
             ],
             {
              "frame": {
               "duration": 0,
               "redraw": false
              },
              "fromcurrent": true,
              "mode": "immediate",
              "transition": {
               "duration": 0,
               "easing": "linear"
              }
             }
            ],
            "label": "19",
            "method": "animate"
           },
           {
            "args": [
             [
              "20"
             ],
             {
              "frame": {
               "duration": 0,
               "redraw": false
              },
              "fromcurrent": true,
              "mode": "immediate",
              "transition": {
               "duration": 0,
               "easing": "linear"
              }
             }
            ],
            "label": "20",
            "method": "animate"
           },
           {
            "args": [
             [
              "21"
             ],
             {
              "frame": {
               "duration": 0,
               "redraw": false
              },
              "fromcurrent": true,
              "mode": "immediate",
              "transition": {
               "duration": 0,
               "easing": "linear"
              }
             }
            ],
            "label": "21",
            "method": "animate"
           },
           {
            "args": [
             [
              "22"
             ],
             {
              "frame": {
               "duration": 0,
               "redraw": false
              },
              "fromcurrent": true,
              "mode": "immediate",
              "transition": {
               "duration": 0,
               "easing": "linear"
              }
             }
            ],
            "label": "22",
            "method": "animate"
           },
           {
            "args": [
             [
              "23"
             ],
             {
              "frame": {
               "duration": 0,
               "redraw": false
              },
              "fromcurrent": true,
              "mode": "immediate",
              "transition": {
               "duration": 0,
               "easing": "linear"
              }
             }
            ],
            "label": "23",
            "method": "animate"
           },
           {
            "args": [
             [
              "24"
             ],
             {
              "frame": {
               "duration": 0,
               "redraw": false
              },
              "fromcurrent": true,
              "mode": "immediate",
              "transition": {
               "duration": 0,
               "easing": "linear"
              }
             }
            ],
            "label": "24",
            "method": "animate"
           },
           {
            "args": [
             [
              "25"
             ],
             {
              "frame": {
               "duration": 0,
               "redraw": false
              },
              "fromcurrent": true,
              "mode": "immediate",
              "transition": {
               "duration": 0,
               "easing": "linear"
              }
             }
            ],
            "label": "25",
            "method": "animate"
           },
           {
            "args": [
             [
              "26"
             ],
             {
              "frame": {
               "duration": 0,
               "redraw": false
              },
              "fromcurrent": true,
              "mode": "immediate",
              "transition": {
               "duration": 0,
               "easing": "linear"
              }
             }
            ],
            "label": "26",
            "method": "animate"
           },
           {
            "args": [
             [
              "27"
             ],
             {
              "frame": {
               "duration": 0,
               "redraw": false
              },
              "fromcurrent": true,
              "mode": "immediate",
              "transition": {
               "duration": 0,
               "easing": "linear"
              }
             }
            ],
            "label": "27",
            "method": "animate"
           },
           {
            "args": [
             [
              "28"
             ],
             {
              "frame": {
               "duration": 0,
               "redraw": false
              },
              "fromcurrent": true,
              "mode": "immediate",
              "transition": {
               "duration": 0,
               "easing": "linear"
              }
             }
            ],
            "label": "28",
            "method": "animate"
           },
           {
            "args": [
             [
              "29"
             ],
             {
              "frame": {
               "duration": 0,
               "redraw": false
              },
              "fromcurrent": true,
              "mode": "immediate",
              "transition": {
               "duration": 0,
               "easing": "linear"
              }
             }
            ],
            "label": "29",
            "method": "animate"
           },
           {
            "args": [
             [
              "30"
             ],
             {
              "frame": {
               "duration": 0,
               "redraw": false
              },
              "fromcurrent": true,
              "mode": "immediate",
              "transition": {
               "duration": 0,
               "easing": "linear"
              }
             }
            ],
            "label": "30",
            "method": "animate"
           },
           {
            "args": [
             [
              "31"
             ],
             {
              "frame": {
               "duration": 0,
               "redraw": false
              },
              "fromcurrent": true,
              "mode": "immediate",
              "transition": {
               "duration": 0,
               "easing": "linear"
              }
             }
            ],
            "label": "31",
            "method": "animate"
           },
           {
            "args": [
             [
              "32"
             ],
             {
              "frame": {
               "duration": 0,
               "redraw": false
              },
              "fromcurrent": true,
              "mode": "immediate",
              "transition": {
               "duration": 0,
               "easing": "linear"
              }
             }
            ],
            "label": "32",
            "method": "animate"
           },
           {
            "args": [
             [
              "33"
             ],
             {
              "frame": {
               "duration": 0,
               "redraw": false
              },
              "fromcurrent": true,
              "mode": "immediate",
              "transition": {
               "duration": 0,
               "easing": "linear"
              }
             }
            ],
            "label": "33",
            "method": "animate"
           },
           {
            "args": [
             [
              "34"
             ],
             {
              "frame": {
               "duration": 0,
               "redraw": false
              },
              "fromcurrent": true,
              "mode": "immediate",
              "transition": {
               "duration": 0,
               "easing": "linear"
              }
             }
            ],
            "label": "34",
            "method": "animate"
           },
           {
            "args": [
             [
              "35"
             ],
             {
              "frame": {
               "duration": 0,
               "redraw": false
              },
              "fromcurrent": true,
              "mode": "immediate",
              "transition": {
               "duration": 0,
               "easing": "linear"
              }
             }
            ],
            "label": "35",
            "method": "animate"
           },
           {
            "args": [
             [
              "36"
             ],
             {
              "frame": {
               "duration": 0,
               "redraw": false
              },
              "fromcurrent": true,
              "mode": "immediate",
              "transition": {
               "duration": 0,
               "easing": "linear"
              }
             }
            ],
            "label": "36",
            "method": "animate"
           },
           {
            "args": [
             [
              "37"
             ],
             {
              "frame": {
               "duration": 0,
               "redraw": false
              },
              "fromcurrent": true,
              "mode": "immediate",
              "transition": {
               "duration": 0,
               "easing": "linear"
              }
             }
            ],
            "label": "37",
            "method": "animate"
           },
           {
            "args": [
             [
              "38"
             ],
             {
              "frame": {
               "duration": 0,
               "redraw": false
              },
              "fromcurrent": true,
              "mode": "immediate",
              "transition": {
               "duration": 0,
               "easing": "linear"
              }
             }
            ],
            "label": "38",
            "method": "animate"
           },
           {
            "args": [
             [
              "39"
             ],
             {
              "frame": {
               "duration": 0,
               "redraw": false
              },
              "fromcurrent": true,
              "mode": "immediate",
              "transition": {
               "duration": 0,
               "easing": "linear"
              }
             }
            ],
            "label": "39",
            "method": "animate"
           },
           {
            "args": [
             [
              "40"
             ],
             {
              "frame": {
               "duration": 0,
               "redraw": false
              },
              "fromcurrent": true,
              "mode": "immediate",
              "transition": {
               "duration": 0,
               "easing": "linear"
              }
             }
            ],
            "label": "40",
            "method": "animate"
           },
           {
            "args": [
             [
              "41"
             ],
             {
              "frame": {
               "duration": 0,
               "redraw": false
              },
              "fromcurrent": true,
              "mode": "immediate",
              "transition": {
               "duration": 0,
               "easing": "linear"
              }
             }
            ],
            "label": "41",
            "method": "animate"
           },
           {
            "args": [
             [
              "42"
             ],
             {
              "frame": {
               "duration": 0,
               "redraw": false
              },
              "fromcurrent": true,
              "mode": "immediate",
              "transition": {
               "duration": 0,
               "easing": "linear"
              }
             }
            ],
            "label": "42",
            "method": "animate"
           },
           {
            "args": [
             [
              "43"
             ],
             {
              "frame": {
               "duration": 0,
               "redraw": false
              },
              "fromcurrent": true,
              "mode": "immediate",
              "transition": {
               "duration": 0,
               "easing": "linear"
              }
             }
            ],
            "label": "43",
            "method": "animate"
           },
           {
            "args": [
             [
              "44"
             ],
             {
              "frame": {
               "duration": 0,
               "redraw": false
              },
              "fromcurrent": true,
              "mode": "immediate",
              "transition": {
               "duration": 0,
               "easing": "linear"
              }
             }
            ],
            "label": "44",
            "method": "animate"
           },
           {
            "args": [
             [
              "45"
             ],
             {
              "frame": {
               "duration": 0,
               "redraw": false
              },
              "fromcurrent": true,
              "mode": "immediate",
              "transition": {
               "duration": 0,
               "easing": "linear"
              }
             }
            ],
            "label": "45",
            "method": "animate"
           },
           {
            "args": [
             [
              "46"
             ],
             {
              "frame": {
               "duration": 0,
               "redraw": false
              },
              "fromcurrent": true,
              "mode": "immediate",
              "transition": {
               "duration": 0,
               "easing": "linear"
              }
             }
            ],
            "label": "46",
            "method": "animate"
           },
           {
            "args": [
             [
              "47"
             ],
             {
              "frame": {
               "duration": 0,
               "redraw": false
              },
              "fromcurrent": true,
              "mode": "immediate",
              "transition": {
               "duration": 0,
               "easing": "linear"
              }
             }
            ],
            "label": "47",
            "method": "animate"
           },
           {
            "args": [
             [
              "48"
             ],
             {
              "frame": {
               "duration": 0,
               "redraw": false
              },
              "fromcurrent": true,
              "mode": "immediate",
              "transition": {
               "duration": 0,
               "easing": "linear"
              }
             }
            ],
            "label": "48",
            "method": "animate"
           },
           {
            "args": [
             [
              "49"
             ],
             {
              "frame": {
               "duration": 0,
               "redraw": false
              },
              "fromcurrent": true,
              "mode": "immediate",
              "transition": {
               "duration": 0,
               "easing": "linear"
              }
             }
            ],
            "label": "49",
            "method": "animate"
           },
           {
            "args": [
             [
              "50"
             ],
             {
              "frame": {
               "duration": 0,
               "redraw": false
              },
              "fromcurrent": true,
              "mode": "immediate",
              "transition": {
               "duration": 0,
               "easing": "linear"
              }
             }
            ],
            "label": "50",
            "method": "animate"
           },
           {
            "args": [
             [
              "51"
             ],
             {
              "frame": {
               "duration": 0,
               "redraw": false
              },
              "fromcurrent": true,
              "mode": "immediate",
              "transition": {
               "duration": 0,
               "easing": "linear"
              }
             }
            ],
            "label": "51",
            "method": "animate"
           },
           {
            "args": [
             [
              "52"
             ],
             {
              "frame": {
               "duration": 0,
               "redraw": false
              },
              "fromcurrent": true,
              "mode": "immediate",
              "transition": {
               "duration": 0,
               "easing": "linear"
              }
             }
            ],
            "label": "52",
            "method": "animate"
           },
           {
            "args": [
             [
              "53"
             ],
             {
              "frame": {
               "duration": 0,
               "redraw": false
              },
              "fromcurrent": true,
              "mode": "immediate",
              "transition": {
               "duration": 0,
               "easing": "linear"
              }
             }
            ],
            "label": "53",
            "method": "animate"
           },
           {
            "args": [
             [
              "54"
             ],
             {
              "frame": {
               "duration": 0,
               "redraw": false
              },
              "fromcurrent": true,
              "mode": "immediate",
              "transition": {
               "duration": 0,
               "easing": "linear"
              }
             }
            ],
            "label": "54",
            "method": "animate"
           },
           {
            "args": [
             [
              "55"
             ],
             {
              "frame": {
               "duration": 0,
               "redraw": false
              },
              "fromcurrent": true,
              "mode": "immediate",
              "transition": {
               "duration": 0,
               "easing": "linear"
              }
             }
            ],
            "label": "55",
            "method": "animate"
           },
           {
            "args": [
             [
              "56"
             ],
             {
              "frame": {
               "duration": 0,
               "redraw": false
              },
              "fromcurrent": true,
              "mode": "immediate",
              "transition": {
               "duration": 0,
               "easing": "linear"
              }
             }
            ],
            "label": "56",
            "method": "animate"
           },
           {
            "args": [
             [
              "57"
             ],
             {
              "frame": {
               "duration": 0,
               "redraw": false
              },
              "fromcurrent": true,
              "mode": "immediate",
              "transition": {
               "duration": 0,
               "easing": "linear"
              }
             }
            ],
            "label": "57",
            "method": "animate"
           },
           {
            "args": [
             [
              "58"
             ],
             {
              "frame": {
               "duration": 0,
               "redraw": false
              },
              "fromcurrent": true,
              "mode": "immediate",
              "transition": {
               "duration": 0,
               "easing": "linear"
              }
             }
            ],
            "label": "58",
            "method": "animate"
           },
           {
            "args": [
             [
              "59"
             ],
             {
              "frame": {
               "duration": 0,
               "redraw": false
              },
              "fromcurrent": true,
              "mode": "immediate",
              "transition": {
               "duration": 0,
               "easing": "linear"
              }
             }
            ],
            "label": "59",
            "method": "animate"
           },
           {
            "args": [
             [
              "60"
             ],
             {
              "frame": {
               "duration": 0,
               "redraw": false
              },
              "fromcurrent": true,
              "mode": "immediate",
              "transition": {
               "duration": 0,
               "easing": "linear"
              }
             }
            ],
            "label": "60",
            "method": "animate"
           },
           {
            "args": [
             [
              "61"
             ],
             {
              "frame": {
               "duration": 0,
               "redraw": false
              },
              "fromcurrent": true,
              "mode": "immediate",
              "transition": {
               "duration": 0,
               "easing": "linear"
              }
             }
            ],
            "label": "61",
            "method": "animate"
           },
           {
            "args": [
             [
              "62"
             ],
             {
              "frame": {
               "duration": 0,
               "redraw": false
              },
              "fromcurrent": true,
              "mode": "immediate",
              "transition": {
               "duration": 0,
               "easing": "linear"
              }
             }
            ],
            "label": "62",
            "method": "animate"
           },
           {
            "args": [
             [
              "63"
             ],
             {
              "frame": {
               "duration": 0,
               "redraw": false
              },
              "fromcurrent": true,
              "mode": "immediate",
              "transition": {
               "duration": 0,
               "easing": "linear"
              }
             }
            ],
            "label": "63",
            "method": "animate"
           },
           {
            "args": [
             [
              "64"
             ],
             {
              "frame": {
               "duration": 0,
               "redraw": false
              },
              "fromcurrent": true,
              "mode": "immediate",
              "transition": {
               "duration": 0,
               "easing": "linear"
              }
             }
            ],
            "label": "64",
            "method": "animate"
           },
           {
            "args": [
             [
              "65"
             ],
             {
              "frame": {
               "duration": 0,
               "redraw": false
              },
              "fromcurrent": true,
              "mode": "immediate",
              "transition": {
               "duration": 0,
               "easing": "linear"
              }
             }
            ],
            "label": "65",
            "method": "animate"
           },
           {
            "args": [
             [
              "66"
             ],
             {
              "frame": {
               "duration": 0,
               "redraw": false
              },
              "fromcurrent": true,
              "mode": "immediate",
              "transition": {
               "duration": 0,
               "easing": "linear"
              }
             }
            ],
            "label": "66",
            "method": "animate"
           },
           {
            "args": [
             [
              "67"
             ],
             {
              "frame": {
               "duration": 0,
               "redraw": false
              },
              "fromcurrent": true,
              "mode": "immediate",
              "transition": {
               "duration": 0,
               "easing": "linear"
              }
             }
            ],
            "label": "67",
            "method": "animate"
           },
           {
            "args": [
             [
              "68"
             ],
             {
              "frame": {
               "duration": 0,
               "redraw": false
              },
              "fromcurrent": true,
              "mode": "immediate",
              "transition": {
               "duration": 0,
               "easing": "linear"
              }
             }
            ],
            "label": "68",
            "method": "animate"
           },
           {
            "args": [
             [
              "69"
             ],
             {
              "frame": {
               "duration": 0,
               "redraw": false
              },
              "fromcurrent": true,
              "mode": "immediate",
              "transition": {
               "duration": 0,
               "easing": "linear"
              }
             }
            ],
            "label": "69",
            "method": "animate"
           },
           {
            "args": [
             [
              "70"
             ],
             {
              "frame": {
               "duration": 0,
               "redraw": false
              },
              "fromcurrent": true,
              "mode": "immediate",
              "transition": {
               "duration": 0,
               "easing": "linear"
              }
             }
            ],
            "label": "70",
            "method": "animate"
           },
           {
            "args": [
             [
              "71"
             ],
             {
              "frame": {
               "duration": 0,
               "redraw": false
              },
              "fromcurrent": true,
              "mode": "immediate",
              "transition": {
               "duration": 0,
               "easing": "linear"
              }
             }
            ],
            "label": "71",
            "method": "animate"
           },
           {
            "args": [
             [
              "72"
             ],
             {
              "frame": {
               "duration": 0,
               "redraw": false
              },
              "fromcurrent": true,
              "mode": "immediate",
              "transition": {
               "duration": 0,
               "easing": "linear"
              }
             }
            ],
            "label": "72",
            "method": "animate"
           },
           {
            "args": [
             [
              "73"
             ],
             {
              "frame": {
               "duration": 0,
               "redraw": false
              },
              "fromcurrent": true,
              "mode": "immediate",
              "transition": {
               "duration": 0,
               "easing": "linear"
              }
             }
            ],
            "label": "73",
            "method": "animate"
           },
           {
            "args": [
             [
              "74"
             ],
             {
              "frame": {
               "duration": 0,
               "redraw": false
              },
              "fromcurrent": true,
              "mode": "immediate",
              "transition": {
               "duration": 0,
               "easing": "linear"
              }
             }
            ],
            "label": "74",
            "method": "animate"
           },
           {
            "args": [
             [
              "75"
             ],
             {
              "frame": {
               "duration": 0,
               "redraw": false
              },
              "fromcurrent": true,
              "mode": "immediate",
              "transition": {
               "duration": 0,
               "easing": "linear"
              }
             }
            ],
            "label": "75",
            "method": "animate"
           },
           {
            "args": [
             [
              "76"
             ],
             {
              "frame": {
               "duration": 0,
               "redraw": false
              },
              "fromcurrent": true,
              "mode": "immediate",
              "transition": {
               "duration": 0,
               "easing": "linear"
              }
             }
            ],
            "label": "76",
            "method": "animate"
           },
           {
            "args": [
             [
              "77"
             ],
             {
              "frame": {
               "duration": 0,
               "redraw": false
              },
              "fromcurrent": true,
              "mode": "immediate",
              "transition": {
               "duration": 0,
               "easing": "linear"
              }
             }
            ],
            "label": "77",
            "method": "animate"
           },
           {
            "args": [
             [
              "78"
             ],
             {
              "frame": {
               "duration": 0,
               "redraw": false
              },
              "fromcurrent": true,
              "mode": "immediate",
              "transition": {
               "duration": 0,
               "easing": "linear"
              }
             }
            ],
            "label": "78",
            "method": "animate"
           },
           {
            "args": [
             [
              "79"
             ],
             {
              "frame": {
               "duration": 0,
               "redraw": false
              },
              "fromcurrent": true,
              "mode": "immediate",
              "transition": {
               "duration": 0,
               "easing": "linear"
              }
             }
            ],
            "label": "79",
            "method": "animate"
           },
           {
            "args": [
             [
              "80"
             ],
             {
              "frame": {
               "duration": 0,
               "redraw": false
              },
              "fromcurrent": true,
              "mode": "immediate",
              "transition": {
               "duration": 0,
               "easing": "linear"
              }
             }
            ],
            "label": "80",
            "method": "animate"
           },
           {
            "args": [
             [
              "81"
             ],
             {
              "frame": {
               "duration": 0,
               "redraw": false
              },
              "fromcurrent": true,
              "mode": "immediate",
              "transition": {
               "duration": 0,
               "easing": "linear"
              }
             }
            ],
            "label": "81",
            "method": "animate"
           },
           {
            "args": [
             [
              "82"
             ],
             {
              "frame": {
               "duration": 0,
               "redraw": false
              },
              "fromcurrent": true,
              "mode": "immediate",
              "transition": {
               "duration": 0,
               "easing": "linear"
              }
             }
            ],
            "label": "82",
            "method": "animate"
           },
           {
            "args": [
             [
              "83"
             ],
             {
              "frame": {
               "duration": 0,
               "redraw": false
              },
              "fromcurrent": true,
              "mode": "immediate",
              "transition": {
               "duration": 0,
               "easing": "linear"
              }
             }
            ],
            "label": "83",
            "method": "animate"
           },
           {
            "args": [
             [
              "84"
             ],
             {
              "frame": {
               "duration": 0,
               "redraw": false
              },
              "fromcurrent": true,
              "mode": "immediate",
              "transition": {
               "duration": 0,
               "easing": "linear"
              }
             }
            ],
            "label": "84",
            "method": "animate"
           },
           {
            "args": [
             [
              "85"
             ],
             {
              "frame": {
               "duration": 0,
               "redraw": false
              },
              "fromcurrent": true,
              "mode": "immediate",
              "transition": {
               "duration": 0,
               "easing": "linear"
              }
             }
            ],
            "label": "85",
            "method": "animate"
           },
           {
            "args": [
             [
              "86"
             ],
             {
              "frame": {
               "duration": 0,
               "redraw": false
              },
              "fromcurrent": true,
              "mode": "immediate",
              "transition": {
               "duration": 0,
               "easing": "linear"
              }
             }
            ],
            "label": "86",
            "method": "animate"
           },
           {
            "args": [
             [
              "87"
             ],
             {
              "frame": {
               "duration": 0,
               "redraw": false
              },
              "fromcurrent": true,
              "mode": "immediate",
              "transition": {
               "duration": 0,
               "easing": "linear"
              }
             }
            ],
            "label": "87",
            "method": "animate"
           },
           {
            "args": [
             [
              "88"
             ],
             {
              "frame": {
               "duration": 0,
               "redraw": false
              },
              "fromcurrent": true,
              "mode": "immediate",
              "transition": {
               "duration": 0,
               "easing": "linear"
              }
             }
            ],
            "label": "88",
            "method": "animate"
           },
           {
            "args": [
             [
              "89"
             ],
             {
              "frame": {
               "duration": 0,
               "redraw": false
              },
              "fromcurrent": true,
              "mode": "immediate",
              "transition": {
               "duration": 0,
               "easing": "linear"
              }
             }
            ],
            "label": "89",
            "method": "animate"
           },
           {
            "args": [
             [
              "90"
             ],
             {
              "frame": {
               "duration": 0,
               "redraw": false
              },
              "fromcurrent": true,
              "mode": "immediate",
              "transition": {
               "duration": 0,
               "easing": "linear"
              }
             }
            ],
            "label": "90",
            "method": "animate"
           },
           {
            "args": [
             [
              "91"
             ],
             {
              "frame": {
               "duration": 0,
               "redraw": false
              },
              "fromcurrent": true,
              "mode": "immediate",
              "transition": {
               "duration": 0,
               "easing": "linear"
              }
             }
            ],
            "label": "91",
            "method": "animate"
           },
           {
            "args": [
             [
              "92"
             ],
             {
              "frame": {
               "duration": 0,
               "redraw": false
              },
              "fromcurrent": true,
              "mode": "immediate",
              "transition": {
               "duration": 0,
               "easing": "linear"
              }
             }
            ],
            "label": "92",
            "method": "animate"
           },
           {
            "args": [
             [
              "93"
             ],
             {
              "frame": {
               "duration": 0,
               "redraw": false
              },
              "fromcurrent": true,
              "mode": "immediate",
              "transition": {
               "duration": 0,
               "easing": "linear"
              }
             }
            ],
            "label": "93",
            "method": "animate"
           },
           {
            "args": [
             [
              "94"
             ],
             {
              "frame": {
               "duration": 0,
               "redraw": false
              },
              "fromcurrent": true,
              "mode": "immediate",
              "transition": {
               "duration": 0,
               "easing": "linear"
              }
             }
            ],
            "label": "94",
            "method": "animate"
           },
           {
            "args": [
             [
              "95"
             ],
             {
              "frame": {
               "duration": 0,
               "redraw": false
              },
              "fromcurrent": true,
              "mode": "immediate",
              "transition": {
               "duration": 0,
               "easing": "linear"
              }
             }
            ],
            "label": "95",
            "method": "animate"
           },
           {
            "args": [
             [
              "96"
             ],
             {
              "frame": {
               "duration": 0,
               "redraw": false
              },
              "fromcurrent": true,
              "mode": "immediate",
              "transition": {
               "duration": 0,
               "easing": "linear"
              }
             }
            ],
            "label": "96",
            "method": "animate"
           },
           {
            "args": [
             [
              "97"
             ],
             {
              "frame": {
               "duration": 0,
               "redraw": false
              },
              "fromcurrent": true,
              "mode": "immediate",
              "transition": {
               "duration": 0,
               "easing": "linear"
              }
             }
            ],
            "label": "97",
            "method": "animate"
           },
           {
            "args": [
             [
              "98"
             ],
             {
              "frame": {
               "duration": 0,
               "redraw": false
              },
              "fromcurrent": true,
              "mode": "immediate",
              "transition": {
               "duration": 0,
               "easing": "linear"
              }
             }
            ],
            "label": "98",
            "method": "animate"
           },
           {
            "args": [
             [
              "99"
             ],
             {
              "frame": {
               "duration": 0,
               "redraw": false
              },
              "fromcurrent": true,
              "mode": "immediate",
              "transition": {
               "duration": 0,
               "easing": "linear"
              }
             }
            ],
            "label": "99",
            "method": "animate"
           }
          ],
          "x": 0.1,
          "xanchor": "left",
          "y": 0,
          "yanchor": "top"
         }
        ],
        "template": {
         "data": {
          "bar": [
           {
            "error_x": {
             "color": "#2a3f5f"
            },
            "error_y": {
             "color": "#2a3f5f"
            },
            "marker": {
             "line": {
              "color": "#E5ECF6",
              "width": 0.5
             }
            },
            "type": "bar"
           }
          ],
          "barpolar": [
           {
            "marker": {
             "line": {
              "color": "#E5ECF6",
              "width": 0.5
             }
            },
            "type": "barpolar"
           }
          ],
          "carpet": [
           {
            "aaxis": {
             "endlinecolor": "#2a3f5f",
             "gridcolor": "white",
             "linecolor": "white",
             "minorgridcolor": "white",
             "startlinecolor": "#2a3f5f"
            },
            "baxis": {
             "endlinecolor": "#2a3f5f",
             "gridcolor": "white",
             "linecolor": "white",
             "minorgridcolor": "white",
             "startlinecolor": "#2a3f5f"
            },
            "type": "carpet"
           }
          ],
          "choropleth": [
           {
            "colorbar": {
             "outlinewidth": 0,
             "ticks": ""
            },
            "type": "choropleth"
           }
          ],
          "contour": [
           {
            "colorbar": {
             "outlinewidth": 0,
             "ticks": ""
            },
            "colorscale": [
             [
              0,
              "#0d0887"
             ],
             [
              0.1111111111111111,
              "#46039f"
             ],
             [
              0.2222222222222222,
              "#7201a8"
             ],
             [
              0.3333333333333333,
              "#9c179e"
             ],
             [
              0.4444444444444444,
              "#bd3786"
             ],
             [
              0.5555555555555556,
              "#d8576b"
             ],
             [
              0.6666666666666666,
              "#ed7953"
             ],
             [
              0.7777777777777778,
              "#fb9f3a"
             ],
             [
              0.8888888888888888,
              "#fdca26"
             ],
             [
              1,
              "#f0f921"
             ]
            ],
            "type": "contour"
           }
          ],
          "contourcarpet": [
           {
            "colorbar": {
             "outlinewidth": 0,
             "ticks": ""
            },
            "type": "contourcarpet"
           }
          ],
          "heatmap": [
           {
            "colorbar": {
             "outlinewidth": 0,
             "ticks": ""
            },
            "colorscale": [
             [
              0,
              "#0d0887"
             ],
             [
              0.1111111111111111,
              "#46039f"
             ],
             [
              0.2222222222222222,
              "#7201a8"
             ],
             [
              0.3333333333333333,
              "#9c179e"
             ],
             [
              0.4444444444444444,
              "#bd3786"
             ],
             [
              0.5555555555555556,
              "#d8576b"
             ],
             [
              0.6666666666666666,
              "#ed7953"
             ],
             [
              0.7777777777777778,
              "#fb9f3a"
             ],
             [
              0.8888888888888888,
              "#fdca26"
             ],
             [
              1,
              "#f0f921"
             ]
            ],
            "type": "heatmap"
           }
          ],
          "heatmapgl": [
           {
            "colorbar": {
             "outlinewidth": 0,
             "ticks": ""
            },
            "colorscale": [
             [
              0,
              "#0d0887"
             ],
             [
              0.1111111111111111,
              "#46039f"
             ],
             [
              0.2222222222222222,
              "#7201a8"
             ],
             [
              0.3333333333333333,
              "#9c179e"
             ],
             [
              0.4444444444444444,
              "#bd3786"
             ],
             [
              0.5555555555555556,
              "#d8576b"
             ],
             [
              0.6666666666666666,
              "#ed7953"
             ],
             [
              0.7777777777777778,
              "#fb9f3a"
             ],
             [
              0.8888888888888888,
              "#fdca26"
             ],
             [
              1,
              "#f0f921"
             ]
            ],
            "type": "heatmapgl"
           }
          ],
          "histogram": [
           {
            "marker": {
             "colorbar": {
              "outlinewidth": 0,
              "ticks": ""
             }
            },
            "type": "histogram"
           }
          ],
          "histogram2d": [
           {
            "colorbar": {
             "outlinewidth": 0,
             "ticks": ""
            },
            "colorscale": [
             [
              0,
              "#0d0887"
             ],
             [
              0.1111111111111111,
              "#46039f"
             ],
             [
              0.2222222222222222,
              "#7201a8"
             ],
             [
              0.3333333333333333,
              "#9c179e"
             ],
             [
              0.4444444444444444,
              "#bd3786"
             ],
             [
              0.5555555555555556,
              "#d8576b"
             ],
             [
              0.6666666666666666,
              "#ed7953"
             ],
             [
              0.7777777777777778,
              "#fb9f3a"
             ],
             [
              0.8888888888888888,
              "#fdca26"
             ],
             [
              1,
              "#f0f921"
             ]
            ],
            "type": "histogram2d"
           }
          ],
          "histogram2dcontour": [
           {
            "colorbar": {
             "outlinewidth": 0,
             "ticks": ""
            },
            "colorscale": [
             [
              0,
              "#0d0887"
             ],
             [
              0.1111111111111111,
              "#46039f"
             ],
             [
              0.2222222222222222,
              "#7201a8"
             ],
             [
              0.3333333333333333,
              "#9c179e"
             ],
             [
              0.4444444444444444,
              "#bd3786"
             ],
             [
              0.5555555555555556,
              "#d8576b"
             ],
             [
              0.6666666666666666,
              "#ed7953"
             ],
             [
              0.7777777777777778,
              "#fb9f3a"
             ],
             [
              0.8888888888888888,
              "#fdca26"
             ],
             [
              1,
              "#f0f921"
             ]
            ],
            "type": "histogram2dcontour"
           }
          ],
          "mesh3d": [
           {
            "colorbar": {
             "outlinewidth": 0,
             "ticks": ""
            },
            "type": "mesh3d"
           }
          ],
          "parcoords": [
           {
            "line": {
             "colorbar": {
              "outlinewidth": 0,
              "ticks": ""
             }
            },
            "type": "parcoords"
           }
          ],
          "scatter": [
           {
            "marker": {
             "colorbar": {
              "outlinewidth": 0,
              "ticks": ""
             }
            },
            "type": "scatter"
           }
          ],
          "scatter3d": [
           {
            "line": {
             "colorbar": {
              "outlinewidth": 0,
              "ticks": ""
             }
            },
            "marker": {
             "colorbar": {
              "outlinewidth": 0,
              "ticks": ""
             }
            },
            "type": "scatter3d"
           }
          ],
          "scattercarpet": [
           {
            "marker": {
             "colorbar": {
              "outlinewidth": 0,
              "ticks": ""
             }
            },
            "type": "scattercarpet"
           }
          ],
          "scattergeo": [
           {
            "marker": {
             "colorbar": {
              "outlinewidth": 0,
              "ticks": ""
             }
            },
            "type": "scattergeo"
           }
          ],
          "scattergl": [
           {
            "marker": {
             "colorbar": {
              "outlinewidth": 0,
              "ticks": ""
             }
            },
            "type": "scattergl"
           }
          ],
          "scattermapbox": [
           {
            "marker": {
             "colorbar": {
              "outlinewidth": 0,
              "ticks": ""
             }
            },
            "type": "scattermapbox"
           }
          ],
          "scatterpolar": [
           {
            "marker": {
             "colorbar": {
              "outlinewidth": 0,
              "ticks": ""
             }
            },
            "type": "scatterpolar"
           }
          ],
          "scatterpolargl": [
           {
            "marker": {
             "colorbar": {
              "outlinewidth": 0,
              "ticks": ""
             }
            },
            "type": "scatterpolargl"
           }
          ],
          "scatterternary": [
           {
            "marker": {
             "colorbar": {
              "outlinewidth": 0,
              "ticks": ""
             }
            },
            "type": "scatterternary"
           }
          ],
          "surface": [
           {
            "colorbar": {
             "outlinewidth": 0,
             "ticks": ""
            },
            "colorscale": [
             [
              0,
              "#0d0887"
             ],
             [
              0.1111111111111111,
              "#46039f"
             ],
             [
              0.2222222222222222,
              "#7201a8"
             ],
             [
              0.3333333333333333,
              "#9c179e"
             ],
             [
              0.4444444444444444,
              "#bd3786"
             ],
             [
              0.5555555555555556,
              "#d8576b"
             ],
             [
              0.6666666666666666,
              "#ed7953"
             ],
             [
              0.7777777777777778,
              "#fb9f3a"
             ],
             [
              0.8888888888888888,
              "#fdca26"
             ],
             [
              1,
              "#f0f921"
             ]
            ],
            "type": "surface"
           }
          ],
          "table": [
           {
            "cells": {
             "fill": {
              "color": "#EBF0F8"
             },
             "line": {
              "color": "white"
             }
            },
            "header": {
             "fill": {
              "color": "#C8D4E3"
             },
             "line": {
              "color": "white"
             }
            },
            "type": "table"
           }
          ]
         },
         "layout": {
          "annotationdefaults": {
           "arrowcolor": "#2a3f5f",
           "arrowhead": 0,
           "arrowwidth": 1
          },
          "colorscale": {
           "diverging": [
            [
             0,
             "#8e0152"
            ],
            [
             0.1,
             "#c51b7d"
            ],
            [
             0.2,
             "#de77ae"
            ],
            [
             0.3,
             "#f1b6da"
            ],
            [
             0.4,
             "#fde0ef"
            ],
            [
             0.5,
             "#f7f7f7"
            ],
            [
             0.6,
             "#e6f5d0"
            ],
            [
             0.7,
             "#b8e186"
            ],
            [
             0.8,
             "#7fbc41"
            ],
            [
             0.9,
             "#4d9221"
            ],
            [
             1,
             "#276419"
            ]
           ],
           "sequential": [
            [
             0,
             "#0d0887"
            ],
            [
             0.1111111111111111,
             "#46039f"
            ],
            [
             0.2222222222222222,
             "#7201a8"
            ],
            [
             0.3333333333333333,
             "#9c179e"
            ],
            [
             0.4444444444444444,
             "#bd3786"
            ],
            [
             0.5555555555555556,
             "#d8576b"
            ],
            [
             0.6666666666666666,
             "#ed7953"
            ],
            [
             0.7777777777777778,
             "#fb9f3a"
            ],
            [
             0.8888888888888888,
             "#fdca26"
            ],
            [
             1,
             "#f0f921"
            ]
           ],
           "sequentialminus": [
            [
             0,
             "#0d0887"
            ],
            [
             0.1111111111111111,
             "#46039f"
            ],
            [
             0.2222222222222222,
             "#7201a8"
            ],
            [
             0.3333333333333333,
             "#9c179e"
            ],
            [
             0.4444444444444444,
             "#bd3786"
            ],
            [
             0.5555555555555556,
             "#d8576b"
            ],
            [
             0.6666666666666666,
             "#ed7953"
            ],
            [
             0.7777777777777778,
             "#fb9f3a"
            ],
            [
             0.8888888888888888,
             "#fdca26"
            ],
            [
             1,
             "#f0f921"
            ]
           ]
          },
          "colorway": [
           "#636efa",
           "#EF553B",
           "#00cc96",
           "#ab63fa",
           "#FFA15A",
           "#19d3f3",
           "#FF6692",
           "#B6E880",
           "#FF97FF",
           "#FECB52"
          ],
          "font": {
           "color": "#2a3f5f"
          },
          "geo": {
           "bgcolor": "white",
           "lakecolor": "white",
           "landcolor": "#E5ECF6",
           "showlakes": true,
           "showland": true,
           "subunitcolor": "white"
          },
          "hoverlabel": {
           "align": "left"
          },
          "hovermode": "closest",
          "mapbox": {
           "style": "light"
          },
          "paper_bgcolor": "white",
          "plot_bgcolor": "#E5ECF6",
          "polar": {
           "angularaxis": {
            "gridcolor": "white",
            "linecolor": "white",
            "ticks": ""
           },
           "bgcolor": "#E5ECF6",
           "radialaxis": {
            "gridcolor": "white",
            "linecolor": "white",
            "ticks": ""
           }
          },
          "scene": {
           "xaxis": {
            "backgroundcolor": "#E5ECF6",
            "gridcolor": "white",
            "gridwidth": 2,
            "linecolor": "white",
            "showbackground": true,
            "ticks": "",
            "zerolinecolor": "white"
           },
           "yaxis": {
            "backgroundcolor": "#E5ECF6",
            "gridcolor": "white",
            "gridwidth": 2,
            "linecolor": "white",
            "showbackground": true,
            "ticks": "",
            "zerolinecolor": "white"
           },
           "zaxis": {
            "backgroundcolor": "#E5ECF6",
            "gridcolor": "white",
            "gridwidth": 2,
            "linecolor": "white",
            "showbackground": true,
            "ticks": "",
            "zerolinecolor": "white"
           }
          },
          "shapedefaults": {
           "line": {
            "color": "#2a3f5f"
           }
          },
          "ternary": {
           "aaxis": {
            "gridcolor": "white",
            "linecolor": "white",
            "ticks": ""
           },
           "baxis": {
            "gridcolor": "white",
            "linecolor": "white",
            "ticks": ""
           },
           "bgcolor": "#E5ECF6",
           "caxis": {
            "gridcolor": "white",
            "linecolor": "white",
            "ticks": ""
           }
          },
          "title": {
           "x": 0.05
          },
          "xaxis": {
           "automargin": true,
           "gridcolor": "white",
           "linecolor": "white",
           "ticks": "",
           "zerolinecolor": "white",
           "zerolinewidth": 2
          },
          "yaxis": {
           "automargin": true,
           "gridcolor": "white",
           "linecolor": "white",
           "ticks": "",
           "zerolinecolor": "white",
           "zerolinewidth": 2
          }
         }
        },
        "updatemenus": [
         {
          "buttons": [
           {
            "args": [
             null,
             {
              "frame": {
               "duration": 500,
               "redraw": false
              },
              "fromcurrent": true,
              "mode": "immediate",
              "transition": {
               "duration": 500,
               "easing": "linear"
              }
             }
            ],
            "label": "&#9654;",
            "method": "animate"
           },
           {
            "args": [
             [
              null
             ],
             {
              "frame": {
               "duration": 0,
               "redraw": false
              },
              "fromcurrent": true,
              "mode": "immediate",
              "transition": {
               "duration": 0,
               "easing": "linear"
              }
             }
            ],
            "label": "&#9724;",
            "method": "animate"
           }
          ],
          "direction": "left",
          "pad": {
           "r": 10,
           "t": 70
          },
          "showactive": false,
          "type": "buttons",
          "x": 0.1,
          "xanchor": "right",
          "y": 0,
          "yanchor": "top"
         }
        ],
        "xaxis": {
         "anchor": "y",
         "domain": [
          0,
          0.98
         ],
         "range": [
          0,
          100
         ],
         "title": {
          "text": "x"
         }
        },
        "yaxis": {
         "anchor": "x",
         "domain": [
          0,
          1
         ],
         "range": [
          0,
          1
         ],
         "title": {
          "text": "y"
         }
        }
       }
      },
      "text/html": [
       "<div>\n",
       "        \n",
       "        \n",
       "            <div id=\"cfa05510-4171-4645-b725-711d276e0a49\" class=\"plotly-graph-div\" style=\"height:600px; width:100%;\"></div>\n",
       "            <script type=\"text/javascript\">\n",
       "                require([\"plotly\"], function(Plotly) {\n",
       "                    window.PLOTLYENV=window.PLOTLYENV || {};\n",
       "                    \n",
       "                if (document.getElementById(\"cfa05510-4171-4645-b725-711d276e0a49\")) {\n",
       "                    Plotly.newPlot(\n",
       "                        'cfa05510-4171-4645-b725-711d276e0a49',\n",
       "                        [{\"hoverlabel\": {\"namelength\": 0}, \"hovertemplate\": \"<b>%{hovertext}</b><br><br>index=0<br>x=%{x}<br>y=%{y}<br>size=%{marker.color}\", \"hovertext\": [0.0], \"legendgroup\": \"\", \"marker\": {\"color\": [0], \"coloraxis\": \"coloraxis\", \"size\": [0], \"sizemode\": \"area\", \"sizeref\": 0.03272727272727273, \"symbol\": \"circle\"}, \"mode\": \"markers\", \"name\": \"\", \"showlegend\": false, \"type\": \"scatter\", \"x\": [0], \"xaxis\": \"x\", \"y\": [0.0], \"yaxis\": \"y\"}],\n",
       "                        {\"coloraxis\": {\"colorbar\": {\"title\": {\"text\": \"size\"}}, \"colorscale\": [[0.0, \"#0d0887\"], [0.1111111111111111, \"#46039f\"], [0.2222222222222222, \"#7201a8\"], [0.3333333333333333, \"#9c179e\"], [0.4444444444444444, \"#bd3786\"], [0.5555555555555556, \"#d8576b\"], [0.6666666666666666, \"#ed7953\"], [0.7777777777777778, \"#fb9f3a\"], [0.8888888888888888, \"#fdca26\"], [1.0, \"#f0f921\"]]}, \"height\": 600, \"legend\": {\"itemsizing\": \"constant\", \"tracegroupgap\": 0}, \"margin\": {\"t\": 60}, \"sliders\": [{\"active\": 0, \"currentvalue\": {\"prefix\": \"index=\"}, \"len\": 0.9, \"pad\": {\"b\": 10, \"t\": 60}, \"steps\": [{\"args\": [[\"0\"], {\"frame\": {\"duration\": 0, \"redraw\": false}, \"fromcurrent\": true, \"mode\": \"immediate\", \"transition\": {\"duration\": 0, \"easing\": \"linear\"}}], \"label\": \"0\", \"method\": \"animate\"}, {\"args\": [[\"1\"], {\"frame\": {\"duration\": 0, \"redraw\": false}, \"fromcurrent\": true, \"mode\": \"immediate\", \"transition\": {\"duration\": 0, \"easing\": \"linear\"}}], \"label\": \"1\", \"method\": \"animate\"}, {\"args\": [[\"2\"], {\"frame\": {\"duration\": 0, \"redraw\": false}, \"fromcurrent\": true, \"mode\": \"immediate\", \"transition\": {\"duration\": 0, \"easing\": \"linear\"}}], \"label\": \"2\", \"method\": \"animate\"}, {\"args\": [[\"3\"], {\"frame\": {\"duration\": 0, \"redraw\": false}, \"fromcurrent\": true, \"mode\": \"immediate\", \"transition\": {\"duration\": 0, \"easing\": \"linear\"}}], \"label\": \"3\", \"method\": \"animate\"}, {\"args\": [[\"4\"], {\"frame\": {\"duration\": 0, \"redraw\": false}, \"fromcurrent\": true, \"mode\": \"immediate\", \"transition\": {\"duration\": 0, \"easing\": \"linear\"}}], \"label\": \"4\", \"method\": \"animate\"}, {\"args\": [[\"5\"], {\"frame\": {\"duration\": 0, \"redraw\": false}, \"fromcurrent\": true, \"mode\": \"immediate\", \"transition\": {\"duration\": 0, \"easing\": \"linear\"}}], \"label\": \"5\", \"method\": \"animate\"}, {\"args\": [[\"6\"], {\"frame\": {\"duration\": 0, \"redraw\": false}, \"fromcurrent\": true, \"mode\": \"immediate\", \"transition\": {\"duration\": 0, \"easing\": \"linear\"}}], \"label\": \"6\", \"method\": \"animate\"}, {\"args\": [[\"7\"], {\"frame\": {\"duration\": 0, \"redraw\": false}, \"fromcurrent\": true, \"mode\": \"immediate\", \"transition\": {\"duration\": 0, \"easing\": \"linear\"}}], \"label\": \"7\", \"method\": \"animate\"}, {\"args\": [[\"8\"], {\"frame\": {\"duration\": 0, \"redraw\": false}, \"fromcurrent\": true, \"mode\": \"immediate\", \"transition\": {\"duration\": 0, \"easing\": \"linear\"}}], \"label\": \"8\", \"method\": \"animate\"}, {\"args\": [[\"9\"], {\"frame\": {\"duration\": 0, \"redraw\": false}, \"fromcurrent\": true, \"mode\": \"immediate\", \"transition\": {\"duration\": 0, \"easing\": \"linear\"}}], \"label\": \"9\", \"method\": \"animate\"}, {\"args\": [[\"10\"], {\"frame\": {\"duration\": 0, \"redraw\": false}, \"fromcurrent\": true, \"mode\": \"immediate\", \"transition\": {\"duration\": 0, \"easing\": \"linear\"}}], \"label\": \"10\", \"method\": \"animate\"}, {\"args\": [[\"11\"], {\"frame\": {\"duration\": 0, \"redraw\": false}, \"fromcurrent\": true, \"mode\": \"immediate\", \"transition\": {\"duration\": 0, \"easing\": \"linear\"}}], \"label\": \"11\", \"method\": \"animate\"}, {\"args\": [[\"12\"], {\"frame\": {\"duration\": 0, \"redraw\": false}, \"fromcurrent\": true, \"mode\": \"immediate\", \"transition\": {\"duration\": 0, \"easing\": \"linear\"}}], \"label\": \"12\", \"method\": \"animate\"}, {\"args\": [[\"13\"], {\"frame\": {\"duration\": 0, \"redraw\": false}, \"fromcurrent\": true, \"mode\": \"immediate\", \"transition\": {\"duration\": 0, \"easing\": \"linear\"}}], \"label\": \"13\", \"method\": \"animate\"}, {\"args\": [[\"14\"], {\"frame\": {\"duration\": 0, \"redraw\": false}, \"fromcurrent\": true, \"mode\": \"immediate\", \"transition\": {\"duration\": 0, \"easing\": \"linear\"}}], \"label\": \"14\", \"method\": \"animate\"}, {\"args\": [[\"15\"], {\"frame\": {\"duration\": 0, \"redraw\": false}, \"fromcurrent\": true, \"mode\": \"immediate\", \"transition\": {\"duration\": 0, \"easing\": \"linear\"}}], \"label\": \"15\", \"method\": \"animate\"}, {\"args\": [[\"16\"], {\"frame\": {\"duration\": 0, \"redraw\": false}, \"fromcurrent\": true, \"mode\": \"immediate\", \"transition\": {\"duration\": 0, \"easing\": \"linear\"}}], \"label\": \"16\", \"method\": \"animate\"}, {\"args\": [[\"17\"], {\"frame\": {\"duration\": 0, \"redraw\": false}, \"fromcurrent\": true, \"mode\": \"immediate\", \"transition\": {\"duration\": 0, \"easing\": \"linear\"}}], \"label\": \"17\", \"method\": \"animate\"}, {\"args\": [[\"18\"], {\"frame\": {\"duration\": 0, \"redraw\": false}, \"fromcurrent\": true, \"mode\": \"immediate\", \"transition\": {\"duration\": 0, \"easing\": \"linear\"}}], \"label\": \"18\", \"method\": \"animate\"}, {\"args\": [[\"19\"], {\"frame\": {\"duration\": 0, \"redraw\": false}, \"fromcurrent\": true, \"mode\": \"immediate\", \"transition\": {\"duration\": 0, \"easing\": \"linear\"}}], \"label\": \"19\", \"method\": \"animate\"}, {\"args\": [[\"20\"], {\"frame\": {\"duration\": 0, \"redraw\": false}, \"fromcurrent\": true, \"mode\": \"immediate\", \"transition\": {\"duration\": 0, \"easing\": \"linear\"}}], \"label\": \"20\", \"method\": \"animate\"}, {\"args\": [[\"21\"], {\"frame\": {\"duration\": 0, \"redraw\": false}, \"fromcurrent\": true, \"mode\": \"immediate\", \"transition\": {\"duration\": 0, \"easing\": \"linear\"}}], \"label\": \"21\", \"method\": \"animate\"}, {\"args\": [[\"22\"], {\"frame\": {\"duration\": 0, \"redraw\": false}, \"fromcurrent\": true, \"mode\": \"immediate\", \"transition\": {\"duration\": 0, \"easing\": \"linear\"}}], \"label\": \"22\", \"method\": \"animate\"}, {\"args\": [[\"23\"], {\"frame\": {\"duration\": 0, \"redraw\": false}, \"fromcurrent\": true, \"mode\": \"immediate\", \"transition\": {\"duration\": 0, \"easing\": \"linear\"}}], \"label\": \"23\", \"method\": \"animate\"}, {\"args\": [[\"24\"], {\"frame\": {\"duration\": 0, \"redraw\": false}, \"fromcurrent\": true, \"mode\": \"immediate\", \"transition\": {\"duration\": 0, \"easing\": \"linear\"}}], \"label\": \"24\", \"method\": \"animate\"}, {\"args\": [[\"25\"], {\"frame\": {\"duration\": 0, \"redraw\": false}, \"fromcurrent\": true, \"mode\": \"immediate\", \"transition\": {\"duration\": 0, \"easing\": \"linear\"}}], \"label\": \"25\", \"method\": \"animate\"}, {\"args\": [[\"26\"], {\"frame\": {\"duration\": 0, \"redraw\": false}, \"fromcurrent\": true, \"mode\": \"immediate\", \"transition\": {\"duration\": 0, \"easing\": \"linear\"}}], \"label\": \"26\", \"method\": \"animate\"}, {\"args\": [[\"27\"], {\"frame\": {\"duration\": 0, \"redraw\": false}, \"fromcurrent\": true, \"mode\": \"immediate\", \"transition\": {\"duration\": 0, \"easing\": \"linear\"}}], \"label\": \"27\", \"method\": \"animate\"}, {\"args\": [[\"28\"], {\"frame\": {\"duration\": 0, \"redraw\": false}, \"fromcurrent\": true, \"mode\": \"immediate\", \"transition\": {\"duration\": 0, \"easing\": \"linear\"}}], \"label\": \"28\", \"method\": \"animate\"}, {\"args\": [[\"29\"], {\"frame\": {\"duration\": 0, \"redraw\": false}, \"fromcurrent\": true, \"mode\": \"immediate\", \"transition\": {\"duration\": 0, \"easing\": \"linear\"}}], \"label\": \"29\", \"method\": \"animate\"}, {\"args\": [[\"30\"], {\"frame\": {\"duration\": 0, \"redraw\": false}, \"fromcurrent\": true, \"mode\": \"immediate\", \"transition\": {\"duration\": 0, \"easing\": \"linear\"}}], \"label\": \"30\", \"method\": \"animate\"}, {\"args\": [[\"31\"], {\"frame\": {\"duration\": 0, \"redraw\": false}, \"fromcurrent\": true, \"mode\": \"immediate\", \"transition\": {\"duration\": 0, \"easing\": \"linear\"}}], \"label\": \"31\", \"method\": \"animate\"}, {\"args\": [[\"32\"], {\"frame\": {\"duration\": 0, \"redraw\": false}, \"fromcurrent\": true, \"mode\": \"immediate\", \"transition\": {\"duration\": 0, \"easing\": \"linear\"}}], \"label\": \"32\", \"method\": \"animate\"}, {\"args\": [[\"33\"], {\"frame\": {\"duration\": 0, \"redraw\": false}, \"fromcurrent\": true, \"mode\": \"immediate\", \"transition\": {\"duration\": 0, \"easing\": \"linear\"}}], \"label\": \"33\", \"method\": \"animate\"}, {\"args\": [[\"34\"], {\"frame\": {\"duration\": 0, \"redraw\": false}, \"fromcurrent\": true, \"mode\": \"immediate\", \"transition\": {\"duration\": 0, \"easing\": \"linear\"}}], \"label\": \"34\", \"method\": \"animate\"}, {\"args\": [[\"35\"], {\"frame\": {\"duration\": 0, \"redraw\": false}, \"fromcurrent\": true, \"mode\": \"immediate\", \"transition\": {\"duration\": 0, \"easing\": \"linear\"}}], \"label\": \"35\", \"method\": \"animate\"}, {\"args\": [[\"36\"], {\"frame\": {\"duration\": 0, \"redraw\": false}, \"fromcurrent\": true, \"mode\": \"immediate\", \"transition\": {\"duration\": 0, \"easing\": \"linear\"}}], \"label\": \"36\", \"method\": \"animate\"}, {\"args\": [[\"37\"], {\"frame\": {\"duration\": 0, \"redraw\": false}, \"fromcurrent\": true, \"mode\": \"immediate\", \"transition\": {\"duration\": 0, \"easing\": \"linear\"}}], \"label\": \"37\", \"method\": \"animate\"}, {\"args\": [[\"38\"], {\"frame\": {\"duration\": 0, \"redraw\": false}, \"fromcurrent\": true, \"mode\": \"immediate\", \"transition\": {\"duration\": 0, \"easing\": \"linear\"}}], \"label\": \"38\", \"method\": \"animate\"}, {\"args\": [[\"39\"], {\"frame\": {\"duration\": 0, \"redraw\": false}, \"fromcurrent\": true, \"mode\": \"immediate\", \"transition\": {\"duration\": 0, \"easing\": \"linear\"}}], \"label\": \"39\", \"method\": \"animate\"}, {\"args\": [[\"40\"], {\"frame\": {\"duration\": 0, \"redraw\": false}, \"fromcurrent\": true, \"mode\": \"immediate\", \"transition\": {\"duration\": 0, \"easing\": \"linear\"}}], \"label\": \"40\", \"method\": \"animate\"}, {\"args\": [[\"41\"], {\"frame\": {\"duration\": 0, \"redraw\": false}, \"fromcurrent\": true, \"mode\": \"immediate\", \"transition\": {\"duration\": 0, \"easing\": \"linear\"}}], \"label\": \"41\", \"method\": \"animate\"}, {\"args\": [[\"42\"], {\"frame\": {\"duration\": 0, \"redraw\": false}, \"fromcurrent\": true, \"mode\": \"immediate\", \"transition\": {\"duration\": 0, \"easing\": \"linear\"}}], \"label\": \"42\", \"method\": \"animate\"}, {\"args\": [[\"43\"], {\"frame\": {\"duration\": 0, \"redraw\": false}, \"fromcurrent\": true, \"mode\": \"immediate\", \"transition\": {\"duration\": 0, \"easing\": \"linear\"}}], \"label\": \"43\", \"method\": \"animate\"}, {\"args\": [[\"44\"], {\"frame\": {\"duration\": 0, \"redraw\": false}, \"fromcurrent\": true, \"mode\": \"immediate\", \"transition\": {\"duration\": 0, \"easing\": \"linear\"}}], \"label\": \"44\", \"method\": \"animate\"}, {\"args\": [[\"45\"], {\"frame\": {\"duration\": 0, \"redraw\": false}, \"fromcurrent\": true, \"mode\": \"immediate\", \"transition\": {\"duration\": 0, \"easing\": \"linear\"}}], \"label\": \"45\", \"method\": \"animate\"}, {\"args\": [[\"46\"], {\"frame\": {\"duration\": 0, \"redraw\": false}, \"fromcurrent\": true, \"mode\": \"immediate\", \"transition\": {\"duration\": 0, \"easing\": \"linear\"}}], \"label\": \"46\", \"method\": \"animate\"}, {\"args\": [[\"47\"], {\"frame\": {\"duration\": 0, \"redraw\": false}, \"fromcurrent\": true, \"mode\": \"immediate\", \"transition\": {\"duration\": 0, \"easing\": \"linear\"}}], \"label\": \"47\", \"method\": \"animate\"}, {\"args\": [[\"48\"], {\"frame\": {\"duration\": 0, \"redraw\": false}, \"fromcurrent\": true, \"mode\": \"immediate\", \"transition\": {\"duration\": 0, \"easing\": \"linear\"}}], \"label\": \"48\", \"method\": \"animate\"}, {\"args\": [[\"49\"], {\"frame\": {\"duration\": 0, \"redraw\": false}, \"fromcurrent\": true, \"mode\": \"immediate\", \"transition\": {\"duration\": 0, \"easing\": \"linear\"}}], \"label\": \"49\", \"method\": \"animate\"}, {\"args\": [[\"50\"], {\"frame\": {\"duration\": 0, \"redraw\": false}, \"fromcurrent\": true, \"mode\": \"immediate\", \"transition\": {\"duration\": 0, \"easing\": \"linear\"}}], \"label\": \"50\", \"method\": \"animate\"}, {\"args\": [[\"51\"], {\"frame\": {\"duration\": 0, \"redraw\": false}, \"fromcurrent\": true, \"mode\": \"immediate\", \"transition\": {\"duration\": 0, \"easing\": \"linear\"}}], \"label\": \"51\", \"method\": \"animate\"}, {\"args\": [[\"52\"], {\"frame\": {\"duration\": 0, \"redraw\": false}, \"fromcurrent\": true, \"mode\": \"immediate\", \"transition\": {\"duration\": 0, \"easing\": \"linear\"}}], \"label\": \"52\", \"method\": \"animate\"}, {\"args\": [[\"53\"], {\"frame\": {\"duration\": 0, \"redraw\": false}, \"fromcurrent\": true, \"mode\": \"immediate\", \"transition\": {\"duration\": 0, \"easing\": \"linear\"}}], \"label\": \"53\", \"method\": \"animate\"}, {\"args\": [[\"54\"], {\"frame\": {\"duration\": 0, \"redraw\": false}, \"fromcurrent\": true, \"mode\": \"immediate\", \"transition\": {\"duration\": 0, \"easing\": \"linear\"}}], \"label\": \"54\", \"method\": \"animate\"}, {\"args\": [[\"55\"], {\"frame\": {\"duration\": 0, \"redraw\": false}, \"fromcurrent\": true, \"mode\": \"immediate\", \"transition\": {\"duration\": 0, \"easing\": \"linear\"}}], \"label\": \"55\", \"method\": \"animate\"}, {\"args\": [[\"56\"], {\"frame\": {\"duration\": 0, \"redraw\": false}, \"fromcurrent\": true, \"mode\": \"immediate\", \"transition\": {\"duration\": 0, \"easing\": \"linear\"}}], \"label\": \"56\", \"method\": \"animate\"}, {\"args\": [[\"57\"], {\"frame\": {\"duration\": 0, \"redraw\": false}, \"fromcurrent\": true, \"mode\": \"immediate\", \"transition\": {\"duration\": 0, \"easing\": \"linear\"}}], \"label\": \"57\", \"method\": \"animate\"}, {\"args\": [[\"58\"], {\"frame\": {\"duration\": 0, \"redraw\": false}, \"fromcurrent\": true, \"mode\": \"immediate\", \"transition\": {\"duration\": 0, \"easing\": \"linear\"}}], \"label\": \"58\", \"method\": \"animate\"}, {\"args\": [[\"59\"], {\"frame\": {\"duration\": 0, \"redraw\": false}, \"fromcurrent\": true, \"mode\": \"immediate\", \"transition\": {\"duration\": 0, \"easing\": \"linear\"}}], \"label\": \"59\", \"method\": \"animate\"}, {\"args\": [[\"60\"], {\"frame\": {\"duration\": 0, \"redraw\": false}, \"fromcurrent\": true, \"mode\": \"immediate\", \"transition\": {\"duration\": 0, \"easing\": \"linear\"}}], \"label\": \"60\", \"method\": \"animate\"}, {\"args\": [[\"61\"], {\"frame\": {\"duration\": 0, \"redraw\": false}, \"fromcurrent\": true, \"mode\": \"immediate\", \"transition\": {\"duration\": 0, \"easing\": \"linear\"}}], \"label\": \"61\", \"method\": \"animate\"}, {\"args\": [[\"62\"], {\"frame\": {\"duration\": 0, \"redraw\": false}, \"fromcurrent\": true, \"mode\": \"immediate\", \"transition\": {\"duration\": 0, \"easing\": \"linear\"}}], \"label\": \"62\", \"method\": \"animate\"}, {\"args\": [[\"63\"], {\"frame\": {\"duration\": 0, \"redraw\": false}, \"fromcurrent\": true, \"mode\": \"immediate\", \"transition\": {\"duration\": 0, \"easing\": \"linear\"}}], \"label\": \"63\", \"method\": \"animate\"}, {\"args\": [[\"64\"], {\"frame\": {\"duration\": 0, \"redraw\": false}, \"fromcurrent\": true, \"mode\": \"immediate\", \"transition\": {\"duration\": 0, \"easing\": \"linear\"}}], \"label\": \"64\", \"method\": \"animate\"}, {\"args\": [[\"65\"], {\"frame\": {\"duration\": 0, \"redraw\": false}, \"fromcurrent\": true, \"mode\": \"immediate\", \"transition\": {\"duration\": 0, \"easing\": \"linear\"}}], \"label\": \"65\", \"method\": \"animate\"}, {\"args\": [[\"66\"], {\"frame\": {\"duration\": 0, \"redraw\": false}, \"fromcurrent\": true, \"mode\": \"immediate\", \"transition\": {\"duration\": 0, \"easing\": \"linear\"}}], \"label\": \"66\", \"method\": \"animate\"}, {\"args\": [[\"67\"], {\"frame\": {\"duration\": 0, \"redraw\": false}, \"fromcurrent\": true, \"mode\": \"immediate\", \"transition\": {\"duration\": 0, \"easing\": \"linear\"}}], \"label\": \"67\", \"method\": \"animate\"}, {\"args\": [[\"68\"], {\"frame\": {\"duration\": 0, \"redraw\": false}, \"fromcurrent\": true, \"mode\": \"immediate\", \"transition\": {\"duration\": 0, \"easing\": \"linear\"}}], \"label\": \"68\", \"method\": \"animate\"}, {\"args\": [[\"69\"], {\"frame\": {\"duration\": 0, \"redraw\": false}, \"fromcurrent\": true, \"mode\": \"immediate\", \"transition\": {\"duration\": 0, \"easing\": \"linear\"}}], \"label\": \"69\", \"method\": \"animate\"}, {\"args\": [[\"70\"], {\"frame\": {\"duration\": 0, \"redraw\": false}, \"fromcurrent\": true, \"mode\": \"immediate\", \"transition\": {\"duration\": 0, \"easing\": \"linear\"}}], \"label\": \"70\", \"method\": \"animate\"}, {\"args\": [[\"71\"], {\"frame\": {\"duration\": 0, \"redraw\": false}, \"fromcurrent\": true, \"mode\": \"immediate\", \"transition\": {\"duration\": 0, \"easing\": \"linear\"}}], \"label\": \"71\", \"method\": \"animate\"}, {\"args\": [[\"72\"], {\"frame\": {\"duration\": 0, \"redraw\": false}, \"fromcurrent\": true, \"mode\": \"immediate\", \"transition\": {\"duration\": 0, \"easing\": \"linear\"}}], \"label\": \"72\", \"method\": \"animate\"}, {\"args\": [[\"73\"], {\"frame\": {\"duration\": 0, \"redraw\": false}, \"fromcurrent\": true, \"mode\": \"immediate\", \"transition\": {\"duration\": 0, \"easing\": \"linear\"}}], \"label\": \"73\", \"method\": \"animate\"}, {\"args\": [[\"74\"], {\"frame\": {\"duration\": 0, \"redraw\": false}, \"fromcurrent\": true, \"mode\": \"immediate\", \"transition\": {\"duration\": 0, \"easing\": \"linear\"}}], \"label\": \"74\", \"method\": \"animate\"}, {\"args\": [[\"75\"], {\"frame\": {\"duration\": 0, \"redraw\": false}, \"fromcurrent\": true, \"mode\": \"immediate\", \"transition\": {\"duration\": 0, \"easing\": \"linear\"}}], \"label\": \"75\", \"method\": \"animate\"}, {\"args\": [[\"76\"], {\"frame\": {\"duration\": 0, \"redraw\": false}, \"fromcurrent\": true, \"mode\": \"immediate\", \"transition\": {\"duration\": 0, \"easing\": \"linear\"}}], \"label\": \"76\", \"method\": \"animate\"}, {\"args\": [[\"77\"], {\"frame\": {\"duration\": 0, \"redraw\": false}, \"fromcurrent\": true, \"mode\": \"immediate\", \"transition\": {\"duration\": 0, \"easing\": \"linear\"}}], \"label\": \"77\", \"method\": \"animate\"}, {\"args\": [[\"78\"], {\"frame\": {\"duration\": 0, \"redraw\": false}, \"fromcurrent\": true, \"mode\": \"immediate\", \"transition\": {\"duration\": 0, \"easing\": \"linear\"}}], \"label\": \"78\", \"method\": \"animate\"}, {\"args\": [[\"79\"], {\"frame\": {\"duration\": 0, \"redraw\": false}, \"fromcurrent\": true, \"mode\": \"immediate\", \"transition\": {\"duration\": 0, \"easing\": \"linear\"}}], \"label\": \"79\", \"method\": \"animate\"}, {\"args\": [[\"80\"], {\"frame\": {\"duration\": 0, \"redraw\": false}, \"fromcurrent\": true, \"mode\": \"immediate\", \"transition\": {\"duration\": 0, \"easing\": \"linear\"}}], \"label\": \"80\", \"method\": \"animate\"}, {\"args\": [[\"81\"], {\"frame\": {\"duration\": 0, \"redraw\": false}, \"fromcurrent\": true, \"mode\": \"immediate\", \"transition\": {\"duration\": 0, \"easing\": \"linear\"}}], \"label\": \"81\", \"method\": \"animate\"}, {\"args\": [[\"82\"], {\"frame\": {\"duration\": 0, \"redraw\": false}, \"fromcurrent\": true, \"mode\": \"immediate\", \"transition\": {\"duration\": 0, \"easing\": \"linear\"}}], \"label\": \"82\", \"method\": \"animate\"}, {\"args\": [[\"83\"], {\"frame\": {\"duration\": 0, \"redraw\": false}, \"fromcurrent\": true, \"mode\": \"immediate\", \"transition\": {\"duration\": 0, \"easing\": \"linear\"}}], \"label\": \"83\", \"method\": \"animate\"}, {\"args\": [[\"84\"], {\"frame\": {\"duration\": 0, \"redraw\": false}, \"fromcurrent\": true, \"mode\": \"immediate\", \"transition\": {\"duration\": 0, \"easing\": \"linear\"}}], \"label\": \"84\", \"method\": \"animate\"}, {\"args\": [[\"85\"], {\"frame\": {\"duration\": 0, \"redraw\": false}, \"fromcurrent\": true, \"mode\": \"immediate\", \"transition\": {\"duration\": 0, \"easing\": \"linear\"}}], \"label\": \"85\", \"method\": \"animate\"}, {\"args\": [[\"86\"], {\"frame\": {\"duration\": 0, \"redraw\": false}, \"fromcurrent\": true, \"mode\": \"immediate\", \"transition\": {\"duration\": 0, \"easing\": \"linear\"}}], \"label\": \"86\", \"method\": \"animate\"}, {\"args\": [[\"87\"], {\"frame\": {\"duration\": 0, \"redraw\": false}, \"fromcurrent\": true, \"mode\": \"immediate\", \"transition\": {\"duration\": 0, \"easing\": \"linear\"}}], \"label\": \"87\", \"method\": \"animate\"}, {\"args\": [[\"88\"], {\"frame\": {\"duration\": 0, \"redraw\": false}, \"fromcurrent\": true, \"mode\": \"immediate\", \"transition\": {\"duration\": 0, \"easing\": \"linear\"}}], \"label\": \"88\", \"method\": \"animate\"}, {\"args\": [[\"89\"], {\"frame\": {\"duration\": 0, \"redraw\": false}, \"fromcurrent\": true, \"mode\": \"immediate\", \"transition\": {\"duration\": 0, \"easing\": \"linear\"}}], \"label\": \"89\", \"method\": \"animate\"}, {\"args\": [[\"90\"], {\"frame\": {\"duration\": 0, \"redraw\": false}, \"fromcurrent\": true, \"mode\": \"immediate\", \"transition\": {\"duration\": 0, \"easing\": \"linear\"}}], \"label\": \"90\", \"method\": \"animate\"}, {\"args\": [[\"91\"], {\"frame\": {\"duration\": 0, \"redraw\": false}, \"fromcurrent\": true, \"mode\": \"immediate\", \"transition\": {\"duration\": 0, \"easing\": \"linear\"}}], \"label\": \"91\", \"method\": \"animate\"}, {\"args\": [[\"92\"], {\"frame\": {\"duration\": 0, \"redraw\": false}, \"fromcurrent\": true, \"mode\": \"immediate\", \"transition\": {\"duration\": 0, \"easing\": \"linear\"}}], \"label\": \"92\", \"method\": \"animate\"}, {\"args\": [[\"93\"], {\"frame\": {\"duration\": 0, \"redraw\": false}, \"fromcurrent\": true, \"mode\": \"immediate\", \"transition\": {\"duration\": 0, \"easing\": \"linear\"}}], \"label\": \"93\", \"method\": \"animate\"}, {\"args\": [[\"94\"], {\"frame\": {\"duration\": 0, \"redraw\": false}, \"fromcurrent\": true, \"mode\": \"immediate\", \"transition\": {\"duration\": 0, \"easing\": \"linear\"}}], \"label\": \"94\", \"method\": \"animate\"}, {\"args\": [[\"95\"], {\"frame\": {\"duration\": 0, \"redraw\": false}, \"fromcurrent\": true, \"mode\": \"immediate\", \"transition\": {\"duration\": 0, \"easing\": \"linear\"}}], \"label\": \"95\", \"method\": \"animate\"}, {\"args\": [[\"96\"], {\"frame\": {\"duration\": 0, \"redraw\": false}, \"fromcurrent\": true, \"mode\": \"immediate\", \"transition\": {\"duration\": 0, \"easing\": \"linear\"}}], \"label\": \"96\", \"method\": \"animate\"}, {\"args\": [[\"97\"], {\"frame\": {\"duration\": 0, \"redraw\": false}, \"fromcurrent\": true, \"mode\": \"immediate\", \"transition\": {\"duration\": 0, \"easing\": \"linear\"}}], \"label\": \"97\", \"method\": \"animate\"}, {\"args\": [[\"98\"], {\"frame\": {\"duration\": 0, \"redraw\": false}, \"fromcurrent\": true, \"mode\": \"immediate\", \"transition\": {\"duration\": 0, \"easing\": \"linear\"}}], \"label\": \"98\", \"method\": \"animate\"}, {\"args\": [[\"99\"], {\"frame\": {\"duration\": 0, \"redraw\": false}, \"fromcurrent\": true, \"mode\": \"immediate\", \"transition\": {\"duration\": 0, \"easing\": \"linear\"}}], \"label\": \"99\", \"method\": \"animate\"}], \"x\": 0.1, \"xanchor\": \"left\", \"y\": 0, \"yanchor\": \"top\"}], \"template\": {\"data\": {\"bar\": [{\"error_x\": {\"color\": \"#2a3f5f\"}, \"error_y\": {\"color\": \"#2a3f5f\"}, \"marker\": {\"line\": {\"color\": \"#E5ECF6\", \"width\": 0.5}}, \"type\": \"bar\"}], \"barpolar\": [{\"marker\": {\"line\": {\"color\": \"#E5ECF6\", \"width\": 0.5}}, \"type\": \"barpolar\"}], \"carpet\": [{\"aaxis\": {\"endlinecolor\": \"#2a3f5f\", \"gridcolor\": \"white\", \"linecolor\": \"white\", \"minorgridcolor\": \"white\", \"startlinecolor\": \"#2a3f5f\"}, \"baxis\": {\"endlinecolor\": \"#2a3f5f\", \"gridcolor\": \"white\", \"linecolor\": \"white\", \"minorgridcolor\": \"white\", \"startlinecolor\": \"#2a3f5f\"}, \"type\": \"carpet\"}], \"choropleth\": [{\"colorbar\": {\"outlinewidth\": 0, \"ticks\": \"\"}, \"type\": \"choropleth\"}], \"contour\": [{\"colorbar\": {\"outlinewidth\": 0, \"ticks\": \"\"}, \"colorscale\": [[0.0, \"#0d0887\"], [0.1111111111111111, \"#46039f\"], [0.2222222222222222, \"#7201a8\"], [0.3333333333333333, \"#9c179e\"], [0.4444444444444444, \"#bd3786\"], [0.5555555555555556, \"#d8576b\"], [0.6666666666666666, \"#ed7953\"], [0.7777777777777778, \"#fb9f3a\"], [0.8888888888888888, \"#fdca26\"], [1.0, \"#f0f921\"]], \"type\": \"contour\"}], \"contourcarpet\": [{\"colorbar\": {\"outlinewidth\": 0, \"ticks\": \"\"}, \"type\": \"contourcarpet\"}], \"heatmap\": [{\"colorbar\": {\"outlinewidth\": 0, \"ticks\": \"\"}, \"colorscale\": [[0.0, \"#0d0887\"], [0.1111111111111111, \"#46039f\"], [0.2222222222222222, \"#7201a8\"], [0.3333333333333333, \"#9c179e\"], [0.4444444444444444, \"#bd3786\"], [0.5555555555555556, \"#d8576b\"], [0.6666666666666666, \"#ed7953\"], [0.7777777777777778, \"#fb9f3a\"], [0.8888888888888888, \"#fdca26\"], [1.0, \"#f0f921\"]], \"type\": \"heatmap\"}], \"heatmapgl\": [{\"colorbar\": {\"outlinewidth\": 0, \"ticks\": \"\"}, \"colorscale\": [[0.0, \"#0d0887\"], [0.1111111111111111, \"#46039f\"], [0.2222222222222222, \"#7201a8\"], [0.3333333333333333, \"#9c179e\"], [0.4444444444444444, \"#bd3786\"], [0.5555555555555556, \"#d8576b\"], [0.6666666666666666, \"#ed7953\"], [0.7777777777777778, \"#fb9f3a\"], [0.8888888888888888, \"#fdca26\"], [1.0, \"#f0f921\"]], \"type\": \"heatmapgl\"}], \"histogram\": [{\"marker\": {\"colorbar\": {\"outlinewidth\": 0, \"ticks\": \"\"}}, \"type\": \"histogram\"}], \"histogram2d\": [{\"colorbar\": {\"outlinewidth\": 0, \"ticks\": \"\"}, \"colorscale\": [[0.0, \"#0d0887\"], [0.1111111111111111, \"#46039f\"], [0.2222222222222222, \"#7201a8\"], [0.3333333333333333, \"#9c179e\"], [0.4444444444444444, \"#bd3786\"], [0.5555555555555556, \"#d8576b\"], [0.6666666666666666, \"#ed7953\"], [0.7777777777777778, \"#fb9f3a\"], [0.8888888888888888, \"#fdca26\"], [1.0, \"#f0f921\"]], \"type\": \"histogram2d\"}], \"histogram2dcontour\": [{\"colorbar\": {\"outlinewidth\": 0, \"ticks\": \"\"}, \"colorscale\": [[0.0, \"#0d0887\"], [0.1111111111111111, \"#46039f\"], [0.2222222222222222, \"#7201a8\"], [0.3333333333333333, \"#9c179e\"], [0.4444444444444444, \"#bd3786\"], [0.5555555555555556, \"#d8576b\"], [0.6666666666666666, \"#ed7953\"], [0.7777777777777778, \"#fb9f3a\"], [0.8888888888888888, \"#fdca26\"], [1.0, \"#f0f921\"]], \"type\": \"histogram2dcontour\"}], \"mesh3d\": [{\"colorbar\": {\"outlinewidth\": 0, \"ticks\": \"\"}, \"type\": \"mesh3d\"}], \"parcoords\": [{\"line\": {\"colorbar\": {\"outlinewidth\": 0, \"ticks\": \"\"}}, \"type\": \"parcoords\"}], \"scatter\": [{\"marker\": {\"colorbar\": {\"outlinewidth\": 0, \"ticks\": \"\"}}, \"type\": \"scatter\"}], \"scatter3d\": [{\"line\": {\"colorbar\": {\"outlinewidth\": 0, \"ticks\": \"\"}}, \"marker\": {\"colorbar\": {\"outlinewidth\": 0, \"ticks\": \"\"}}, \"type\": \"scatter3d\"}], \"scattercarpet\": [{\"marker\": {\"colorbar\": {\"outlinewidth\": 0, \"ticks\": \"\"}}, \"type\": \"scattercarpet\"}], \"scattergeo\": [{\"marker\": {\"colorbar\": {\"outlinewidth\": 0, \"ticks\": \"\"}}, \"type\": \"scattergeo\"}], \"scattergl\": [{\"marker\": {\"colorbar\": {\"outlinewidth\": 0, \"ticks\": \"\"}}, \"type\": \"scattergl\"}], \"scattermapbox\": [{\"marker\": {\"colorbar\": {\"outlinewidth\": 0, \"ticks\": \"\"}}, \"type\": \"scattermapbox\"}], \"scatterpolar\": [{\"marker\": {\"colorbar\": {\"outlinewidth\": 0, \"ticks\": \"\"}}, \"type\": \"scatterpolar\"}], \"scatterpolargl\": [{\"marker\": {\"colorbar\": {\"outlinewidth\": 0, \"ticks\": \"\"}}, \"type\": \"scatterpolargl\"}], \"scatterternary\": [{\"marker\": {\"colorbar\": {\"outlinewidth\": 0, \"ticks\": \"\"}}, \"type\": \"scatterternary\"}], \"surface\": [{\"colorbar\": {\"outlinewidth\": 0, \"ticks\": \"\"}, \"colorscale\": [[0.0, \"#0d0887\"], [0.1111111111111111, \"#46039f\"], [0.2222222222222222, \"#7201a8\"], [0.3333333333333333, \"#9c179e\"], [0.4444444444444444, \"#bd3786\"], [0.5555555555555556, \"#d8576b\"], [0.6666666666666666, \"#ed7953\"], [0.7777777777777778, \"#fb9f3a\"], [0.8888888888888888, \"#fdca26\"], [1.0, \"#f0f921\"]], \"type\": \"surface\"}], \"table\": [{\"cells\": {\"fill\": {\"color\": \"#EBF0F8\"}, \"line\": {\"color\": \"white\"}}, \"header\": {\"fill\": {\"color\": \"#C8D4E3\"}, \"line\": {\"color\": \"white\"}}, \"type\": \"table\"}]}, \"layout\": {\"annotationdefaults\": {\"arrowcolor\": \"#2a3f5f\", \"arrowhead\": 0, \"arrowwidth\": 1}, \"colorscale\": {\"diverging\": [[0, \"#8e0152\"], [0.1, \"#c51b7d\"], [0.2, \"#de77ae\"], [0.3, \"#f1b6da\"], [0.4, \"#fde0ef\"], [0.5, \"#f7f7f7\"], [0.6, \"#e6f5d0\"], [0.7, \"#b8e186\"], [0.8, \"#7fbc41\"], [0.9, \"#4d9221\"], [1, \"#276419\"]], \"sequential\": [[0.0, \"#0d0887\"], [0.1111111111111111, \"#46039f\"], [0.2222222222222222, \"#7201a8\"], [0.3333333333333333, \"#9c179e\"], [0.4444444444444444, \"#bd3786\"], [0.5555555555555556, \"#d8576b\"], [0.6666666666666666, \"#ed7953\"], [0.7777777777777778, \"#fb9f3a\"], [0.8888888888888888, \"#fdca26\"], [1.0, \"#f0f921\"]], \"sequentialminus\": [[0.0, \"#0d0887\"], [0.1111111111111111, \"#46039f\"], [0.2222222222222222, \"#7201a8\"], [0.3333333333333333, \"#9c179e\"], [0.4444444444444444, \"#bd3786\"], [0.5555555555555556, \"#d8576b\"], [0.6666666666666666, \"#ed7953\"], [0.7777777777777778, \"#fb9f3a\"], [0.8888888888888888, \"#fdca26\"], [1.0, \"#f0f921\"]]}, \"colorway\": [\"#636efa\", \"#EF553B\", \"#00cc96\", \"#ab63fa\", \"#FFA15A\", \"#19d3f3\", \"#FF6692\", \"#B6E880\", \"#FF97FF\", \"#FECB52\"], \"font\": {\"color\": \"#2a3f5f\"}, \"geo\": {\"bgcolor\": \"white\", \"lakecolor\": \"white\", \"landcolor\": \"#E5ECF6\", \"showlakes\": true, \"showland\": true, \"subunitcolor\": \"white\"}, \"hoverlabel\": {\"align\": \"left\"}, \"hovermode\": \"closest\", \"mapbox\": {\"style\": \"light\"}, \"paper_bgcolor\": \"white\", \"plot_bgcolor\": \"#E5ECF6\", \"polar\": {\"angularaxis\": {\"gridcolor\": \"white\", \"linecolor\": \"white\", \"ticks\": \"\"}, \"bgcolor\": \"#E5ECF6\", \"radialaxis\": {\"gridcolor\": \"white\", \"linecolor\": \"white\", \"ticks\": \"\"}}, \"scene\": {\"xaxis\": {\"backgroundcolor\": \"#E5ECF6\", \"gridcolor\": \"white\", \"gridwidth\": 2, \"linecolor\": \"white\", \"showbackground\": true, \"ticks\": \"\", \"zerolinecolor\": \"white\"}, \"yaxis\": {\"backgroundcolor\": \"#E5ECF6\", \"gridcolor\": \"white\", \"gridwidth\": 2, \"linecolor\": \"white\", \"showbackground\": true, \"ticks\": \"\", \"zerolinecolor\": \"white\"}, \"zaxis\": {\"backgroundcolor\": \"#E5ECF6\", \"gridcolor\": \"white\", \"gridwidth\": 2, \"linecolor\": \"white\", \"showbackground\": true, \"ticks\": \"\", \"zerolinecolor\": \"white\"}}, \"shapedefaults\": {\"line\": {\"color\": \"#2a3f5f\"}}, \"ternary\": {\"aaxis\": {\"gridcolor\": \"white\", \"linecolor\": \"white\", \"ticks\": \"\"}, \"baxis\": {\"gridcolor\": \"white\", \"linecolor\": \"white\", \"ticks\": \"\"}, \"bgcolor\": \"#E5ECF6\", \"caxis\": {\"gridcolor\": \"white\", \"linecolor\": \"white\", \"ticks\": \"\"}}, \"title\": {\"x\": 0.05}, \"xaxis\": {\"automargin\": true, \"gridcolor\": \"white\", \"linecolor\": \"white\", \"ticks\": \"\", \"zerolinecolor\": \"white\", \"zerolinewidth\": 2}, \"yaxis\": {\"automargin\": true, \"gridcolor\": \"white\", \"linecolor\": \"white\", \"ticks\": \"\", \"zerolinecolor\": \"white\", \"zerolinewidth\": 2}}}, \"updatemenus\": [{\"buttons\": [{\"args\": [null, {\"frame\": {\"duration\": 500, \"redraw\": false}, \"fromcurrent\": true, \"mode\": \"immediate\", \"transition\": {\"duration\": 500, \"easing\": \"linear\"}}], \"label\": \"&#9654;\", \"method\": \"animate\"}, {\"args\": [[null], {\"frame\": {\"duration\": 0, \"redraw\": false}, \"fromcurrent\": true, \"mode\": \"immediate\", \"transition\": {\"duration\": 0, \"easing\": \"linear\"}}], \"label\": \"&#9724;\", \"method\": \"animate\"}], \"direction\": \"left\", \"pad\": {\"r\": 10, \"t\": 70}, \"showactive\": false, \"type\": \"buttons\", \"x\": 0.1, \"xanchor\": \"right\", \"y\": 0, \"yanchor\": \"top\"}], \"xaxis\": {\"anchor\": \"y\", \"domain\": [0.0, 0.98], \"range\": [0, 100], \"title\": {\"text\": \"x\"}}, \"yaxis\": {\"anchor\": \"x\", \"domain\": [0.0, 1.0], \"range\": [0, 1], \"title\": {\"text\": \"y\"}}},\n",
       "                        {\"responsive\": true}\n",
       "                    ).then(function(){\n",
       "                            Plotly.addFrames('cfa05510-4171-4645-b725-711d276e0a49', [{\"data\": [{\"hoverlabel\": {\"namelength\": 0}, \"hovertemplate\": \"<b>%{hovertext}</b><br><br>index=0<br>x=%{x}<br>y=%{y}<br>size=%{marker.color}\", \"hovertext\": [0.0], \"legendgroup\": \"\", \"marker\": {\"color\": [0], \"coloraxis\": \"coloraxis\", \"size\": [0], \"sizemode\": \"area\", \"sizeref\": 0.03272727272727273, \"symbol\": \"circle\"}, \"mode\": \"markers\", \"name\": \"\", \"showlegend\": false, \"x\": [0], \"xaxis\": \"x\", \"y\": [0.0], \"yaxis\": \"y\", \"type\": \"scatter\"}], \"name\": \"0\"}, {\"data\": [{\"hoverlabel\": {\"namelength\": 0}, \"hovertemplate\": \"<b>%{hovertext}</b><br><br>index=1<br>x=%{x}<br>y=%{y}<br>size=%{marker.color}\", \"hovertext\": [1.0], \"legendgroup\": \"\", \"marker\": {\"color\": [1], \"coloraxis\": \"coloraxis\", \"size\": [1], \"sizemode\": \"area\", \"sizeref\": 0.03272727272727273, \"symbol\": \"circle\"}, \"mode\": \"markers\", \"name\": \"\", \"showlegend\": false, \"x\": [1], \"xaxis\": \"x\", \"y\": [0.8414709848078965], \"yaxis\": \"y\", \"type\": \"scatter\"}], \"name\": \"1\"}, {\"data\": [{\"hoverlabel\": {\"namelength\": 0}, \"hovertemplate\": \"<b>%{hovertext}</b><br><br>index=2<br>x=%{x}<br>y=%{y}<br>size=%{marker.color}\", \"hovertext\": [2.0], \"legendgroup\": \"\", \"marker\": {\"color\": [2], \"coloraxis\": \"coloraxis\", \"size\": [2], \"sizemode\": \"area\", \"sizeref\": 0.03272727272727273, \"symbol\": \"circle\"}, \"mode\": \"markers\", \"name\": \"\", \"showlegend\": false, \"x\": [2], \"xaxis\": \"x\", \"y\": [0.9092974268256817], \"yaxis\": \"y\", \"type\": \"scatter\"}], \"name\": \"2\"}, {\"data\": [{\"hoverlabel\": {\"namelength\": 0}, \"hovertemplate\": \"<b>%{hovertext}</b><br><br>index=3<br>x=%{x}<br>y=%{y}<br>size=%{marker.color}\", \"hovertext\": [3.0], \"legendgroup\": \"\", \"marker\": {\"color\": [3], \"coloraxis\": \"coloraxis\", \"size\": [3], \"sizemode\": \"area\", \"sizeref\": 0.03272727272727273, \"symbol\": \"circle\"}, \"mode\": \"markers\", \"name\": \"\", \"showlegend\": false, \"x\": [3], \"xaxis\": \"x\", \"y\": [0.1411200080598672], \"yaxis\": \"y\", \"type\": \"scatter\"}], \"name\": \"3\"}, {\"data\": [{\"hoverlabel\": {\"namelength\": 0}, \"hovertemplate\": \"<b>%{hovertext}</b><br><br>index=4<br>x=%{x}<br>y=%{y}<br>size=%{marker.color}\", \"hovertext\": [4.0], \"legendgroup\": \"\", \"marker\": {\"color\": [4], \"coloraxis\": \"coloraxis\", \"size\": [4], \"sizemode\": \"area\", \"sizeref\": 0.03272727272727273, \"symbol\": \"circle\"}, \"mode\": \"markers\", \"name\": \"\", \"showlegend\": false, \"x\": [4], \"xaxis\": \"x\", \"y\": [-0.7568024953079282], \"yaxis\": \"y\", \"type\": \"scatter\"}], \"name\": \"4\"}, {\"data\": [{\"hoverlabel\": {\"namelength\": 0}, \"hovertemplate\": \"<b>%{hovertext}</b><br><br>index=5<br>x=%{x}<br>y=%{y}<br>size=%{marker.color}\", \"hovertext\": [5.0], \"legendgroup\": \"\", \"marker\": {\"color\": [5], \"coloraxis\": \"coloraxis\", \"size\": [5], \"sizemode\": \"area\", \"sizeref\": 0.03272727272727273, \"symbol\": \"circle\"}, \"mode\": \"markers\", \"name\": \"\", \"showlegend\": false, \"x\": [5], \"xaxis\": \"x\", \"y\": [-0.9589242746631385], \"yaxis\": \"y\", \"type\": \"scatter\"}], \"name\": \"5\"}, {\"data\": [{\"hoverlabel\": {\"namelength\": 0}, \"hovertemplate\": \"<b>%{hovertext}</b><br><br>index=6<br>x=%{x}<br>y=%{y}<br>size=%{marker.color}\", \"hovertext\": [6.0], \"legendgroup\": \"\", \"marker\": {\"color\": [6], \"coloraxis\": \"coloraxis\", \"size\": [6], \"sizemode\": \"area\", \"sizeref\": 0.03272727272727273, \"symbol\": \"circle\"}, \"mode\": \"markers\", \"name\": \"\", \"showlegend\": false, \"x\": [6], \"xaxis\": \"x\", \"y\": [-0.27941549819892586], \"yaxis\": \"y\", \"type\": \"scatter\"}], \"name\": \"6\"}, {\"data\": [{\"hoverlabel\": {\"namelength\": 0}, \"hovertemplate\": \"<b>%{hovertext}</b><br><br>index=7<br>x=%{x}<br>y=%{y}<br>size=%{marker.color}\", \"hovertext\": [7.0], \"legendgroup\": \"\", \"marker\": {\"color\": [7], \"coloraxis\": \"coloraxis\", \"size\": [7], \"sizemode\": \"area\", \"sizeref\": 0.03272727272727273, \"symbol\": \"circle\"}, \"mode\": \"markers\", \"name\": \"\", \"showlegend\": false, \"x\": [7], \"xaxis\": \"x\", \"y\": [0.6569865987187891], \"yaxis\": \"y\", \"type\": \"scatter\"}], \"name\": \"7\"}, {\"data\": [{\"hoverlabel\": {\"namelength\": 0}, \"hovertemplate\": \"<b>%{hovertext}</b><br><br>index=8<br>x=%{x}<br>y=%{y}<br>size=%{marker.color}\", \"hovertext\": [8.0], \"legendgroup\": \"\", \"marker\": {\"color\": [8], \"coloraxis\": \"coloraxis\", \"size\": [8], \"sizemode\": \"area\", \"sizeref\": 0.03272727272727273, \"symbol\": \"circle\"}, \"mode\": \"markers\", \"name\": \"\", \"showlegend\": false, \"x\": [8], \"xaxis\": \"x\", \"y\": [0.9893582466233818], \"yaxis\": \"y\", \"type\": \"scatter\"}], \"name\": \"8\"}, {\"data\": [{\"hoverlabel\": {\"namelength\": 0}, \"hovertemplate\": \"<b>%{hovertext}</b><br><br>index=9<br>x=%{x}<br>y=%{y}<br>size=%{marker.color}\", \"hovertext\": [9.0], \"legendgroup\": \"\", \"marker\": {\"color\": [9], \"coloraxis\": \"coloraxis\", \"size\": [9], \"sizemode\": \"area\", \"sizeref\": 0.03272727272727273, \"symbol\": \"circle\"}, \"mode\": \"markers\", \"name\": \"\", \"showlegend\": false, \"x\": [9], \"xaxis\": \"x\", \"y\": [0.4121184852417566], \"yaxis\": \"y\", \"type\": \"scatter\"}], \"name\": \"9\"}, {\"data\": [{\"hoverlabel\": {\"namelength\": 0}, \"hovertemplate\": \"<b>%{hovertext}</b><br><br>index=10<br>x=%{x}<br>y=%{y}<br>size=%{marker.color}\", \"hovertext\": [10.0], \"legendgroup\": \"\", \"marker\": {\"color\": [10], \"coloraxis\": \"coloraxis\", \"size\": [10], \"sizemode\": \"area\", \"sizeref\": 0.03272727272727273, \"symbol\": \"circle\"}, \"mode\": \"markers\", \"name\": \"\", \"showlegend\": false, \"x\": [10], \"xaxis\": \"x\", \"y\": [-0.5440211108893699], \"yaxis\": \"y\", \"type\": \"scatter\"}], \"name\": \"10\"}, {\"data\": [{\"hoverlabel\": {\"namelength\": 0}, \"hovertemplate\": \"<b>%{hovertext}</b><br><br>index=11<br>x=%{x}<br>y=%{y}<br>size=%{marker.color}\", \"hovertext\": [11.0], \"legendgroup\": \"\", \"marker\": {\"color\": [11], \"coloraxis\": \"coloraxis\", \"size\": [11], \"sizemode\": \"area\", \"sizeref\": 0.03272727272727273, \"symbol\": \"circle\"}, \"mode\": \"markers\", \"name\": \"\", \"showlegend\": false, \"x\": [11], \"xaxis\": \"x\", \"y\": [-0.9999902065507035], \"yaxis\": \"y\", \"type\": \"scatter\"}], \"name\": \"11\"}, {\"data\": [{\"hoverlabel\": {\"namelength\": 0}, \"hovertemplate\": \"<b>%{hovertext}</b><br><br>index=12<br>x=%{x}<br>y=%{y}<br>size=%{marker.color}\", \"hovertext\": [12.0], \"legendgroup\": \"\", \"marker\": {\"color\": [12], \"coloraxis\": \"coloraxis\", \"size\": [12], \"sizemode\": \"area\", \"sizeref\": 0.03272727272727273, \"symbol\": \"circle\"}, \"mode\": \"markers\", \"name\": \"\", \"showlegend\": false, \"x\": [12], \"xaxis\": \"x\", \"y\": [-0.5365729180004349], \"yaxis\": \"y\", \"type\": \"scatter\"}], \"name\": \"12\"}, {\"data\": [{\"hoverlabel\": {\"namelength\": 0}, \"hovertemplate\": \"<b>%{hovertext}</b><br><br>index=13<br>x=%{x}<br>y=%{y}<br>size=%{marker.color}\", \"hovertext\": [13.0], \"legendgroup\": \"\", \"marker\": {\"color\": [13], \"coloraxis\": \"coloraxis\", \"size\": [13], \"sizemode\": \"area\", \"sizeref\": 0.03272727272727273, \"symbol\": \"circle\"}, \"mode\": \"markers\", \"name\": \"\", \"showlegend\": false, \"x\": [13], \"xaxis\": \"x\", \"y\": [0.4201670368266409], \"yaxis\": \"y\", \"type\": \"scatter\"}], \"name\": \"13\"}, {\"data\": [{\"hoverlabel\": {\"namelength\": 0}, \"hovertemplate\": \"<b>%{hovertext}</b><br><br>index=14<br>x=%{x}<br>y=%{y}<br>size=%{marker.color}\", \"hovertext\": [14.0], \"legendgroup\": \"\", \"marker\": {\"color\": [14], \"coloraxis\": \"coloraxis\", \"size\": [14], \"sizemode\": \"area\", \"sizeref\": 0.03272727272727273, \"symbol\": \"circle\"}, \"mode\": \"markers\", \"name\": \"\", \"showlegend\": false, \"x\": [14], \"xaxis\": \"x\", \"y\": [0.9906073556948704], \"yaxis\": \"y\", \"type\": \"scatter\"}], \"name\": \"14\"}, {\"data\": [{\"hoverlabel\": {\"namelength\": 0}, \"hovertemplate\": \"<b>%{hovertext}</b><br><br>index=15<br>x=%{x}<br>y=%{y}<br>size=%{marker.color}\", \"hovertext\": [15.0], \"legendgroup\": \"\", \"marker\": {\"color\": [15], \"coloraxis\": \"coloraxis\", \"size\": [15], \"sizemode\": \"area\", \"sizeref\": 0.03272727272727273, \"symbol\": \"circle\"}, \"mode\": \"markers\", \"name\": \"\", \"showlegend\": false, \"x\": [15], \"xaxis\": \"x\", \"y\": [0.6502878401571169], \"yaxis\": \"y\", \"type\": \"scatter\"}], \"name\": \"15\"}, {\"data\": [{\"hoverlabel\": {\"namelength\": 0}, \"hovertemplate\": \"<b>%{hovertext}</b><br><br>index=16<br>x=%{x}<br>y=%{y}<br>size=%{marker.color}\", \"hovertext\": [16.0], \"legendgroup\": \"\", \"marker\": {\"color\": [16], \"coloraxis\": \"coloraxis\", \"size\": [16], \"sizemode\": \"area\", \"sizeref\": 0.03272727272727273, \"symbol\": \"circle\"}, \"mode\": \"markers\", \"name\": \"\", \"showlegend\": false, \"x\": [16], \"xaxis\": \"x\", \"y\": [-0.2879033166650653], \"yaxis\": \"y\", \"type\": \"scatter\"}], \"name\": \"16\"}, {\"data\": [{\"hoverlabel\": {\"namelength\": 0}, \"hovertemplate\": \"<b>%{hovertext}</b><br><br>index=17<br>x=%{x}<br>y=%{y}<br>size=%{marker.color}\", \"hovertext\": [17.0], \"legendgroup\": \"\", \"marker\": {\"color\": [17], \"coloraxis\": \"coloraxis\", \"size\": [17], \"sizemode\": \"area\", \"sizeref\": 0.03272727272727273, \"symbol\": \"circle\"}, \"mode\": \"markers\", \"name\": \"\", \"showlegend\": false, \"x\": [17], \"xaxis\": \"x\", \"y\": [-0.9613974918795568], \"yaxis\": \"y\", \"type\": \"scatter\"}], \"name\": \"17\"}, {\"data\": [{\"hoverlabel\": {\"namelength\": 0}, \"hovertemplate\": \"<b>%{hovertext}</b><br><br>index=18<br>x=%{x}<br>y=%{y}<br>size=%{marker.color}\", \"hovertext\": [18.0], \"legendgroup\": \"\", \"marker\": {\"color\": [18], \"coloraxis\": \"coloraxis\", \"size\": [18], \"sizemode\": \"area\", \"sizeref\": 0.03272727272727273, \"symbol\": \"circle\"}, \"mode\": \"markers\", \"name\": \"\", \"showlegend\": false, \"x\": [18], \"xaxis\": \"x\", \"y\": [-0.750987246771676], \"yaxis\": \"y\", \"type\": \"scatter\"}], \"name\": \"18\"}, {\"data\": [{\"hoverlabel\": {\"namelength\": 0}, \"hovertemplate\": \"<b>%{hovertext}</b><br><br>index=19<br>x=%{x}<br>y=%{y}<br>size=%{marker.color}\", \"hovertext\": [19.0], \"legendgroup\": \"\", \"marker\": {\"color\": [19], \"coloraxis\": \"coloraxis\", \"size\": [19], \"sizemode\": \"area\", \"sizeref\": 0.03272727272727273, \"symbol\": \"circle\"}, \"mode\": \"markers\", \"name\": \"\", \"showlegend\": false, \"x\": [19], \"xaxis\": \"x\", \"y\": [0.14987720966295234], \"yaxis\": \"y\", \"type\": \"scatter\"}], \"name\": \"19\"}, {\"data\": [{\"hoverlabel\": {\"namelength\": 0}, \"hovertemplate\": \"<b>%{hovertext}</b><br><br>index=20<br>x=%{x}<br>y=%{y}<br>size=%{marker.color}\", \"hovertext\": [20.0], \"legendgroup\": \"\", \"marker\": {\"color\": [20], \"coloraxis\": \"coloraxis\", \"size\": [20], \"sizemode\": \"area\", \"sizeref\": 0.03272727272727273, \"symbol\": \"circle\"}, \"mode\": \"markers\", \"name\": \"\", \"showlegend\": false, \"x\": [20], \"xaxis\": \"x\", \"y\": [0.9129452507276277], \"yaxis\": \"y\", \"type\": \"scatter\"}], \"name\": \"20\"}, {\"data\": [{\"hoverlabel\": {\"namelength\": 0}, \"hovertemplate\": \"<b>%{hovertext}</b><br><br>index=21<br>x=%{x}<br>y=%{y}<br>size=%{marker.color}\", \"hovertext\": [21.0], \"legendgroup\": \"\", \"marker\": {\"color\": [21], \"coloraxis\": \"coloraxis\", \"size\": [21], \"sizemode\": \"area\", \"sizeref\": 0.03272727272727273, \"symbol\": \"circle\"}, \"mode\": \"markers\", \"name\": \"\", \"showlegend\": false, \"x\": [21], \"xaxis\": \"x\", \"y\": [0.836655638536056], \"yaxis\": \"y\", \"type\": \"scatter\"}], \"name\": \"21\"}, {\"data\": [{\"hoverlabel\": {\"namelength\": 0}, \"hovertemplate\": \"<b>%{hovertext}</b><br><br>index=22<br>x=%{x}<br>y=%{y}<br>size=%{marker.color}\", \"hovertext\": [22.0], \"legendgroup\": \"\", \"marker\": {\"color\": [22], \"coloraxis\": \"coloraxis\", \"size\": [22], \"sizemode\": \"area\", \"sizeref\": 0.03272727272727273, \"symbol\": \"circle\"}, \"mode\": \"markers\", \"name\": \"\", \"showlegend\": false, \"x\": [22], \"xaxis\": \"x\", \"y\": [-0.008851309290403876], \"yaxis\": \"y\", \"type\": \"scatter\"}], \"name\": \"22\"}, {\"data\": [{\"hoverlabel\": {\"namelength\": 0}, \"hovertemplate\": \"<b>%{hovertext}</b><br><br>index=23<br>x=%{x}<br>y=%{y}<br>size=%{marker.color}\", \"hovertext\": [23.0], \"legendgroup\": \"\", \"marker\": {\"color\": [23], \"coloraxis\": \"coloraxis\", \"size\": [23], \"sizemode\": \"area\", \"sizeref\": 0.03272727272727273, \"symbol\": \"circle\"}, \"mode\": \"markers\", \"name\": \"\", \"showlegend\": false, \"x\": [23], \"xaxis\": \"x\", \"y\": [-0.8462204041751706], \"yaxis\": \"y\", \"type\": \"scatter\"}], \"name\": \"23\"}, {\"data\": [{\"hoverlabel\": {\"namelength\": 0}, \"hovertemplate\": \"<b>%{hovertext}</b><br><br>index=24<br>x=%{x}<br>y=%{y}<br>size=%{marker.color}\", \"hovertext\": [24.0], \"legendgroup\": \"\", \"marker\": {\"color\": [24], \"coloraxis\": \"coloraxis\", \"size\": [24], \"sizemode\": \"area\", \"sizeref\": 0.03272727272727273, \"symbol\": \"circle\"}, \"mode\": \"markers\", \"name\": \"\", \"showlegend\": false, \"x\": [24], \"xaxis\": \"x\", \"y\": [-0.9055783620066239], \"yaxis\": \"y\", \"type\": \"scatter\"}], \"name\": \"24\"}, {\"data\": [{\"hoverlabel\": {\"namelength\": 0}, \"hovertemplate\": \"<b>%{hovertext}</b><br><br>index=25<br>x=%{x}<br>y=%{y}<br>size=%{marker.color}\", \"hovertext\": [25.0], \"legendgroup\": \"\", \"marker\": {\"color\": [25], \"coloraxis\": \"coloraxis\", \"size\": [25], \"sizemode\": \"area\", \"sizeref\": 0.03272727272727273, \"symbol\": \"circle\"}, \"mode\": \"markers\", \"name\": \"\", \"showlegend\": false, \"x\": [25], \"xaxis\": \"x\", \"y\": [-0.13235175009777303], \"yaxis\": \"y\", \"type\": \"scatter\"}], \"name\": \"25\"}, {\"data\": [{\"hoverlabel\": {\"namelength\": 0}, \"hovertemplate\": \"<b>%{hovertext}</b><br><br>index=26<br>x=%{x}<br>y=%{y}<br>size=%{marker.color}\", \"hovertext\": [26.0], \"legendgroup\": \"\", \"marker\": {\"color\": [26], \"coloraxis\": \"coloraxis\", \"size\": [26], \"sizemode\": \"area\", \"sizeref\": 0.03272727272727273, \"symbol\": \"circle\"}, \"mode\": \"markers\", \"name\": \"\", \"showlegend\": false, \"x\": [26], \"xaxis\": \"x\", \"y\": [0.7625584504796028], \"yaxis\": \"y\", \"type\": \"scatter\"}], \"name\": \"26\"}, {\"data\": [{\"hoverlabel\": {\"namelength\": 0}, \"hovertemplate\": \"<b>%{hovertext}</b><br><br>index=27<br>x=%{x}<br>y=%{y}<br>size=%{marker.color}\", \"hovertext\": [27.0], \"legendgroup\": \"\", \"marker\": {\"color\": [27], \"coloraxis\": \"coloraxis\", \"size\": [27], \"sizemode\": \"area\", \"sizeref\": 0.03272727272727273, \"symbol\": \"circle\"}, \"mode\": \"markers\", \"name\": \"\", \"showlegend\": false, \"x\": [27], \"xaxis\": \"x\", \"y\": [0.956375928404503], \"yaxis\": \"y\", \"type\": \"scatter\"}], \"name\": \"27\"}, {\"data\": [{\"hoverlabel\": {\"namelength\": 0}, \"hovertemplate\": \"<b>%{hovertext}</b><br><br>index=28<br>x=%{x}<br>y=%{y}<br>size=%{marker.color}\", \"hovertext\": [28.0], \"legendgroup\": \"\", \"marker\": {\"color\": [28], \"coloraxis\": \"coloraxis\", \"size\": [28], \"sizemode\": \"area\", \"sizeref\": 0.03272727272727273, \"symbol\": \"circle\"}, \"mode\": \"markers\", \"name\": \"\", \"showlegend\": false, \"x\": [28], \"xaxis\": \"x\", \"y\": [0.27090578830786904], \"yaxis\": \"y\", \"type\": \"scatter\"}], \"name\": \"28\"}, {\"data\": [{\"hoverlabel\": {\"namelength\": 0}, \"hovertemplate\": \"<b>%{hovertext}</b><br><br>index=29<br>x=%{x}<br>y=%{y}<br>size=%{marker.color}\", \"hovertext\": [29.0], \"legendgroup\": \"\", \"marker\": {\"color\": [29], \"coloraxis\": \"coloraxis\", \"size\": [29], \"sizemode\": \"area\", \"sizeref\": 0.03272727272727273, \"symbol\": \"circle\"}, \"mode\": \"markers\", \"name\": \"\", \"showlegend\": false, \"x\": [29], \"xaxis\": \"x\", \"y\": [-0.6636338842129675], \"yaxis\": \"y\", \"type\": \"scatter\"}], \"name\": \"29\"}, {\"data\": [{\"hoverlabel\": {\"namelength\": 0}, \"hovertemplate\": \"<b>%{hovertext}</b><br><br>index=30<br>x=%{x}<br>y=%{y}<br>size=%{marker.color}\", \"hovertext\": [30.0], \"legendgroup\": \"\", \"marker\": {\"color\": [30], \"coloraxis\": \"coloraxis\", \"size\": [30], \"sizemode\": \"area\", \"sizeref\": 0.03272727272727273, \"symbol\": \"circle\"}, \"mode\": \"markers\", \"name\": \"\", \"showlegend\": false, \"x\": [30], \"xaxis\": \"x\", \"y\": [-0.9880316240928618], \"yaxis\": \"y\", \"type\": \"scatter\"}], \"name\": \"30\"}, {\"data\": [{\"hoverlabel\": {\"namelength\": 0}, \"hovertemplate\": \"<b>%{hovertext}</b><br><br>index=31<br>x=%{x}<br>y=%{y}<br>size=%{marker.color}\", \"hovertext\": [31.0], \"legendgroup\": \"\", \"marker\": {\"color\": [31], \"coloraxis\": \"coloraxis\", \"size\": [31], \"sizemode\": \"area\", \"sizeref\": 0.03272727272727273, \"symbol\": \"circle\"}, \"mode\": \"markers\", \"name\": \"\", \"showlegend\": false, \"x\": [31], \"xaxis\": \"x\", \"y\": [-0.404037645323065], \"yaxis\": \"y\", \"type\": \"scatter\"}], \"name\": \"31\"}, {\"data\": [{\"hoverlabel\": {\"namelength\": 0}, \"hovertemplate\": \"<b>%{hovertext}</b><br><br>index=32<br>x=%{x}<br>y=%{y}<br>size=%{marker.color}\", \"hovertext\": [32.0], \"legendgroup\": \"\", \"marker\": {\"color\": [32], \"coloraxis\": \"coloraxis\", \"size\": [32], \"sizemode\": \"area\", \"sizeref\": 0.03272727272727273, \"symbol\": \"circle\"}, \"mode\": \"markers\", \"name\": \"\", \"showlegend\": false, \"x\": [32], \"xaxis\": \"x\", \"y\": [0.5514266812416906], \"yaxis\": \"y\", \"type\": \"scatter\"}], \"name\": \"32\"}, {\"data\": [{\"hoverlabel\": {\"namelength\": 0}, \"hovertemplate\": \"<b>%{hovertext}</b><br><br>index=33<br>x=%{x}<br>y=%{y}<br>size=%{marker.color}\", \"hovertext\": [33.0], \"legendgroup\": \"\", \"marker\": {\"color\": [33], \"coloraxis\": \"coloraxis\", \"size\": [33], \"sizemode\": \"area\", \"sizeref\": 0.03272727272727273, \"symbol\": \"circle\"}, \"mode\": \"markers\", \"name\": \"\", \"showlegend\": false, \"x\": [33], \"xaxis\": \"x\", \"y\": [0.9999118601072672], \"yaxis\": \"y\", \"type\": \"scatter\"}], \"name\": \"33\"}, {\"data\": [{\"hoverlabel\": {\"namelength\": 0}, \"hovertemplate\": \"<b>%{hovertext}</b><br><br>index=34<br>x=%{x}<br>y=%{y}<br>size=%{marker.color}\", \"hovertext\": [34.0], \"legendgroup\": \"\", \"marker\": {\"color\": [34], \"coloraxis\": \"coloraxis\", \"size\": [34], \"sizemode\": \"area\", \"sizeref\": 0.03272727272727273, \"symbol\": \"circle\"}, \"mode\": \"markers\", \"name\": \"\", \"showlegend\": false, \"x\": [34], \"xaxis\": \"x\", \"y\": [0.5290826861200238], \"yaxis\": \"y\", \"type\": \"scatter\"}], \"name\": \"34\"}, {\"data\": [{\"hoverlabel\": {\"namelength\": 0}, \"hovertemplate\": \"<b>%{hovertext}</b><br><br>index=35<br>x=%{x}<br>y=%{y}<br>size=%{marker.color}\", \"hovertext\": [35.0], \"legendgroup\": \"\", \"marker\": {\"color\": [35], \"coloraxis\": \"coloraxis\", \"size\": [35], \"sizemode\": \"area\", \"sizeref\": 0.03272727272727273, \"symbol\": \"circle\"}, \"mode\": \"markers\", \"name\": \"\", \"showlegend\": false, \"x\": [35], \"xaxis\": \"x\", \"y\": [-0.428182669496151], \"yaxis\": \"y\", \"type\": \"scatter\"}], \"name\": \"35\"}, {\"data\": [{\"hoverlabel\": {\"namelength\": 0}, \"hovertemplate\": \"<b>%{hovertext}</b><br><br>index=36<br>x=%{x}<br>y=%{y}<br>size=%{marker.color}\", \"hovertext\": [36.0], \"legendgroup\": \"\", \"marker\": {\"color\": [36], \"coloraxis\": \"coloraxis\", \"size\": [36], \"sizemode\": \"area\", \"sizeref\": 0.03272727272727273, \"symbol\": \"circle\"}, \"mode\": \"markers\", \"name\": \"\", \"showlegend\": false, \"x\": [36], \"xaxis\": \"x\", \"y\": [-0.9917788534431158], \"yaxis\": \"y\", \"type\": \"scatter\"}], \"name\": \"36\"}, {\"data\": [{\"hoverlabel\": {\"namelength\": 0}, \"hovertemplate\": \"<b>%{hovertext}</b><br><br>index=37<br>x=%{x}<br>y=%{y}<br>size=%{marker.color}\", \"hovertext\": [37.0], \"legendgroup\": \"\", \"marker\": {\"color\": [37], \"coloraxis\": \"coloraxis\", \"size\": [37], \"sizemode\": \"area\", \"sizeref\": 0.03272727272727273, \"symbol\": \"circle\"}, \"mode\": \"markers\", \"name\": \"\", \"showlegend\": false, \"x\": [37], \"xaxis\": \"x\", \"y\": [-0.6435381333569994], \"yaxis\": \"y\", \"type\": \"scatter\"}], \"name\": \"37\"}, {\"data\": [{\"hoverlabel\": {\"namelength\": 0}, \"hovertemplate\": \"<b>%{hovertext}</b><br><br>index=38<br>x=%{x}<br>y=%{y}<br>size=%{marker.color}\", \"hovertext\": [38.0], \"legendgroup\": \"\", \"marker\": {\"color\": [38], \"coloraxis\": \"coloraxis\", \"size\": [38], \"sizemode\": \"area\", \"sizeref\": 0.03272727272727273, \"symbol\": \"circle\"}, \"mode\": \"markers\", \"name\": \"\", \"showlegend\": false, \"x\": [38], \"xaxis\": \"x\", \"y\": [0.2963685787093853], \"yaxis\": \"y\", \"type\": \"scatter\"}], \"name\": \"38\"}, {\"data\": [{\"hoverlabel\": {\"namelength\": 0}, \"hovertemplate\": \"<b>%{hovertext}</b><br><br>index=39<br>x=%{x}<br>y=%{y}<br>size=%{marker.color}\", \"hovertext\": [39.0], \"legendgroup\": \"\", \"marker\": {\"color\": [39], \"coloraxis\": \"coloraxis\", \"size\": [39], \"sizemode\": \"area\", \"sizeref\": 0.03272727272727273, \"symbol\": \"circle\"}, \"mode\": \"markers\", \"name\": \"\", \"showlegend\": false, \"x\": [39], \"xaxis\": \"x\", \"y\": [0.9637953862840878], \"yaxis\": \"y\", \"type\": \"scatter\"}], \"name\": \"39\"}, {\"data\": [{\"hoverlabel\": {\"namelength\": 0}, \"hovertemplate\": \"<b>%{hovertext}</b><br><br>index=40<br>x=%{x}<br>y=%{y}<br>size=%{marker.color}\", \"hovertext\": [40.0], \"legendgroup\": \"\", \"marker\": {\"color\": [40], \"coloraxis\": \"coloraxis\", \"size\": [40], \"sizemode\": \"area\", \"sizeref\": 0.03272727272727273, \"symbol\": \"circle\"}, \"mode\": \"markers\", \"name\": \"\", \"showlegend\": false, \"x\": [40], \"xaxis\": \"x\", \"y\": [0.7451131604793488], \"yaxis\": \"y\", \"type\": \"scatter\"}], \"name\": \"40\"}, {\"data\": [{\"hoverlabel\": {\"namelength\": 0}, \"hovertemplate\": \"<b>%{hovertext}</b><br><br>index=41<br>x=%{x}<br>y=%{y}<br>size=%{marker.color}\", \"hovertext\": [41.0], \"legendgroup\": \"\", \"marker\": {\"color\": [41], \"coloraxis\": \"coloraxis\", \"size\": [41], \"sizemode\": \"area\", \"sizeref\": 0.03272727272727273, \"symbol\": \"circle\"}, \"mode\": \"markers\", \"name\": \"\", \"showlegend\": false, \"x\": [41], \"xaxis\": \"x\", \"y\": [-0.158622668804709], \"yaxis\": \"y\", \"type\": \"scatter\"}], \"name\": \"41\"}, {\"data\": [{\"hoverlabel\": {\"namelength\": 0}, \"hovertemplate\": \"<b>%{hovertext}</b><br><br>index=42<br>x=%{x}<br>y=%{y}<br>size=%{marker.color}\", \"hovertext\": [42.0], \"legendgroup\": \"\", \"marker\": {\"color\": [42], \"coloraxis\": \"coloraxis\", \"size\": [42], \"sizemode\": \"area\", \"sizeref\": 0.03272727272727273, \"symbol\": \"circle\"}, \"mode\": \"markers\", \"name\": \"\", \"showlegend\": false, \"x\": [42], \"xaxis\": \"x\", \"y\": [-0.9165215479156338], \"yaxis\": \"y\", \"type\": \"scatter\"}], \"name\": \"42\"}, {\"data\": [{\"hoverlabel\": {\"namelength\": 0}, \"hovertemplate\": \"<b>%{hovertext}</b><br><br>index=43<br>x=%{x}<br>y=%{y}<br>size=%{marker.color}\", \"hovertext\": [43.0], \"legendgroup\": \"\", \"marker\": {\"color\": [43], \"coloraxis\": \"coloraxis\", \"size\": [43], \"sizemode\": \"area\", \"sizeref\": 0.03272727272727273, \"symbol\": \"circle\"}, \"mode\": \"markers\", \"name\": \"\", \"showlegend\": false, \"x\": [43], \"xaxis\": \"x\", \"y\": [-0.8317747426285983], \"yaxis\": \"y\", \"type\": \"scatter\"}], \"name\": \"43\"}, {\"data\": [{\"hoverlabel\": {\"namelength\": 0}, \"hovertemplate\": \"<b>%{hovertext}</b><br><br>index=44<br>x=%{x}<br>y=%{y}<br>size=%{marker.color}\", \"hovertext\": [44.0], \"legendgroup\": \"\", \"marker\": {\"color\": [44], \"coloraxis\": \"coloraxis\", \"size\": [44], \"sizemode\": \"area\", \"sizeref\": 0.03272727272727273, \"symbol\": \"circle\"}, \"mode\": \"markers\", \"name\": \"\", \"showlegend\": false, \"x\": [44], \"xaxis\": \"x\", \"y\": [0.017701925105413577], \"yaxis\": \"y\", \"type\": \"scatter\"}], \"name\": \"44\"}, {\"data\": [{\"hoverlabel\": {\"namelength\": 0}, \"hovertemplate\": \"<b>%{hovertext}</b><br><br>index=45<br>x=%{x}<br>y=%{y}<br>size=%{marker.color}\", \"hovertext\": [45.0], \"legendgroup\": \"\", \"marker\": {\"color\": [45], \"coloraxis\": \"coloraxis\", \"size\": [45], \"sizemode\": \"area\", \"sizeref\": 0.03272727272727273, \"symbol\": \"circle\"}, \"mode\": \"markers\", \"name\": \"\", \"showlegend\": false, \"x\": [45], \"xaxis\": \"x\", \"y\": [0.8509035245341184], \"yaxis\": \"y\", \"type\": \"scatter\"}], \"name\": \"45\"}, {\"data\": [{\"hoverlabel\": {\"namelength\": 0}, \"hovertemplate\": \"<b>%{hovertext}</b><br><br>index=46<br>x=%{x}<br>y=%{y}<br>size=%{marker.color}\", \"hovertext\": [46.0], \"legendgroup\": \"\", \"marker\": {\"color\": [46], \"coloraxis\": \"coloraxis\", \"size\": [46], \"sizemode\": \"area\", \"sizeref\": 0.03272727272727273, \"symbol\": \"circle\"}, \"mode\": \"markers\", \"name\": \"\", \"showlegend\": false, \"x\": [46], \"xaxis\": \"x\", \"y\": [0.9017883476488092], \"yaxis\": \"y\", \"type\": \"scatter\"}], \"name\": \"46\"}, {\"data\": [{\"hoverlabel\": {\"namelength\": 0}, \"hovertemplate\": \"<b>%{hovertext}</b><br><br>index=47<br>x=%{x}<br>y=%{y}<br>size=%{marker.color}\", \"hovertext\": [47.0], \"legendgroup\": \"\", \"marker\": {\"color\": [47], \"coloraxis\": \"coloraxis\", \"size\": [47], \"sizemode\": \"area\", \"sizeref\": 0.03272727272727273, \"symbol\": \"circle\"}, \"mode\": \"markers\", \"name\": \"\", \"showlegend\": false, \"x\": [47], \"xaxis\": \"x\", \"y\": [0.123573122745224], \"yaxis\": \"y\", \"type\": \"scatter\"}], \"name\": \"47\"}, {\"data\": [{\"hoverlabel\": {\"namelength\": 0}, \"hovertemplate\": \"<b>%{hovertext}</b><br><br>index=48<br>x=%{x}<br>y=%{y}<br>size=%{marker.color}\", \"hovertext\": [48.0], \"legendgroup\": \"\", \"marker\": {\"color\": [48], \"coloraxis\": \"coloraxis\", \"size\": [48], \"sizemode\": \"area\", \"sizeref\": 0.03272727272727273, \"symbol\": \"circle\"}, \"mode\": \"markers\", \"name\": \"\", \"showlegend\": false, \"x\": [48], \"xaxis\": \"x\", \"y\": [-0.7682546613236668], \"yaxis\": \"y\", \"type\": \"scatter\"}], \"name\": \"48\"}, {\"data\": [{\"hoverlabel\": {\"namelength\": 0}, \"hovertemplate\": \"<b>%{hovertext}</b><br><br>index=49<br>x=%{x}<br>y=%{y}<br>size=%{marker.color}\", \"hovertext\": [49.0], \"legendgroup\": \"\", \"marker\": {\"color\": [49], \"coloraxis\": \"coloraxis\", \"size\": [49], \"sizemode\": \"area\", \"sizeref\": 0.03272727272727273, \"symbol\": \"circle\"}, \"mode\": \"markers\", \"name\": \"\", \"showlegend\": false, \"x\": [49], \"xaxis\": \"x\", \"y\": [-0.9537526527594719], \"yaxis\": \"y\", \"type\": \"scatter\"}], \"name\": \"49\"}, {\"data\": [{\"hoverlabel\": {\"namelength\": 0}, \"hovertemplate\": \"<b>%{hovertext}</b><br><br>index=50<br>x=%{x}<br>y=%{y}<br>size=%{marker.color}\", \"hovertext\": [50.0], \"legendgroup\": \"\", \"marker\": {\"color\": [50], \"coloraxis\": \"coloraxis\", \"size\": [50], \"sizemode\": \"area\", \"sizeref\": 0.03272727272727273, \"symbol\": \"circle\"}, \"mode\": \"markers\", \"name\": \"\", \"showlegend\": false, \"x\": [50], \"xaxis\": \"x\", \"y\": [-0.26237485370392877], \"yaxis\": \"y\", \"type\": \"scatter\"}], \"name\": \"50\"}, {\"data\": [{\"hoverlabel\": {\"namelength\": 0}, \"hovertemplate\": \"<b>%{hovertext}</b><br><br>index=51<br>x=%{x}<br>y=%{y}<br>size=%{marker.color}\", \"hovertext\": [51.0], \"legendgroup\": \"\", \"marker\": {\"color\": [51], \"coloraxis\": \"coloraxis\", \"size\": [51], \"sizemode\": \"area\", \"sizeref\": 0.03272727272727273, \"symbol\": \"circle\"}, \"mode\": \"markers\", \"name\": \"\", \"showlegend\": false, \"x\": [51], \"xaxis\": \"x\", \"y\": [0.6702291758433747], \"yaxis\": \"y\", \"type\": \"scatter\"}], \"name\": \"51\"}, {\"data\": [{\"hoverlabel\": {\"namelength\": 0}, \"hovertemplate\": \"<b>%{hovertext}</b><br><br>index=52<br>x=%{x}<br>y=%{y}<br>size=%{marker.color}\", \"hovertext\": [52.0], \"legendgroup\": \"\", \"marker\": {\"color\": [52], \"coloraxis\": \"coloraxis\", \"size\": [52], \"sizemode\": \"area\", \"sizeref\": 0.03272727272727273, \"symbol\": \"circle\"}, \"mode\": \"markers\", \"name\": \"\", \"showlegend\": false, \"x\": [52], \"xaxis\": \"x\", \"y\": [0.9866275920404853], \"yaxis\": \"y\", \"type\": \"scatter\"}], \"name\": \"52\"}, {\"data\": [{\"hoverlabel\": {\"namelength\": 0}, \"hovertemplate\": \"<b>%{hovertext}</b><br><br>index=53<br>x=%{x}<br>y=%{y}<br>size=%{marker.color}\", \"hovertext\": [53.0], \"legendgroup\": \"\", \"marker\": {\"color\": [53], \"coloraxis\": \"coloraxis\", \"size\": [53], \"sizemode\": \"area\", \"sizeref\": 0.03272727272727273, \"symbol\": \"circle\"}, \"mode\": \"markers\", \"name\": \"\", \"showlegend\": false, \"x\": [53], \"xaxis\": \"x\", \"y\": [0.3959251501818342], \"yaxis\": \"y\", \"type\": \"scatter\"}], \"name\": \"53\"}, {\"data\": [{\"hoverlabel\": {\"namelength\": 0}, \"hovertemplate\": \"<b>%{hovertext}</b><br><br>index=54<br>x=%{x}<br>y=%{y}<br>size=%{marker.color}\", \"hovertext\": [54.0], \"legendgroup\": \"\", \"marker\": {\"color\": [54], \"coloraxis\": \"coloraxis\", \"size\": [54], \"sizemode\": \"area\", \"sizeref\": 0.03272727272727273, \"symbol\": \"circle\"}, \"mode\": \"markers\", \"name\": \"\", \"showlegend\": false, \"x\": [54], \"xaxis\": \"x\", \"y\": [-0.5587890488516162], \"yaxis\": \"y\", \"type\": \"scatter\"}], \"name\": \"54\"}, {\"data\": [{\"hoverlabel\": {\"namelength\": 0}, \"hovertemplate\": \"<b>%{hovertext}</b><br><br>index=55<br>x=%{x}<br>y=%{y}<br>size=%{marker.color}\", \"hovertext\": [55.0], \"legendgroup\": \"\", \"marker\": {\"color\": [55], \"coloraxis\": \"coloraxis\", \"size\": [55], \"sizemode\": \"area\", \"sizeref\": 0.03272727272727273, \"symbol\": \"circle\"}, \"mode\": \"markers\", \"name\": \"\", \"showlegend\": false, \"x\": [55], \"xaxis\": \"x\", \"y\": [-0.9997551733586199], \"yaxis\": \"y\", \"type\": \"scatter\"}], \"name\": \"55\"}, {\"data\": [{\"hoverlabel\": {\"namelength\": 0}, \"hovertemplate\": \"<b>%{hovertext}</b><br><br>index=56<br>x=%{x}<br>y=%{y}<br>size=%{marker.color}\", \"hovertext\": [56.0], \"legendgroup\": \"\", \"marker\": {\"color\": [56], \"coloraxis\": \"coloraxis\", \"size\": [56], \"sizemode\": \"area\", \"sizeref\": 0.03272727272727273, \"symbol\": \"circle\"}, \"mode\": \"markers\", \"name\": \"\", \"showlegend\": false, \"x\": [56], \"xaxis\": \"x\", \"y\": [-0.5215510020869119], \"yaxis\": \"y\", \"type\": \"scatter\"}], \"name\": \"56\"}, {\"data\": [{\"hoverlabel\": {\"namelength\": 0}, \"hovertemplate\": \"<b>%{hovertext}</b><br><br>index=57<br>x=%{x}<br>y=%{y}<br>size=%{marker.color}\", \"hovertext\": [57.0], \"legendgroup\": \"\", \"marker\": {\"color\": [57], \"coloraxis\": \"coloraxis\", \"size\": [57], \"sizemode\": \"area\", \"sizeref\": 0.03272727272727273, \"symbol\": \"circle\"}, \"mode\": \"markers\", \"name\": \"\", \"showlegend\": false, \"x\": [57], \"xaxis\": \"x\", \"y\": [0.43616475524782494], \"yaxis\": \"y\", \"type\": \"scatter\"}], \"name\": \"57\"}, {\"data\": [{\"hoverlabel\": {\"namelength\": 0}, \"hovertemplate\": \"<b>%{hovertext}</b><br><br>index=58<br>x=%{x}<br>y=%{y}<br>size=%{marker.color}\", \"hovertext\": [58.0], \"legendgroup\": \"\", \"marker\": {\"color\": [58], \"coloraxis\": \"coloraxis\", \"size\": [58], \"sizemode\": \"area\", \"sizeref\": 0.03272727272727273, \"symbol\": \"circle\"}, \"mode\": \"markers\", \"name\": \"\", \"showlegend\": false, \"x\": [58], \"xaxis\": \"x\", \"y\": [0.9928726480845371], \"yaxis\": \"y\", \"type\": \"scatter\"}], \"name\": \"58\"}, {\"data\": [{\"hoverlabel\": {\"namelength\": 0}, \"hovertemplate\": \"<b>%{hovertext}</b><br><br>index=59<br>x=%{x}<br>y=%{y}<br>size=%{marker.color}\", \"hovertext\": [59.0], \"legendgroup\": \"\", \"marker\": {\"color\": [59], \"coloraxis\": \"coloraxis\", \"size\": [59], \"sizemode\": \"area\", \"sizeref\": 0.03272727272727273, \"symbol\": \"circle\"}, \"mode\": \"markers\", \"name\": \"\", \"showlegend\": false, \"x\": [59], \"xaxis\": \"x\", \"y\": [0.6367380071391379], \"yaxis\": \"y\", \"type\": \"scatter\"}], \"name\": \"59\"}, {\"data\": [{\"hoverlabel\": {\"namelength\": 0}, \"hovertemplate\": \"<b>%{hovertext}</b><br><br>index=60<br>x=%{x}<br>y=%{y}<br>size=%{marker.color}\", \"hovertext\": [60.0], \"legendgroup\": \"\", \"marker\": {\"color\": [60], \"coloraxis\": \"coloraxis\", \"size\": [60], \"sizemode\": \"area\", \"sizeref\": 0.03272727272727273, \"symbol\": \"circle\"}, \"mode\": \"markers\", \"name\": \"\", \"showlegend\": false, \"x\": [60], \"xaxis\": \"x\", \"y\": [-0.3048106211022167], \"yaxis\": \"y\", \"type\": \"scatter\"}], \"name\": \"60\"}, {\"data\": [{\"hoverlabel\": {\"namelength\": 0}, \"hovertemplate\": \"<b>%{hovertext}</b><br><br>index=61<br>x=%{x}<br>y=%{y}<br>size=%{marker.color}\", \"hovertext\": [61.0], \"legendgroup\": \"\", \"marker\": {\"color\": [61], \"coloraxis\": \"coloraxis\", \"size\": [61], \"sizemode\": \"area\", \"sizeref\": 0.03272727272727273, \"symbol\": \"circle\"}, \"mode\": \"markers\", \"name\": \"\", \"showlegend\": false, \"x\": [61], \"xaxis\": \"x\", \"y\": [-0.9661177700083929], \"yaxis\": \"y\", \"type\": \"scatter\"}], \"name\": \"61\"}, {\"data\": [{\"hoverlabel\": {\"namelength\": 0}, \"hovertemplate\": \"<b>%{hovertext}</b><br><br>index=62<br>x=%{x}<br>y=%{y}<br>size=%{marker.color}\", \"hovertext\": [62.0], \"legendgroup\": \"\", \"marker\": {\"color\": [62], \"coloraxis\": \"coloraxis\", \"size\": [62], \"sizemode\": \"area\", \"sizeref\": 0.03272727272727273, \"symbol\": \"circle\"}, \"mode\": \"markers\", \"name\": \"\", \"showlegend\": false, \"x\": [62], \"xaxis\": \"x\", \"y\": [-0.7391806966492229], \"yaxis\": \"y\", \"type\": \"scatter\"}], \"name\": \"62\"}, {\"data\": [{\"hoverlabel\": {\"namelength\": 0}, \"hovertemplate\": \"<b>%{hovertext}</b><br><br>index=63<br>x=%{x}<br>y=%{y}<br>size=%{marker.color}\", \"hovertext\": [63.0], \"legendgroup\": \"\", \"marker\": {\"color\": [63], \"coloraxis\": \"coloraxis\", \"size\": [63], \"sizemode\": \"area\", \"sizeref\": 0.03272727272727273, \"symbol\": \"circle\"}, \"mode\": \"markers\", \"name\": \"\", \"showlegend\": false, \"x\": [63], \"xaxis\": \"x\", \"y\": [0.16735570030280694], \"yaxis\": \"y\", \"type\": \"scatter\"}], \"name\": \"63\"}, {\"data\": [{\"hoverlabel\": {\"namelength\": 0}, \"hovertemplate\": \"<b>%{hovertext}</b><br><br>index=64<br>x=%{x}<br>y=%{y}<br>size=%{marker.color}\", \"hovertext\": [64.0], \"legendgroup\": \"\", \"marker\": {\"color\": [64], \"coloraxis\": \"coloraxis\", \"size\": [64], \"sizemode\": \"area\", \"sizeref\": 0.03272727272727273, \"symbol\": \"circle\"}, \"mode\": \"markers\", \"name\": \"\", \"showlegend\": false, \"x\": [64], \"xaxis\": \"x\", \"y\": [0.9200260381967907], \"yaxis\": \"y\", \"type\": \"scatter\"}], \"name\": \"64\"}, {\"data\": [{\"hoverlabel\": {\"namelength\": 0}, \"hovertemplate\": \"<b>%{hovertext}</b><br><br>index=65<br>x=%{x}<br>y=%{y}<br>size=%{marker.color}\", \"hovertext\": [65.0], \"legendgroup\": \"\", \"marker\": {\"color\": [65], \"coloraxis\": \"coloraxis\", \"size\": [65], \"sizemode\": \"area\", \"sizeref\": 0.03272727272727273, \"symbol\": \"circle\"}, \"mode\": \"markers\", \"name\": \"\", \"showlegend\": false, \"x\": [65], \"xaxis\": \"x\", \"y\": [0.8268286794901035], \"yaxis\": \"y\", \"type\": \"scatter\"}], \"name\": \"65\"}, {\"data\": [{\"hoverlabel\": {\"namelength\": 0}, \"hovertemplate\": \"<b>%{hovertext}</b><br><br>index=66<br>x=%{x}<br>y=%{y}<br>size=%{marker.color}\", \"hovertext\": [66.0], \"legendgroup\": \"\", \"marker\": {\"color\": [66], \"coloraxis\": \"coloraxis\", \"size\": [66], \"sizemode\": \"area\", \"sizeref\": 0.03272727272727273, \"symbol\": \"circle\"}, \"mode\": \"markers\", \"name\": \"\", \"showlegend\": false, \"x\": [66], \"xaxis\": \"x\", \"y\": [-0.026551154023966794], \"yaxis\": \"y\", \"type\": \"scatter\"}], \"name\": \"66\"}, {\"data\": [{\"hoverlabel\": {\"namelength\": 0}, \"hovertemplate\": \"<b>%{hovertext}</b><br><br>index=67<br>x=%{x}<br>y=%{y}<br>size=%{marker.color}\", \"hovertext\": [67.0], \"legendgroup\": \"\", \"marker\": {\"color\": [67], \"coloraxis\": \"coloraxis\", \"size\": [67], \"sizemode\": \"area\", \"sizeref\": 0.03272727272727273, \"symbol\": \"circle\"}, \"mode\": \"markers\", \"name\": \"\", \"showlegend\": false, \"x\": [67], \"xaxis\": \"x\", \"y\": [-0.8555199789753223], \"yaxis\": \"y\", \"type\": \"scatter\"}], \"name\": \"67\"}, {\"data\": [{\"hoverlabel\": {\"namelength\": 0}, \"hovertemplate\": \"<b>%{hovertext}</b><br><br>index=68<br>x=%{x}<br>y=%{y}<br>size=%{marker.color}\", \"hovertext\": [68.0], \"legendgroup\": \"\", \"marker\": {\"color\": [68], \"coloraxis\": \"coloraxis\", \"size\": [68], \"sizemode\": \"area\", \"sizeref\": 0.03272727272727273, \"symbol\": \"circle\"}, \"mode\": \"markers\", \"name\": \"\", \"showlegend\": false, \"x\": [68], \"xaxis\": \"x\", \"y\": [-0.8979276806892913], \"yaxis\": \"y\", \"type\": \"scatter\"}], \"name\": \"68\"}, {\"data\": [{\"hoverlabel\": {\"namelength\": 0}, \"hovertemplate\": \"<b>%{hovertext}</b><br><br>index=69<br>x=%{x}<br>y=%{y}<br>size=%{marker.color}\", \"hovertext\": [69.0], \"legendgroup\": \"\", \"marker\": {\"color\": [69], \"coloraxis\": \"coloraxis\", \"size\": [69], \"sizemode\": \"area\", \"sizeref\": 0.03272727272727273, \"symbol\": \"circle\"}, \"mode\": \"markers\", \"name\": \"\", \"showlegend\": false, \"x\": [69], \"xaxis\": \"x\", \"y\": [-0.11478481378318722], \"yaxis\": \"y\", \"type\": \"scatter\"}], \"name\": \"69\"}, {\"data\": [{\"hoverlabel\": {\"namelength\": 0}, \"hovertemplate\": \"<b>%{hovertext}</b><br><br>index=70<br>x=%{x}<br>y=%{y}<br>size=%{marker.color}\", \"hovertext\": [70.0], \"legendgroup\": \"\", \"marker\": {\"color\": [70], \"coloraxis\": \"coloraxis\", \"size\": [70], \"sizemode\": \"area\", \"sizeref\": 0.03272727272727273, \"symbol\": \"circle\"}, \"mode\": \"markers\", \"name\": \"\", \"showlegend\": false, \"x\": [70], \"xaxis\": \"x\", \"y\": [0.7738906815578891], \"yaxis\": \"y\", \"type\": \"scatter\"}], \"name\": \"70\"}, {\"data\": [{\"hoverlabel\": {\"namelength\": 0}, \"hovertemplate\": \"<b>%{hovertext}</b><br><br>index=71<br>x=%{x}<br>y=%{y}<br>size=%{marker.color}\", \"hovertext\": [71.0], \"legendgroup\": \"\", \"marker\": {\"color\": [71], \"coloraxis\": \"coloraxis\", \"size\": [71], \"sizemode\": \"area\", \"sizeref\": 0.03272727272727273, \"symbol\": \"circle\"}, \"mode\": \"markers\", \"name\": \"\", \"showlegend\": false, \"x\": [71], \"xaxis\": \"x\", \"y\": [0.9510546532543747], \"yaxis\": \"y\", \"type\": \"scatter\"}], \"name\": \"71\"}, {\"data\": [{\"hoverlabel\": {\"namelength\": 0}, \"hovertemplate\": \"<b>%{hovertext}</b><br><br>index=72<br>x=%{x}<br>y=%{y}<br>size=%{marker.color}\", \"hovertext\": [72.0], \"legendgroup\": \"\", \"marker\": {\"color\": [72], \"coloraxis\": \"coloraxis\", \"size\": [72], \"sizemode\": \"area\", \"sizeref\": 0.03272727272727273, \"symbol\": \"circle\"}, \"mode\": \"markers\", \"name\": \"\", \"showlegend\": false, \"x\": [72], \"xaxis\": \"x\", \"y\": [0.25382336276203626], \"yaxis\": \"y\", \"type\": \"scatter\"}], \"name\": \"72\"}, {\"data\": [{\"hoverlabel\": {\"namelength\": 0}, \"hovertemplate\": \"<b>%{hovertext}</b><br><br>index=73<br>x=%{x}<br>y=%{y}<br>size=%{marker.color}\", \"hovertext\": [73.0], \"legendgroup\": \"\", \"marker\": {\"color\": [73], \"coloraxis\": \"coloraxis\", \"size\": [73], \"sizemode\": \"area\", \"sizeref\": 0.03272727272727273, \"symbol\": \"circle\"}, \"mode\": \"markers\", \"name\": \"\", \"showlegend\": false, \"x\": [73], \"xaxis\": \"x\", \"y\": [-0.6767719568873076], \"yaxis\": \"y\", \"type\": \"scatter\"}], \"name\": \"73\"}, {\"data\": [{\"hoverlabel\": {\"namelength\": 0}, \"hovertemplate\": \"<b>%{hovertext}</b><br><br>index=74<br>x=%{x}<br>y=%{y}<br>size=%{marker.color}\", \"hovertext\": [74.0], \"legendgroup\": \"\", \"marker\": {\"color\": [74], \"coloraxis\": \"coloraxis\", \"size\": [74], \"sizemode\": \"area\", \"sizeref\": 0.03272727272727273, \"symbol\": \"circle\"}, \"mode\": \"markers\", \"name\": \"\", \"showlegend\": false, \"x\": [74], \"xaxis\": \"x\", \"y\": [-0.9851462604682474], \"yaxis\": \"y\", \"type\": \"scatter\"}], \"name\": \"74\"}, {\"data\": [{\"hoverlabel\": {\"namelength\": 0}, \"hovertemplate\": \"<b>%{hovertext}</b><br><br>index=75<br>x=%{x}<br>y=%{y}<br>size=%{marker.color}\", \"hovertext\": [75.0], \"legendgroup\": \"\", \"marker\": {\"color\": [75], \"coloraxis\": \"coloraxis\", \"size\": [75], \"sizemode\": \"area\", \"sizeref\": 0.03272727272727273, \"symbol\": \"circle\"}, \"mode\": \"markers\", \"name\": \"\", \"showlegend\": false, \"x\": [75], \"xaxis\": \"x\", \"y\": [-0.38778163540943045], \"yaxis\": \"y\", \"type\": \"scatter\"}], \"name\": \"75\"}, {\"data\": [{\"hoverlabel\": {\"namelength\": 0}, \"hovertemplate\": \"<b>%{hovertext}</b><br><br>index=76<br>x=%{x}<br>y=%{y}<br>size=%{marker.color}\", \"hovertext\": [76.0], \"legendgroup\": \"\", \"marker\": {\"color\": [76], \"coloraxis\": \"coloraxis\", \"size\": [76], \"sizemode\": \"area\", \"sizeref\": 0.03272727272727273, \"symbol\": \"circle\"}, \"mode\": \"markers\", \"name\": \"\", \"showlegend\": false, \"x\": [76], \"xaxis\": \"x\", \"y\": [0.5661076368981803], \"yaxis\": \"y\", \"type\": \"scatter\"}], \"name\": \"76\"}, {\"data\": [{\"hoverlabel\": {\"namelength\": 0}, \"hovertemplate\": \"<b>%{hovertext}</b><br><br>index=77<br>x=%{x}<br>y=%{y}<br>size=%{marker.color}\", \"hovertext\": [77.0], \"legendgroup\": \"\", \"marker\": {\"color\": [77], \"coloraxis\": \"coloraxis\", \"size\": [77], \"sizemode\": \"area\", \"sizeref\": 0.03272727272727273, \"symbol\": \"circle\"}, \"mode\": \"markers\", \"name\": \"\", \"showlegend\": false, \"x\": [77], \"xaxis\": \"x\", \"y\": [0.9995201585807313], \"yaxis\": \"y\", \"type\": \"scatter\"}], \"name\": \"77\"}, {\"data\": [{\"hoverlabel\": {\"namelength\": 0}, \"hovertemplate\": \"<b>%{hovertext}</b><br><br>index=78<br>x=%{x}<br>y=%{y}<br>size=%{marker.color}\", \"hovertext\": [78.0], \"legendgroup\": \"\", \"marker\": {\"color\": [78], \"coloraxis\": \"coloraxis\", \"size\": [78], \"sizemode\": \"area\", \"sizeref\": 0.03272727272727273, \"symbol\": \"circle\"}, \"mode\": \"markers\", \"name\": \"\", \"showlegend\": false, \"x\": [78], \"xaxis\": \"x\", \"y\": [0.5139784559875352], \"yaxis\": \"y\", \"type\": \"scatter\"}], \"name\": \"78\"}, {\"data\": [{\"hoverlabel\": {\"namelength\": 0}, \"hovertemplate\": \"<b>%{hovertext}</b><br><br>index=79<br>x=%{x}<br>y=%{y}<br>size=%{marker.color}\", \"hovertext\": [79.0], \"legendgroup\": \"\", \"marker\": {\"color\": [79], \"coloraxis\": \"coloraxis\", \"size\": [79], \"sizemode\": \"area\", \"sizeref\": 0.03272727272727273, \"symbol\": \"circle\"}, \"mode\": \"markers\", \"name\": \"\", \"showlegend\": false, \"x\": [79], \"xaxis\": \"x\", \"y\": [-0.4441126687075084], \"yaxis\": \"y\", \"type\": \"scatter\"}], \"name\": \"79\"}, {\"data\": [{\"hoverlabel\": {\"namelength\": 0}, \"hovertemplate\": \"<b>%{hovertext}</b><br><br>index=80<br>x=%{x}<br>y=%{y}<br>size=%{marker.color}\", \"hovertext\": [80.0], \"legendgroup\": \"\", \"marker\": {\"color\": [80], \"coloraxis\": \"coloraxis\", \"size\": [80], \"sizemode\": \"area\", \"sizeref\": 0.03272727272727273, \"symbol\": \"circle\"}, \"mode\": \"markers\", \"name\": \"\", \"showlegend\": false, \"x\": [80], \"xaxis\": \"x\", \"y\": [-0.9938886539233752], \"yaxis\": \"y\", \"type\": \"scatter\"}], \"name\": \"80\"}, {\"data\": [{\"hoverlabel\": {\"namelength\": 0}, \"hovertemplate\": \"<b>%{hovertext}</b><br><br>index=81<br>x=%{x}<br>y=%{y}<br>size=%{marker.color}\", \"hovertext\": [81.0], \"legendgroup\": \"\", \"marker\": {\"color\": [81], \"coloraxis\": \"coloraxis\", \"size\": [81], \"sizemode\": \"area\", \"sizeref\": 0.03272727272727273, \"symbol\": \"circle\"}, \"mode\": \"markers\", \"name\": \"\", \"showlegend\": false, \"x\": [81], \"xaxis\": \"x\", \"y\": [-0.629887994274454], \"yaxis\": \"y\", \"type\": \"scatter\"}], \"name\": \"81\"}, {\"data\": [{\"hoverlabel\": {\"namelength\": 0}, \"hovertemplate\": \"<b>%{hovertext}</b><br><br>index=82<br>x=%{x}<br>y=%{y}<br>size=%{marker.color}\", \"hovertext\": [82.0], \"legendgroup\": \"\", \"marker\": {\"color\": [82], \"coloraxis\": \"coloraxis\", \"size\": [82], \"sizemode\": \"area\", \"sizeref\": 0.03272727272727273, \"symbol\": \"circle\"}, \"mode\": \"markers\", \"name\": \"\", \"showlegend\": false, \"x\": [82], \"xaxis\": \"x\", \"y\": [0.31322878243308516], \"yaxis\": \"y\", \"type\": \"scatter\"}], \"name\": \"82\"}, {\"data\": [{\"hoverlabel\": {\"namelength\": 0}, \"hovertemplate\": \"<b>%{hovertext}</b><br><br>index=83<br>x=%{x}<br>y=%{y}<br>size=%{marker.color}\", \"hovertext\": [83.0], \"legendgroup\": \"\", \"marker\": {\"color\": [83], \"coloraxis\": \"coloraxis\", \"size\": [83], \"sizemode\": \"area\", \"sizeref\": 0.03272727272727273, \"symbol\": \"circle\"}, \"mode\": \"markers\", \"name\": \"\", \"showlegend\": false, \"x\": [83], \"xaxis\": \"x\", \"y\": [0.9683644611001854], \"yaxis\": \"y\", \"type\": \"scatter\"}], \"name\": \"83\"}, {\"data\": [{\"hoverlabel\": {\"namelength\": 0}, \"hovertemplate\": \"<b>%{hovertext}</b><br><br>index=84<br>x=%{x}<br>y=%{y}<br>size=%{marker.color}\", \"hovertext\": [84.0], \"legendgroup\": \"\", \"marker\": {\"color\": [84], \"coloraxis\": \"coloraxis\", \"size\": [84], \"sizemode\": \"area\", \"sizeref\": 0.03272727272727273, \"symbol\": \"circle\"}, \"mode\": \"markers\", \"name\": \"\", \"showlegend\": false, \"x\": [84], \"xaxis\": \"x\", \"y\": [0.7331903200732921], \"yaxis\": \"y\", \"type\": \"scatter\"}], \"name\": \"84\"}, {\"data\": [{\"hoverlabel\": {\"namelength\": 0}, \"hovertemplate\": \"<b>%{hovertext}</b><br><br>index=85<br>x=%{x}<br>y=%{y}<br>size=%{marker.color}\", \"hovertext\": [85.0], \"legendgroup\": \"\", \"marker\": {\"color\": [85], \"coloraxis\": \"coloraxis\", \"size\": [85], \"sizemode\": \"area\", \"sizeref\": 0.03272727272727273, \"symbol\": \"circle\"}, \"mode\": \"markers\", \"name\": \"\", \"showlegend\": false, \"x\": [85], \"xaxis\": \"x\", \"y\": [-0.1760756199485871], \"yaxis\": \"y\", \"type\": \"scatter\"}], \"name\": \"85\"}, {\"data\": [{\"hoverlabel\": {\"namelength\": 0}, \"hovertemplate\": \"<b>%{hovertext}</b><br><br>index=86<br>x=%{x}<br>y=%{y}<br>size=%{marker.color}\", \"hovertext\": [86.0], \"legendgroup\": \"\", \"marker\": {\"color\": [86], \"coloraxis\": \"coloraxis\", \"size\": [86], \"sizemode\": \"area\", \"sizeref\": 0.03272727272727273, \"symbol\": \"circle\"}, \"mode\": \"markers\", \"name\": \"\", \"showlegend\": false, \"x\": [86], \"xaxis\": \"x\", \"y\": [-0.9234584470040598], \"yaxis\": \"y\", \"type\": \"scatter\"}], \"name\": \"86\"}, {\"data\": [{\"hoverlabel\": {\"namelength\": 0}, \"hovertemplate\": \"<b>%{hovertext}</b><br><br>index=87<br>x=%{x}<br>y=%{y}<br>size=%{marker.color}\", \"hovertext\": [87.0], \"legendgroup\": \"\", \"marker\": {\"color\": [87], \"coloraxis\": \"coloraxis\", \"size\": [87], \"sizemode\": \"area\", \"sizeref\": 0.03272727272727273, \"symbol\": \"circle\"}, \"mode\": \"markers\", \"name\": \"\", \"showlegend\": false, \"x\": [87], \"xaxis\": \"x\", \"y\": [-0.8218178366308225], \"yaxis\": \"y\", \"type\": \"scatter\"}], \"name\": \"87\"}, {\"data\": [{\"hoverlabel\": {\"namelength\": 0}, \"hovertemplate\": \"<b>%{hovertext}</b><br><br>index=88<br>x=%{x}<br>y=%{y}<br>size=%{marker.color}\", \"hovertext\": [88.0], \"legendgroup\": \"\", \"marker\": {\"color\": [88], \"coloraxis\": \"coloraxis\", \"size\": [88], \"sizemode\": \"area\", \"sizeref\": 0.03272727272727273, \"symbol\": \"circle\"}, \"mode\": \"markers\", \"name\": \"\", \"showlegend\": false, \"x\": [88], \"xaxis\": \"x\", \"y\": [0.03539830273366069], \"yaxis\": \"y\", \"type\": \"scatter\"}], \"name\": \"88\"}, {\"data\": [{\"hoverlabel\": {\"namelength\": 0}, \"hovertemplate\": \"<b>%{hovertext}</b><br><br>index=89<br>x=%{x}<br>y=%{y}<br>size=%{marker.color}\", \"hovertext\": [89.0], \"legendgroup\": \"\", \"marker\": {\"color\": [89], \"coloraxis\": \"coloraxis\", \"size\": [89], \"sizemode\": \"area\", \"sizeref\": 0.03272727272727273, \"symbol\": \"circle\"}, \"mode\": \"markers\", \"name\": \"\", \"showlegend\": false, \"x\": [89], \"xaxis\": \"x\", \"y\": [0.8600694058124533], \"yaxis\": \"y\", \"type\": \"scatter\"}], \"name\": \"89\"}, {\"data\": [{\"hoverlabel\": {\"namelength\": 0}, \"hovertemplate\": \"<b>%{hovertext}</b><br><br>index=90<br>x=%{x}<br>y=%{y}<br>size=%{marker.color}\", \"hovertext\": [90.0], \"legendgroup\": \"\", \"marker\": {\"color\": [90], \"coloraxis\": \"coloraxis\", \"size\": [90], \"sizemode\": \"area\", \"sizeref\": 0.03272727272727273, \"symbol\": \"circle\"}, \"mode\": \"markers\", \"name\": \"\", \"showlegend\": false, \"x\": [90], \"xaxis\": \"x\", \"y\": [0.8939966636005579], \"yaxis\": \"y\", \"type\": \"scatter\"}], \"name\": \"90\"}, {\"data\": [{\"hoverlabel\": {\"namelength\": 0}, \"hovertemplate\": \"<b>%{hovertext}</b><br><br>index=91<br>x=%{x}<br>y=%{y}<br>size=%{marker.color}\", \"hovertext\": [91.0], \"legendgroup\": \"\", \"marker\": {\"color\": [91], \"coloraxis\": \"coloraxis\", \"size\": [91], \"sizemode\": \"area\", \"sizeref\": 0.03272727272727273, \"symbol\": \"circle\"}, \"mode\": \"markers\", \"name\": \"\", \"showlegend\": false, \"x\": [91], \"xaxis\": \"x\", \"y\": [0.10598751175115685], \"yaxis\": \"y\", \"type\": \"scatter\"}], \"name\": \"91\"}, {\"data\": [{\"hoverlabel\": {\"namelength\": 0}, \"hovertemplate\": \"<b>%{hovertext}</b><br><br>index=92<br>x=%{x}<br>y=%{y}<br>size=%{marker.color}\", \"hovertext\": [92.0], \"legendgroup\": \"\", \"marker\": {\"color\": [92], \"coloraxis\": \"coloraxis\", \"size\": [92], \"sizemode\": \"area\", \"sizeref\": 0.03272727272727273, \"symbol\": \"circle\"}, \"mode\": \"markers\", \"name\": \"\", \"showlegend\": false, \"x\": [92], \"xaxis\": \"x\", \"y\": [-0.7794660696158047], \"yaxis\": \"y\", \"type\": \"scatter\"}], \"name\": \"92\"}, {\"data\": [{\"hoverlabel\": {\"namelength\": 0}, \"hovertemplate\": \"<b>%{hovertext}</b><br><br>index=93<br>x=%{x}<br>y=%{y}<br>size=%{marker.color}\", \"hovertext\": [93.0], \"legendgroup\": \"\", \"marker\": {\"color\": [93], \"coloraxis\": \"coloraxis\", \"size\": [93], \"sizemode\": \"area\", \"sizeref\": 0.03272727272727273, \"symbol\": \"circle\"}, \"mode\": \"markers\", \"name\": \"\", \"showlegend\": false, \"x\": [93], \"xaxis\": \"x\", \"y\": [-0.9482821412699473], \"yaxis\": \"y\", \"type\": \"scatter\"}], \"name\": \"93\"}, {\"data\": [{\"hoverlabel\": {\"namelength\": 0}, \"hovertemplate\": \"<b>%{hovertext}</b><br><br>index=94<br>x=%{x}<br>y=%{y}<br>size=%{marker.color}\", \"hovertext\": [94.0], \"legendgroup\": \"\", \"marker\": {\"color\": [94], \"coloraxis\": \"coloraxis\", \"size\": [94], \"sizemode\": \"area\", \"sizeref\": 0.03272727272727273, \"symbol\": \"circle\"}, \"mode\": \"markers\", \"name\": \"\", \"showlegend\": false, \"x\": [94], \"xaxis\": \"x\", \"y\": [-0.2452519854676543], \"yaxis\": \"y\", \"type\": \"scatter\"}], \"name\": \"94\"}, {\"data\": [{\"hoverlabel\": {\"namelength\": 0}, \"hovertemplate\": \"<b>%{hovertext}</b><br><br>index=95<br>x=%{x}<br>y=%{y}<br>size=%{marker.color}\", \"hovertext\": [95.0], \"legendgroup\": \"\", \"marker\": {\"color\": [95], \"coloraxis\": \"coloraxis\", \"size\": [95], \"sizemode\": \"area\", \"sizeref\": 0.03272727272727273, \"symbol\": \"circle\"}, \"mode\": \"markers\", \"name\": \"\", \"showlegend\": false, \"x\": [95], \"xaxis\": \"x\", \"y\": [0.683261714736121], \"yaxis\": \"y\", \"type\": \"scatter\"}], \"name\": \"95\"}, {\"data\": [{\"hoverlabel\": {\"namelength\": 0}, \"hovertemplate\": \"<b>%{hovertext}</b><br><br>index=96<br>x=%{x}<br>y=%{y}<br>size=%{marker.color}\", \"hovertext\": [96.0], \"legendgroup\": \"\", \"marker\": {\"color\": [96], \"coloraxis\": \"coloraxis\", \"size\": [96], \"sizemode\": \"area\", \"sizeref\": 0.03272727272727273, \"symbol\": \"circle\"}, \"mode\": \"markers\", \"name\": \"\", \"showlegend\": false, \"x\": [96], \"xaxis\": \"x\", \"y\": [0.9835877454343449], \"yaxis\": \"y\", \"type\": \"scatter\"}], \"name\": \"96\"}, {\"data\": [{\"hoverlabel\": {\"namelength\": 0}, \"hovertemplate\": \"<b>%{hovertext}</b><br><br>index=97<br>x=%{x}<br>y=%{y}<br>size=%{marker.color}\", \"hovertext\": [97.0], \"legendgroup\": \"\", \"marker\": {\"color\": [97], \"coloraxis\": \"coloraxis\", \"size\": [97], \"sizemode\": \"area\", \"sizeref\": 0.03272727272727273, \"symbol\": \"circle\"}, \"mode\": \"markers\", \"name\": \"\", \"showlegend\": false, \"x\": [97], \"xaxis\": \"x\", \"y\": [0.37960773902752165], \"yaxis\": \"y\", \"type\": \"scatter\"}], \"name\": \"97\"}, {\"data\": [{\"hoverlabel\": {\"namelength\": 0}, \"hovertemplate\": \"<b>%{hovertext}</b><br><br>index=98<br>x=%{x}<br>y=%{y}<br>size=%{marker.color}\", \"hovertext\": [98.0], \"legendgroup\": \"\", \"marker\": {\"color\": [98], \"coloraxis\": \"coloraxis\", \"size\": [98], \"sizemode\": \"area\", \"sizeref\": 0.03272727272727273, \"symbol\": \"circle\"}, \"mode\": \"markers\", \"name\": \"\", \"showlegend\": false, \"x\": [98], \"xaxis\": \"x\", \"y\": [-0.5733818719904229], \"yaxis\": \"y\", \"type\": \"scatter\"}], \"name\": \"98\"}, {\"data\": [{\"hoverlabel\": {\"namelength\": 0}, \"hovertemplate\": \"<b>%{hovertext}</b><br><br>index=99<br>x=%{x}<br>y=%{y}<br>size=%{marker.color}\", \"hovertext\": [99.0], \"legendgroup\": \"\", \"marker\": {\"color\": [99], \"coloraxis\": \"coloraxis\", \"size\": [99], \"sizemode\": \"area\", \"sizeref\": 0.03272727272727273, \"symbol\": \"circle\"}, \"mode\": \"markers\", \"name\": \"\", \"showlegend\": false, \"x\": [99], \"xaxis\": \"x\", \"y\": [-0.9992068341863537], \"yaxis\": \"y\", \"type\": \"scatter\"}], \"name\": \"99\"}]);\n",
       "                        }).then(function(){\n",
       "                            \n",
       "var gd = document.getElementById('cfa05510-4171-4645-b725-711d276e0a49');\n",
       "var x = new MutationObserver(function (mutations, observer) {{\n",
       "        var display = window.getComputedStyle(gd).display;\n",
       "        if (!display || display === 'none') {{\n",
       "            console.log([gd, 'removed!']);\n",
       "            Plotly.purge(gd);\n",
       "            observer.disconnect();\n",
       "        }}\n",
       "}});\n",
       "\n",
       "// Listen for the removal of the full notebook cells\n",
       "var notebookContainer = gd.closest('#notebook-container');\n",
       "if (notebookContainer) {{\n",
       "    x.observe(notebookContainer, {childList: true});\n",
       "}}\n",
       "\n",
       "// Listen for the clearing of the current output cell\n",
       "var outputEl = gd.closest('.output');\n",
       "if (outputEl) {{\n",
       "    x.observe(outputEl, {childList: true});\n",
       "}}\n",
       "\n",
       "                        })\n",
       "                };\n",
       "                });\n",
       "            </script>\n",
       "        </div>"
      ]
     },
     "metadata": {},
     "output_type": "display_data"
    }
   ],
   "source": [
    "import plotly.express as px\n",
    "df = pd.DataFrame({'x': x, 'y': y})\n",
    "df['index'] = df.index\n",
    "df['size'] = df.index\n",
    "\n",
    "px.scatter(df, x=\"x\", y=\"y\", animation_frame='index', hover_name=\"x\", size=\"size\", color=\"size\",\n",
    "           size_max=55, range_x=[0,100], range_y=[0,1])"
   ]
  }
 ],
 "metadata": {
  "kernelspec": {
   "display_name": "Python 3",
   "language": "python",
   "name": "python3"
  },
  "language_info": {
   "codemirror_mode": {
    "name": "ipython",
    "version": 3
   },
   "file_extension": ".py",
   "mimetype": "text/x-python",
   "name": "python",
   "nbconvert_exporter": "python",
   "pygments_lexer": "ipython3",
   "version": "3.7.2"
  }
 },
 "nbformat": 4,
 "nbformat_minor": 2
}
